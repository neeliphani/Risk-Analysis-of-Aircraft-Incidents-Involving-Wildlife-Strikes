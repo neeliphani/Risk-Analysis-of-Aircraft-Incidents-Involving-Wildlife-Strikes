{
 "cells": [
  {
   "cell_type": "markdown",
   "metadata": {},
   "source": [
    "# Unit 2 Assessment"
   ]
  },
  {
   "cell_type": "markdown",
   "metadata": {},
   "source": [
    "In this assignment, we will focus on airline incidents. The data set for this assignment includes information on the cost of bird strikes. Use this data set to see if you can predict the cost of a bird strike (i.e., the `Total Cost` column in the data set) based on the attributes of the incident. This is important because this model can make a cost prediction as soon as a bird strike incident happens."
   ]
  },
  {
   "cell_type": "markdown",
   "metadata": {},
   "source": [
    "## Description of Variables\n",
    "\n",
    "The description of variables are provided in \"Airline - Data Dictionary.docx\""
   ]
  },
  {
   "cell_type": "markdown",
   "metadata": {},
   "source": [
    "## Goal\n",
    "\n",
    "Use the **airline.csv** data set and build models to predict **Total Cost**.\n",
    "\n",
    "**Be careful: this is a REGRESSION task**"
   ]
  },
  {
   "cell_type": "markdown",
   "metadata": {},
   "source": [
    "## Submission:\n",
    "\n",
    "Please save and submit this Jupyter notebook file. The correctness of the code matters for your grade. **Readability and organization of your code is also important.** You may lose points for submitting unreadable/undecipherable code. Therefore, use markdown cells to create sections, and use comments where necessary.\n"
   ]
  },
  {
   "cell_type": "markdown",
   "metadata": {},
   "source": [
    "## Important hints:\n",
    "\n",
    "* This assignment requires you to work with a text-based column in addition to regular numeric/categorical columns. So you will have to pay attention to your pipelines during data processing.\n",
    "* You can do your data prep before or after the train/test split. Regardless, you should use train_test_split only once. If you find yourself using it twice, it means you are doing something wrong.\n",
    "* Recommended approach: \n",
    "    * import the data and perform the train/test split - like we always do. \n",
    "    * identify the names of numeric, categorical, feature engineered, and text columns - like we always do\n",
    "    * create individual pipelines for each type of column - like we always do. For the text pipeline, I would recommend the TFIDF Vectorizer with SVDs. Though, you can also use TFIDF Vectorizer with top N terms (without SVDs).\n",
    "    * combine all pipelines using the column transformer - like we always do "
   ]
  },
  {
   "cell_type": "markdown",
   "metadata": {},
   "source": [
    "# Section 1: "
   ]
  },
  {
   "cell_type": "markdown",
   "metadata": {},
   "source": [
    "## Data Prep (5 points)"
   ]
  },
  {
   "cell_type": "code",
   "execution_count": 253,
   "metadata": {},
   "outputs": [],
   "source": [
    "import numpy as np\n",
    "import pandas as pd\n",
    "\n",
    "np.random.seed(1941)"
   ]
  },
  {
   "cell_type": "code",
   "execution_count": 254,
   "metadata": {},
   "outputs": [
    {
     "data": {
      "text/html": [
       "<div>\n",
       "<style scoped>\n",
       "    .dataframe tbody tr th:only-of-type {\n",
       "        vertical-align: middle;\n",
       "    }\n",
       "\n",
       "    .dataframe tbody tr th {\n",
       "        vertical-align: top;\n",
       "    }\n",
       "\n",
       "    .dataframe thead th {\n",
       "        text-align: right;\n",
       "    }\n",
       "</style>\n",
       "<table border=\"1\" class=\"dataframe\">\n",
       "  <thead>\n",
       "    <tr style=\"text-align: right;\">\n",
       "      <th></th>\n",
       "      <th>Aircraft</th>\n",
       "      <th>Number_Objects</th>\n",
       "      <th>Engines</th>\n",
       "      <th>Origin State</th>\n",
       "      <th>Phase</th>\n",
       "      <th>Description</th>\n",
       "      <th>Object Size</th>\n",
       "      <th>Weather</th>\n",
       "      <th>Warning</th>\n",
       "      <th>Altitude</th>\n",
       "      <th>Total Cost</th>\n",
       "    </tr>\n",
       "  </thead>\n",
       "  <tbody>\n",
       "    <tr>\n",
       "      <th>0</th>\n",
       "      <td>PA</td>\n",
       "      <td>37</td>\n",
       "      <td>1.0</td>\n",
       "      <td>Florida</td>\n",
       "      <td>Descent</td>\n",
       "      <td>BIRD, BROWN BIRD. A/C WAS DESCENDING INTO PATT...</td>\n",
       "      <td>Large</td>\n",
       "      <td>No Cloud</td>\n",
       "      <td>N</td>\n",
       "      <td>1500.0</td>\n",
       "      <td>690</td>\n",
       "    </tr>\n",
       "    <tr>\n",
       "      <th>1</th>\n",
       "      <td>C</td>\n",
       "      <td>43</td>\n",
       "      <td>1.0</td>\n",
       "      <td>Florida</td>\n",
       "      <td>Approach</td>\n",
       "      <td>BIRD SHATTERED L SIDE OF WINDHSLD. STUDENT REC...</td>\n",
       "      <td>Large</td>\n",
       "      <td>No Cloud</td>\n",
       "      <td>Y</td>\n",
       "      <td>2000.0</td>\n",
       "      <td>570</td>\n",
       "    </tr>\n",
       "    <tr>\n",
       "      <th>2</th>\n",
       "      <td>B-737</td>\n",
       "      <td>71</td>\n",
       "      <td>2.0</td>\n",
       "      <td>Oklahoma</td>\n",
       "      <td>Climb</td>\n",
       "      <td>MEDIUM SIZED BLACK BIRDS. CONTRACT MX INSPN OF...</td>\n",
       "      <td>Medium</td>\n",
       "      <td>No Cloud</td>\n",
       "      <td>N</td>\n",
       "      <td>1100.0</td>\n",
       "      <td>1027</td>\n",
       "    </tr>\n",
       "    <tr>\n",
       "      <th>3</th>\n",
       "      <td>Airbus</td>\n",
       "      <td>29</td>\n",
       "      <td>2.0</td>\n",
       "      <td>Wisconsin</td>\n",
       "      <td>Approach</td>\n",
       "      <td>ID BY SMITHSONIAN, FAA 3881. DNA. 2 CRACKS IN ...</td>\n",
       "      <td>Large</td>\n",
       "      <td>No Cloud</td>\n",
       "      <td>Y</td>\n",
       "      <td>200.0</td>\n",
       "      <td>77479</td>\n",
       "    </tr>\n",
       "    <tr>\n",
       "      <th>4</th>\n",
       "      <td>B-737</td>\n",
       "      <td>32</td>\n",
       "      <td>2.0</td>\n",
       "      <td>Texas</td>\n",
       "      <td>Approach</td>\n",
       "      <td>BIRD SEEN AND HEARD THAT STRUCK RADOME. UPON I...</td>\n",
       "      <td>Small</td>\n",
       "      <td>No Cloud</td>\n",
       "      <td>N</td>\n",
       "      <td>1000.0</td>\n",
       "      <td>411</td>\n",
       "    </tr>\n",
       "  </tbody>\n",
       "</table>\n",
       "</div>"
      ],
      "text/plain": [
       "  Aircraft  Number_Objects  Engines Origin State     Phase  \\\n",
       "0       PA              37      1.0      Florida   Descent   \n",
       "1        C              43      1.0      Florida  Approach   \n",
       "2    B-737              71      2.0     Oklahoma     Climb   \n",
       "3   Airbus              29      2.0    Wisconsin  Approach   \n",
       "4    B-737              32      2.0        Texas  Approach   \n",
       "\n",
       "                                         Description Object Size   Weather  \\\n",
       "0  BIRD, BROWN BIRD. A/C WAS DESCENDING INTO PATT...       Large  No Cloud   \n",
       "1  BIRD SHATTERED L SIDE OF WINDHSLD. STUDENT REC...       Large  No Cloud   \n",
       "2  MEDIUM SIZED BLACK BIRDS. CONTRACT MX INSPN OF...      Medium  No Cloud   \n",
       "3  ID BY SMITHSONIAN, FAA 3881. DNA. 2 CRACKS IN ...       Large  No Cloud   \n",
       "4  BIRD SEEN AND HEARD THAT STRUCK RADOME. UPON I...       Small  No Cloud   \n",
       "\n",
       "  Warning  Altitude  Total Cost  \n",
       "0       N    1500.0         690  \n",
       "1       Y    2000.0         570  \n",
       "2       N    1100.0        1027  \n",
       "3       Y     200.0       77479  \n",
       "4       N    1000.0         411  "
      ]
     },
     "execution_count": 254,
     "metadata": {},
     "output_type": "execute_result"
    }
   ],
   "source": [
    "airline = pd.read_csv(\"airline.csv\")\n",
    "airline.head()"
   ]
  },
  {
   "cell_type": "code",
   "execution_count": 255,
   "metadata": {},
   "outputs": [],
   "source": [
    "airline['Warning'] = airline['Warning'].map({'Y': 1, 'N': 0})"
   ]
  },
  {
   "cell_type": "code",
   "execution_count": 256,
   "metadata": {},
   "outputs": [],
   "source": [
    "airline['Description'].fillna('missing', inplace=True)"
   ]
  },
  {
   "cell_type": "code",
   "execution_count": 257,
   "metadata": {},
   "outputs": [],
   "source": [
    "from sklearn.model_selection import train_test_split\n",
    "\n",
    "train_set, test_set = train_test_split(airline, test_size=0.3)"
   ]
  },
  {
   "cell_type": "code",
   "execution_count": 258,
   "metadata": {},
   "outputs": [
    {
     "data": {
      "text/plain": [
       "Aircraft           0\n",
       "Number_Objects     0\n",
       "Engines           16\n",
       "Origin State      12\n",
       "Phase             10\n",
       "Description        0\n",
       "Object Size       10\n",
       "Weather            0\n",
       "Warning           10\n",
       "Altitude          10\n",
       "Total Cost         0\n",
       "dtype: int64"
      ]
     },
     "execution_count": 258,
     "metadata": {},
     "output_type": "execute_result"
    }
   ],
   "source": [
    "train_set.isna().sum()"
   ]
  },
  {
   "cell_type": "code",
   "execution_count": 259,
   "metadata": {},
   "outputs": [
    {
     "data": {
      "text/plain": [
       "Aircraft           0\n",
       "Number_Objects     0\n",
       "Engines           13\n",
       "Origin State       6\n",
       "Phase              4\n",
       "Description        0\n",
       "Object Size        4\n",
       "Weather            0\n",
       "Warning            4\n",
       "Altitude           4\n",
       "Total Cost         0\n",
       "dtype: int64"
      ]
     },
     "execution_count": 259,
     "metadata": {},
     "output_type": "execute_result"
    }
   ],
   "source": [
    "test_set.isna().sum()"
   ]
  },
  {
   "cell_type": "code",
   "execution_count": 260,
   "metadata": {},
   "outputs": [],
   "source": [
    "from sklearn.compose import ColumnTransformer\n",
    "from sklearn.pipeline import Pipeline\n",
    "from sklearn.impute import SimpleImputer\n",
    "from sklearn.preprocessing import StandardScaler\n",
    "from sklearn.preprocessing import OneHotEncoder\n",
    "from sklearn.preprocessing import FunctionTransformer"
   ]
  },
  {
   "cell_type": "code",
   "execution_count": 261,
   "metadata": {},
   "outputs": [],
   "source": [
    "train_target = train_set['Total Cost']\n",
    "test_target = test_set['Total Cost']\n",
    "\n",
    "train_inputs = train_set.drop(['Total Cost'], axis=1)\n",
    "test_inputs = test_set.drop(['Total Cost'], axis=1)"
   ]
  },
  {
   "cell_type": "markdown",
   "metadata": {},
   "source": [
    "## Feature Engineering (1 point)\n",
    "\n",
    "Create one NEW feature from existing data. You either transform a single variable, or create a new variable from existing ones. \n",
    "\n",
    "Grading: \n",
    "- 0.5 points for creating the new feature correctly\n",
    "- 0.5 points for the justification of the new feature (i.e., why did you create this new feature)"
   ]
  },
  {
   "cell_type": "markdown",
   "metadata": {},
   "source": [
    "Justification \n",
    "The Ratio of altitude to number of objects specfifies at a given altitude what protion of bird strikes took places by this we can know at which range of altitudes the more number of birds strike occured."
   ]
  },
  {
   "cell_type": "code",
   "execution_count": 262,
   "metadata": {},
   "outputs": [],
   "source": [
    "\n",
    "def fea_new_col(df):\n",
    "    df1 = df.copy()\n",
    "    df1['Ratio of Altitude to Number_Objects'] = (df1['Altitude']/df1['Number_Objects']).fillna(0)\n",
    "    df1['Ratio of Altitude to Number_Objects'].replace(np.inf,1,inplace=True)\n",
    "    return df1[['Ratio of Altitude to Number_Objects']]"
   ]
  },
  {
   "cell_type": "code",
   "execution_count": 263,
   "metadata": {},
   "outputs": [
    {
     "data": {
      "text/html": [
       "<div>\n",
       "<style scoped>\n",
       "    .dataframe tbody tr th:only-of-type {\n",
       "        vertical-align: middle;\n",
       "    }\n",
       "\n",
       "    .dataframe tbody tr th {\n",
       "        vertical-align: top;\n",
       "    }\n",
       "\n",
       "    .dataframe thead th {\n",
       "        text-align: right;\n",
       "    }\n",
       "</style>\n",
       "<table border=\"1\" class=\"dataframe\">\n",
       "  <thead>\n",
       "    <tr style=\"text-align: right;\">\n",
       "      <th></th>\n",
       "      <th>Ratio of Altitude to Number_Objects</th>\n",
       "    </tr>\n",
       "  </thead>\n",
       "  <tbody>\n",
       "    <tr>\n",
       "      <th>984</th>\n",
       "      <td>0.000000</td>\n",
       "    </tr>\n",
       "    <tr>\n",
       "      <th>525</th>\n",
       "      <td>1.704545</td>\n",
       "    </tr>\n",
       "    <tr>\n",
       "      <th>863</th>\n",
       "      <td>0.000000</td>\n",
       "    </tr>\n",
       "    <tr>\n",
       "      <th>725</th>\n",
       "      <td>5.555556</td>\n",
       "    </tr>\n",
       "    <tr>\n",
       "      <th>298</th>\n",
       "      <td>61.224490</td>\n",
       "    </tr>\n",
       "    <tr>\n",
       "      <th>...</th>\n",
       "      <td>...</td>\n",
       "    </tr>\n",
       "    <tr>\n",
       "      <th>946</th>\n",
       "      <td>39.473684</td>\n",
       "    </tr>\n",
       "    <tr>\n",
       "      <th>181</th>\n",
       "      <td>2.127660</td>\n",
       "    </tr>\n",
       "    <tr>\n",
       "      <th>918</th>\n",
       "      <td>96.825397</td>\n",
       "    </tr>\n",
       "    <tr>\n",
       "      <th>556</th>\n",
       "      <td>0.158730</td>\n",
       "    </tr>\n",
       "    <tr>\n",
       "      <th>1023</th>\n",
       "      <td>10.638298</td>\n",
       "    </tr>\n",
       "  </tbody>\n",
       "</table>\n",
       "<p>844 rows × 1 columns</p>\n",
       "</div>"
      ],
      "text/plain": [
       "      Ratio of Altitude to Number_Objects\n",
       "984                              0.000000\n",
       "525                              1.704545\n",
       "863                              0.000000\n",
       "725                              5.555556\n",
       "298                             61.224490\n",
       "...                                   ...\n",
       "946                             39.473684\n",
       "181                              2.127660\n",
       "918                             96.825397\n",
       "556                              0.158730\n",
       "1023                            10.638298\n",
       "\n",
       "[844 rows x 1 columns]"
      ]
     },
     "execution_count": 263,
     "metadata": {},
     "output_type": "execute_result"
    }
   ],
   "source": [
    "fea_new_col(train_inputs)"
   ]
  },
  {
   "cell_type": "code",
   "execution_count": 264,
   "metadata": {},
   "outputs": [],
   "source": [
    "#Identify the numerical columns\n",
    "numeric_columns = train_inputs.select_dtypes(include=[np.number]).columns.to_list()\n",
    "\n",
    "# Identify the categorical columns\n",
    "categorical_columns = train_inputs.select_dtypes('object').columns.to_list()\n",
    "\n",
    "# Identifying the binary columns\n",
    "binary_columns = ['Warning']"
   ]
  },
  {
   "cell_type": "code",
   "execution_count": 265,
   "metadata": {},
   "outputs": [],
   "source": [
    "for col in binary_columns:\n",
    " numeric_columns.remove(col)"
   ]
  },
  {
   "cell_type": "code",
   "execution_count": 266,
   "metadata": {},
   "outputs": [
    {
     "data": {
      "text/plain": [
       "['Number_Objects', 'Engines', 'Altitude']"
      ]
     },
     "execution_count": 266,
     "metadata": {},
     "output_type": "execute_result"
    }
   ],
   "source": [
    "numeric_columns"
   ]
  },
  {
   "cell_type": "code",
   "execution_count": 267,
   "metadata": {},
   "outputs": [],
   "source": [
    "for col in ['Description']:\n",
    " categorical_columns.remove(col)"
   ]
  },
  {
   "cell_type": "code",
   "execution_count": 268,
   "metadata": {},
   "outputs": [
    {
     "data": {
      "text/plain": [
       "['Aircraft', 'Origin State', 'Phase', 'Object Size', 'Weather']"
      ]
     },
     "execution_count": 268,
     "metadata": {},
     "output_type": "execute_result"
    }
   ],
   "source": [
    "categorical_columns"
   ]
  },
  {
   "cell_type": "code",
   "execution_count": 269,
   "metadata": {},
   "outputs": [],
   "source": [
    "feat_eng_columns = ['Altitude','Number_Objects']"
   ]
  },
  {
   "cell_type": "markdown",
   "metadata": {},
   "source": [
    "## Text Preparation "
   ]
  },
  {
   "cell_type": "code",
   "execution_count": 270,
   "metadata": {},
   "outputs": [],
   "source": [
    "from sklearn.feature_extraction.text import TfidfVectorizer\n",
    "from sklearn.decomposition import TruncatedSVD"
   ]
  },
  {
   "cell_type": "code",
   "execution_count": 271,
   "metadata": {},
   "outputs": [],
   "source": [
    "def txt_new_col(df):\n",
    "    #Create a copy so that we don't overwrite the existing dataframe\n",
    "    df1 = df.copy()\n",
    "    # First, conver the dataframe column to a numpy array. Then, call the ravel function to make it one-dimensional\n",
    "    return np.array(df).ravel()"
   ]
  },
  {
   "cell_type": "code",
   "execution_count": 272,
   "metadata": {},
   "outputs": [
    {
     "data": {
      "text/plain": [
       "array(['IMMATURE BALD EAGLE. DNT TO RT SIDE ANGLE OF ATTACK VANE. SMALL DENT IN FROTN OF AOA. A/C RETURNED TO LAND. FLT DELAYED 4 HRS 20 MINS. CREW PERFORMED A LOW APCH TO HAVE A/C INSPECTED FROM GROUND BEFORE LANDING.',\n",
       "       'BIRD WAS LODGED IN OUT FLAP OF RT WING. FLAP AND UNDERSIDE OF WING DENTED.',\n",
       "       ' ENG REPLACED DUE TO SEVERITY OF DAMAGED COMPRESSOR BLADES. INGESTION.',\n",
       "       'GOOSE HIT RT SIDE DAMAGING RT WING STRUT FUSELAGE TO STRUT FAIRING. AFTER LDG, 15 GEESE WERE SEEN IN GRASS BY RWY. STRIKE WAS REPTD TO GSO ATC & MX. A/C RETURNED TO SVC LATER IN DAY.',\n",
       "       \"DARK, MOONLESS NIGHT. HEARD LOUD IMPACT. 2 LRG DENTS ON LE RT WING. NO PROBLEM LDG. FOUND WHITE FEATHERS, BLOOD AND TISSUE AT IMPACT SITES. DENTS ABOUT 3' APART.\",\n",
       "       'INGESTED OWL ON DEPTR. RETD TO LAND.  ENG VIBRATION WENT TO FULL SCALE 2-3 MINUTES AFTER INGESTION. BORESCOPED. REPLACED 4 PAIRS OF BLADES.',\n",
       "       'BIRDS REPTD AS GULLS ON 1 FORM AND GOOSE ON ANOTHER. DMG TO ENG INLET REQD IMMED. REPAIR. NO ENG IRREGULARITIES',\n",
       "       'DMG TO #2 FAN. COST WAS FOR FAN BLADE REPLACEMENT.',\n",
       "       'HAVING JUST DROPPED THE NOSE WE SAW THREE OSPREYS. THEY HAD COME DOWN FROM THEIR PERCH TO THE RWY. TWO BIRDS HIT. THE ONE ON THE LT WAS HIT BY THE WING AND BOUNCED OFF WITH A BROKEN WING. THE ONE ON THE RIGHT WAS CLIPPED BY DESCENDING BLADE OF PROP. BOTH',\n",
       "       'F/O SAW BLURRED IMAGE PASS OVER HIS FWD WINDSCREEN AS WE HEARD A LOUD POP. A/C & ENGS HAD NO ILL EFFECT. INSPN FOUND NO DMG.',\n",
       "       'RH INBD LDG LIGHT LENS DAMAGE.',\n",
       "       'ID BY SMITHSONIAN. BIRD THOUGHT TO BE GULL. 1 HIT UPPER L CORNER OF WINDSHLD AND BROKE OUT TOP SECTION. 2ND BIRD HIT RT WING LEADING EDGE. WE MADE AN EMERGENCY LANDING. LANDED WITHOUT PROBLEMS. OUT OF SERVICE ABOUT 3 WEEKS. REPALCED WINDSHLD AND LEADING E',\n",
       "       'PELICAN WAS COLLECTED FROM END OF RWY 14. STRIKE CAUSED DMG TO ENG INJECTOR. (UPDATED COST 4/23/07)',\n",
       "       'DURING CLIMB CREW HEARD A LOUD BANG. INGESTED BIRD (SUSPECT GULL OR RAVEN) ON T/O ROTATION. LOW FLYBY WAS MADE TO INSPECT GEAR FOR DMG. PREC LDG MADE SHORTLY AFTER. NO VIZ DMG NOTED AT THIS TIME. BORESCOPE & CREW FLOWN IN TO INSPCT ENG. A/C WAS OK TO FLY.',\n",
       "       'ON CLIMB JUST AFTER CLEARING LOW FOG BANK, LRG BIRD WENT ALONG L SIDE AND HIT #1 ENG INLET COWLING ON UPPER OUTSIDE. LRG DENT ABOUT 8\" BY 3\" AND AT LEAST 1\" DEEP. NO INDICATIONS ON ENG INSTRUMENTS. ENG WORKED NORMALLY. CONTD TO LAX WHERE A/C WAS REMOVED F',\n",
       "       'A/C STRUCK BIRD RIGHT AFTER ROTATION DURING INITIAL CLIMB. DAMAGED L WING ON THE 5TH TKS PANEL FROM WINGROOT. 4-5 DENTS ALONG CENTER PART OF PANEL ABOUT 8\" LONG AND 1-2 \" HIGH WITH VARIOUS DEPTH. THIS EXCEEDS THE ALLOWABLE DAMAGE OF DEPTH FOR MULTIPLE DEN',\n",
       "       'LEADING EDGE OF RT WING DENTED. BIRD ID NOT VERIFIED BUT SUSPECTED.',\n",
       "       'HIT AT LEAST 3 BIRDS. BLOOD ON #1 ENG COWLING, L FLAP AND RT FRONT FUSELAGE. ARPT TYPICALLY HAS A FLOCK OF BIRDS BUT THEY ARE NOT REALLY CLOSE TOGETHER. EVERY TIME THE CREW HAS FLONW THAT PATTERN THERE ARE QUITE A FEW HERE. NO DMG. COST FOR 1 HR INSPN.',\n",
       "       'WILL NEED TO REPLACE ENG DUE TO DMG. LOST REVENUE WAS ESTIMATED BY OPER AT 16 SEGMENTS AT $250/SEAT AT 50% LOAD= $36,000.',\n",
       "       'ID BY SMITHSONIAN. BIRD STRUCK DURING LANDING RWY 25L WITH MINOR DMG ON #1 ENG REPTD BY CONTRACTED EXCEL MX.',\n",
       "       \"HIT BIRD WHILE INBOUND (ASSUME APCH). ARFF RESPONDED. A/C TAXIED TO RAMP W/O INCIDENT. SIGNIFICANT STRUCTURAL DMG REPTD TO LE K WING, MEASURING APPROX 3' BY 2 '. ID BY SMITHSONIAN FAA 1421\",\n",
       "       'BIG DENT. NO BIRD REMAINS COLLECTED.',\n",
       "       'BIRD HIT LT LOWER FUSELAGE BEHIND RADOME. NO DMG NOTED.',\n",
       "       'DMG TO RT WINT TIP SECTION. I SAW A BLACK SPOT GO BY THE WINDSHLD.',\n",
       "       'ID BY SMITHSONIAN, FAA 3723. GREAT EGRET AND WOOD STORK WERE IDENTIFIED. WHOLE FEATHER AND DNA. PILOT REPTD STRIKING 3 LARGE WHITE BIRDS OFF AIRPT PROPERTY. RETD TO LAND W/O INCIDENT. (DATA ENTRY NOTE: DAILY REPORT SAID, \" NO DAMAGE REPORTED.\"',\n",
       "       'A/C WAS SUBSTANTIALLY DAMAGED ON LDG AFTER COLLIDING WITH A DEER ON RWY. SAW 4 DEER RUN ACROSS RWY FROM WEST. PILOT TRIED TO AVOID THEM BY RAISING NOSE TO LET DEER GO UNDER. 1 HIT AND SHEARED OFF THE NOSE WHEEL CAUSING NOSE AND PROP TO HIT RWY. PILOT LOWE',\n",
       "       'ID BY SMITHSONIAN FAA 398.  APPROX 30 MINUTES AFTER SUNDOWN, A FLOCK OF ABOUT 20 SIZEABLE BIRDS CAME INTO RANGE OF THE LDG LIGHT. THERE WERE 3-4 DIRECT HITS TO FUSELAGE, WING LDG GEAR AND PROP. BIRDS WERE NOT SEEN UNTIL ILLUMINATED BY LDG LIGHT.  SPLATTER',\n",
       "       \"FLATTENED LEADING EDGE OF WING ABOUT 2' INBD FROM WINGTIP.\",\n",
       "       'BIRDSTRIKE ON SHORT FINAL. CABLE CAME OFF PULLEY ON LDG GEAR. PLANE MISSED 1 FLT. NO COSTS AVAILABLE FROM AIRLINE. RWY WAS CLOSED WHILE PLANE WAS TOWED. THIS HAWK HAD BEEN BANDED & RELEASED 100 MILES FROM AIRPORT 1 YR 7 MOS EARLIER. PHOTOS.',\n",
       "       \"HEARD A THUMP BELOW PILOT'S WINDOW. FOUND RED STREAK ON POST FLT INSPN. ABOUT 2 X 10 INCHES. ENGS NORMAL.\",\n",
       "       \"ID BY SMITHSONIAN, FAA 2181. DESCENDING INTO BWI AT NIGHT, 7,000 FT MSL, BOTH CAPT AND FO HEARD A LOUD THUMP UNDER AND TO THE RT OF THE F/O'S SEAT. POST FLT INSPN FOUND A BIRDSTRIKE ON RT LWER FUSELAGE AND A 2NDRY STRIKE WITH FEATHERS AND BLOOD AT THE INT\",\n",
       "       'ON APCH, BIRD HIT RT WING LE INBD OF TIP TANK. RT ON RIB. PLANE STILL FLYABLE.',\n",
       "       'STRIKE OCCURRED AT VR. A STORM HAD PASSED ABOUT 1-2 HRS EARLIER. RWY WAS WET. NOTAM WARNING. PILOT INFORMED TOWER THEY HAD STRUCK SOME BIRDS DURING T/O. TWR NOTIFIED OPS. FOUND 3 DOVES, 2 ON CENTERLINE AND 1 IN GRASS. ID BY SMITHSONIAN, FAA 1566. REMAINS',\n",
       "       \"HIT ABOVE CAPT'S WINDSHLD.\",\n",
       "       '7 GEESE SEEN, 2 STRUCK. A/C ON DOWNWIND FOR 27 WHEN STRIKE OCCURRED. COST FOR 1 HR LABOR DUE TO INSPN. (ASSUME CANADA GOOSE FROM DATE AND LOCATION)',\n",
       "       'RWY WAS CLOSED. A/C FERRIED FOR INSPN. LANDING GEAR, ENG AND PROP HAD TO BE REMOVED FOR INSPN ACCORDING TO A/C MANU. REQUIREMENTS.  BROKE HYDRAULIC LINES IN LDG GEAR. HAD SPARE A/C, ONLY  LOST REVENUE ON 1 FLT. CHANGED PROP BEFORE FERRY FLT. GEAR COST $56',\n",
       "       'DENTED WING',\n",
       "       'I WAS THE F/O FLYING. AFTER ALIGNING ON THE RWY, THE CAPT STATED, \"YOUR AIRCRAFT\", AND I COMMENCED T/O ROLL. I NOTED SEVERAL GEESE WELL DOWN THE RWY, OFF THE RT EDGE, MOVING FURTHER TO THE RT. WE CONTINUED ACCELERATING AND AS WE PASSED 80 KNOTS THE GEESE',\n",
       "       \"GRAY BIRD. DEFORMED SHEET METAL ON PILOT'S CHIN BUBBLE.\",\n",
       "       \"ENG REPLACEMENT REQD. KILLDEER'S HEAD FOUND ON RWY. FIRST STAGE FAN HAD SEVERAL BLADES BENT. IT WAS JUST 1BIRD THAT WAS INGESTED ACCORDING TO THE REMAINS FOUND AND WHAT THE PILOT SAW.\",\n",
       "       'ATIS WARNING. ENG VIBRATION.  BIRDS HIT AT ROTATION. A COUPLE BOUNCED OFF THE NOSE AND AT LEAST 1 WAS INGESTED. SEVERAL FAN BLADES AND THE COMPRESSOR WERE DAMAGED.  FLT DIVERTED TO HPN',\n",
       "       'HIT #1 ENG ITT PROBE. DAMAGED MANY FAN BLADES. ENG REPLACED. OVERWT LDG INSPN. 3 WEEKS OUT OF SVC. (DATA ENTRY NOTE: BIRD REPTD AS DOVE, ASSUME MOURNING DOVE FROM WS BIOL INFO. NO CONFIRMATION ABOUT SPECIES, HOWEVER.)',\n",
       "       'missing',\n",
       "       'CREW SAW BIRD. THOUGHT IT WAS A LRG HAWK WITH A 4+ FT WINGSPAN SITTING ON RWY. AS WE APCHD IT TRIED TO FLY. AFTER SEVERAL MANEUVERS THE BIRD PASSED BY THE COCKPIT ON L SIDE WITH VERY LOUD BANG AND ENG SURGE.  I CALLED ABORT AND CAPT EXECUTED THE ABORT AT',\n",
       "       'ID BY SMITHSONIAN.',\n",
       "       'ID BY SMITHSONIAN, FAA 2258. BIRD(S) INGESTED IN RT ENG. DECLARED EMERGENCY SHUT DOWN RT ENG & RETD TO LAND. BASED ON ENG DMG AND DISTRIBUTION OF DEBRIS (INLET ACOUSTIC TREATMENT, 13 FAN BLADES DAMAGED AND REQD REPLACEMENT. ENG WAS NOT SHUT DOWN UNTIL ON',\n",
       "       'ENG WAS CLEANED OF BIRD DEBRIS. NO FURTHER WORK WAS REQUIRED.',\n",
       "       'GOOSE FILLED THE WINDSHLD, IMPACTED A MOMENT LATER ON ROOF. TOOK OUT TCAS ANTENNA, DENTED SKIN, BLOOD ON VERT STABIL STARBOARD ANTENNA. NO TIME OUT OF SERVICE. ESTIMATED REPAIRS $2500 FOR ANTENNA AND SAME FOR REPAIRING MINOR DENT.',\n",
       "       'BIRD HIT INSIDE L ENG COWL, THRU THE PROP. LARGE PART OF WHAT APPEARED TO BE A BIRD BREAST WAS LODGED AGAINST THE FRONTMOST CYLINDER WALLS. PROP SLIGHTLY DAMAGED. AND WAS REPLACED. BECAUSE OF PROP STRIKE, ENG WAS ALSO CHANGED OUT. PHOTOS.',\n",
       "       'ID BY SMITHSONIAN, FAA 3160. DNA PILOT STATED HE WAS NOT WARNED OF BIRDS. TAXIED TO RAMP W/O INCIDENT. SEVERAL TISSUE AND FEATHER SAMPLES COLLECTED AND SENT TO SMITHSONIAN FOR ID. PILOT WILL PROVIDE USDA WITH COST OF REPAIRS ONCE COMPLETED. ARFF RESPONDED',\n",
       "       'SMALL BIRD (SPARROW SIZED) STRUCK NOSE GEAR DOOR, TOOK OUT CHUNK OF PAINT ABOUT 2\" SQUARE.(DATA ENTRY NOTE: RWY REPTD AS 31 BUT KDTO HAS RWYS 17 & 35.',\n",
       "       'POSSIBLE A GULL. DMG TO LEADING EDGE OF L WING.',\n",
       "       'ATC REPTD STRIKE. FOUND BIRD ON TWY A4. MINOR DENT ON OUTER EDGE OF WING NEAR WINGTIP.',\n",
       "       'ID BY SMITHSONIAN, FAA 2125.  PITOT TUBE DAMAGED AND REPLACED.',\n",
       "       'ID BY SMITHSONIAN. BOTH SETS OF REMAINS SAME SPECIES. PILOT  REPTD SEEING 2 BIRDS IN HIS PATH & FELT A VIBRATION IN THE RT ENG. THE GENERATOR WAS MALFUNCTIONING. A PAX REPTD SEEING A FIREBALL AND SMELLING SOMETHING BURNING.  EMERGENCY LDG. #2 ENG WAS SEVE',\n",
       "       'ID BY SMITHSONIAN, FAA 2747.  100% DNA MATCH.A/C WAS DEPARTING AND HIT THE BIRD ON CLIMBOUT. RETURNED TO ARPT. A/C WAS TAKEN OUT OF SERVICE. PAX WERE MOVED TO OTHER A/C. DAMAGED NOSE GEAR DOOR.',\n",
       "       '15 GEESE SEEN, 1 INGESTED. ENG APPEARED TO CONTIINUE RUNNING NORMALLY. DMG UNKN AT THIS TIME. (DATA ENTRY NOTE: ENG IS STILL IN PROCESS OF BEING REPAIRED AS OF 4/13/07, ESTIMATED TIME OUT OF SERVICE FOR THIS DATE) ESTIMATED COST WAS $62,700.',\n",
       "       'ID BY SMITHSONIAN, FAA 976. PAXS REPTD SEEING A FLOCK OF GEESE AT TIME OF STRIKE. RECOVERED ONLY 1 SML DOWNY FEATHER.  DMG TO RADOME AND L WING LE. PUNCTURED WING. PHOTOS SENT.',\n",
       "       'ENG EGT EXCEEDED MAX LIMIT 900-952 DEGREES. ENGINE WAS CHANGED. NO REMAINS COLLECTED AT ARPT. ENG MANU DOES NOT BELIEVE THE EGT EXCEEDANCE WAS RELATED TO THE BIRD AFTER DISCUSSION WITH THE AIRLINE REP.',\n",
       "       'ATIS WARNING. PILOT REPTD EXTENSIVE DMG TO RADOME WHICH WAS REPLACED. A/C TAKEN OUT OF SVC.',\n",
       "       'missing',\n",
       "       'NO DMG. RADAR IN WX/URB MODE. ALL LDG LIGHTS ON. A/C INSPCTD BY FLT CREW & CONTRACT MX PRIOR TO NEXT FLT. COST WAS FOR INSPN.',\n",
       "       'NO DMG',\n",
       "       'COULD NOT SEE DMG ON INSPN AFTER LANDING. LEARNED OF DMG ON SUBSEQUENT DEPARTURE WHEN VIBES WERE HIGH.',\n",
       "       'SAW BLUR LESS THAN 1 SECOND BEFORE IMPACT. CLEAR, MOONLIT NIGHT. BIRD CAME FROM DARK, FOREST AREA. HIT RT WING JUST OUTSIDE RT FUEL TANK. DMG TO RT WING. BELIEVE IT WAS A CANADA GOOSE.',\n",
       "       'UNKNOWN BIRD STRUCK ON CLIMB. NO DMG REPTD TO RADOME AT DEST. REMAINS NOT COLLECTED FOR ID. LOCATION REPTD AS KONT256/10.',\n",
       "       \"HIT BIRD ON L SIDE BETWEEN CAPT'S REAR WINDOW. LRG SMUDGE FOUND IN THAT AREA AND ON UNDERSIDE OF WING BTWN ENG AND FUSELAGE. NO DMG. TIME OUT OF SERVICE 15MINS.\",\n",
       "       \"HIT L SIDE FUSELAGE UNDER CAPT'S WINDOW. NO DMG. COST FOR 1 HR INSPN. CAPT HEARD A POP SOUND ON HIS SIDE OF A/C. SUSPECTED BIRDSTRIKE.\",\n",
       "       'TWO LEFT WING, ONE ON #1 ENG , TWO RT WNG. COST WAS FOR CONTACT MECHANIC INSPECTION. NO DMG. ONLY CLEAN UP.',\n",
       "       'NO DMG. LDG LIGHTS WERE ON. 20 MINS OUT OF SERVICE',\n",
       "       'NOSE GEAR HIT A COYOTE AND COLLAPSED. A/C SKIDDED TO STOP ON RWY. PROPELLERS WENT THRU SKIN OF A/C. MAY NOT BE REPAIRABLE. A/C WILL BE TOTALLED.',\n",
       "       'E2 COMPRESSOR TOTAL LOSS',\n",
       "       'IN FLT NO APPARENT DMG NOTED. WE WERE ENROUTE TO MAINTENANCE FACILITY (15 MIN FLT) FOR OTHER WORK. REQUESTED BIRDSTRIKE INSPN. THEY FOUND MICRO CRACKS AND MINOR DELAMINATION IN AREA OF STRIKE.',\n",
       "       'FLT 2215. LOUD NOISE & SLIGHT VIBRATION FELT WHEN FLAP HANDLE IS MOVED INTO EACH DETENT. INSPN CLEANED BLOOD & FEATHER SMEARS ON NOSE WHEEL WELL AREA IN INBD LHS OF #1 FAN COWL AND LEADING EDGE. COST WAS FOR LABOR, NOT DAMAGE REPAIRS.',\n",
       "       'NO VIZ DMG',\n",
       "       'RT ENG CHIN COWL IS DENTED. EVIDENCE OF BIRD PASSING THRU RT PROP, BUT NO DMG.',\n",
       "       'ON VERY SHORT FINAL, 1 VERY SML BIRD SEEN IN LDG LIGHTS. SML IMPACT HEARD FOLLOW A COUPLE OF SECONDS LATER BY ANOTHER ONE. CONTACT MX INSPN ONLY FOUND 1 VERY SML STREAK ON BOTTOM OF RADOME.',\n",
       "       'IN THE FLARE. A/C TIME OUT OF SERVICE = 1/2 HR.',\n",
       "       'ID BY SMITHSONIAN, FAA 1388. RT WING OF A/C NEEDED EXTENSIVE REPAIR. PILOT MADE EMERGENCY LANDING AT AIRPORT. RT WING EXTENSION WAS REPLACED. PHOTOS TAKEN.',\n",
       "       'NO APPARENT DMG.',\n",
       "       'RADAR WAS ON. MULTI FAN BLADES SHINGLED AND DMG TO OIL COOLER. ENG REMOVED. ID BY SMITHSONIAN FAA 985. (DAILY REPORT FROM TWR SAID DMG UNKN)',\n",
       "       'DMG TO FLAP',\n",
       "       'ID BY SMITHSONIAN, FAA 1768. SNARGE SENT TO SMITHSONIAN. COSTS DO NOT INCLUDE 55 MINUTES OF FLT TIME. REPLACED ENG PANEL. (OPS SUPV REPT SAID \"BIRD INGESTED AT ABOUT 400-500 FT AGLE. RETD TO LAND W/O INCIDENT. AFTER INSPN, AIRLINE REPTD NO DMG.\")',\n",
       "       'POSSIBLY A HAWK. BLOOD & FEATHERS ON #1 LEADING EDGE FLAP, BLOOD STREAK ON TOPF OF WING/ENG PYLONG. BIRD MUST HAVE DEFLECTED UP & OVER THE WING AFTER HITTING LE FLAP. ONLY COST WAS TO CALL OUT CONTRACT MX TO INSPECT & RELEASE A/C FOR SERVICE. TIME OUT OF',\n",
       "       'ID BY SMITHSONIAN, FAA 5609. WHOLE FEATHER. LESS THAN A MINUTE AFTER DEPARTURE, BIRD HIT DORSAL FIND CAUSED DAMAGE. A/C WILL BE OUT OF SERVICE UNTIL IT IS REPLACED. PHOTOS. NO PATIENT ON BOARD.',\n",
       "       'LH INBD SLAT ON WING WILL BE REPLACED. GULL? NO FEATHERS SAVED.',\n",
       "       '1 DEER RAN OUT FROM TREELINE AS A/C TOUCHED DOWN. IT PASSED UNDER L PROP, HIT L MAIN GEAR DOOR AND STRUT AND BUNCED UP INTO L FLAP. PILOT WAS ABLE TO SAFELY CONTROLL THE ROLLOUT. TREES ARE VERY CLOSE TO RWY. DEER ARE A KNOWN PROBLEM. ANOTHER A/C HIT A DEE',\n",
       "       'DMG TO OTBD SLAT REQUIRING OVERHAUL. BIRD REPTD AS GOOSE, ASSUME CANADA, FROM DATE AND LOCATION.',\n",
       "       'HIT FUSELAGE JUST ABOVE PILOTS WINDOW.',\n",
       "       'HIT RT NACELLE. NO DMG. CLEANED.', 'missing',\n",
       "       'TWO PIGEONS AND ONE STARLING ACCORDING TO ARPT OFFICIALS WHICH COLLECTED REMAINS. TIME OUT OF SERVICE =  0.5 HR.',\n",
       "       'COST REPT FOR CONTRACT MX INSPN.',\n",
       "       'DIDNT SEE ANY BIRDS IN FLT. DMG TO L WING JUST FWD OF TE FLAPS.',\n",
       "       'SPADE DOOR ON NOSE GEAR DAMAGED. STRIKE WAS 1.5 MILES FROM APCH END OF RWY. ID BY SMITHSONIAN. FAA 437.',\n",
       "       'HIT A FLOCK OF PIGEONS WHILE FLARING FOR T/D. PILOT REPTD NO VIZ EXTERNAL DMG. DMG WAS FOUND TO RT ENG.',\n",
       "       '1 BLADE OF #2 PROP DAMAGED. NOT REPAIRABLE',\n",
       "       'ID BY SMITHSONIAN, FAA 1572. FLT DELAY FOR 5 HRS. BORESCOPE INSPN FOUND NO ENG DMG. COST WAS FOR INSPN.',\n",
       "       'NOTICED BIRD SITTING ON CENTERLINE OF RWY. SINCE WE WERE PAST V1 WE WERE COMMITTED TO FLY. UPON BREAKING GROUND, BIRDS TOOK FLT. A/C AND BIRDS MET 10-20 FT ABOVE RWY. LOUD IMPACT ON LEFT SIDE OF A/C. NO ABNORMAL ENG INDICATIONS. HIT 3 GEESE ON DEPTR ROLL.',\n",
       "       'TIME OUT OF SERVICE 1/2 HR.  COST OF REPAIRS REPTD AS $300 BUT NO DMG CHECKED. COST OF INSPN REPTD AS $300. CALL TO PILOT CONFIRMED ONLY $300 COST FOR INSPN. NO DMG.',\n",
       "       'FLOCK OF BANDED RACING PIGEONS FLEW ACROSS RWY AS WE WERE IN FLARE FOR T/D. 5 WERE HIT. 1 ON WINDSCREEN, 3 ON RT FWD FUSELAGE & 1 ON RT LDG GEAR DOOR. NO INGESTIONS. SLIGHT DENT IN FWD FUSELAGE AND CRACKED PAINT.',\n",
       "       \"BIRD WAS ID'D BY WS BIOL. BIRD BOUNCED OFF OF COWLING AND WAS NOT INGESTED.\",\n",
       "       'AIRPORT REPT SAYS, \" SMALL STRIKE TO ENGINE COWLING. AIRPORT HAS TAKEN CONSIDERABLE MEASURE TO PREVENT WILDLIFE STRIKES A PRESCRIBED B THE 150 SERIES OF THE ADVISORY CIRCULARS.\" OTHER REPORT SAYS, \"EXTENSIVE STRUCTURAL DAMAGE UNDER THE NOSE. FUEL LINE CUT',\n",
       "       'HIT BIRD WHILE TURNING OVER GREAT SALT LAKE. PILOT REPTD SEEING BIRDS, POSSIBLY GULLS FLYING IN FRONT OF A/C. 1 HIT THE AOA SENSOR ON RT SIDE OF A/C.  IT THEN HIT THE #2 ENG COWLING CAUSING A LARGE GASH.ALSO DAMAGED FAN BALDE. REMAINS ON UNDERSIDE OF RT W',\n",
       "       'ID BY SMITHSONIAN, FAA 4504. DNA. UPON LDG, PILOT SAW 10 BIRDS FLY LFT TO RT. T LEAST 1 WENT OVER THE WINDSHLD. POST FLT INSPN FOUND STRIKE EVIDENCE ON PROP. WS TOOK DNA SWAB. A/C WAS GROUNDED FOR INSPN. NO DMG. OUT OF SERVICE 2.5 HRS.',\n",
       "       'IMPACTED A FLOCK OF LRG BIRDS, I BELIEVED TO BE GEESE. I SAW THEM A SECOND OR TWO BEFORE IMPACT. HEARD A LOUD BANG AND FELT A SHUDDER. LEVELED OFF AND REDUCED POWER IMMED. DIVERTED TO NUT TREE ARPT. A/C HANDLED NORMALLY. VISUAL INSPN FOUND NO DEFORMATION',\n",
       "       'SMALL EUROPEAN STARLING. 1200 AGL ON RWY C/L. $100 = INSPN COST.',\n",
       "       '\"BAKER\\'S DOZEN\" PIGEONS PUT DENT IN RT INBD FLAP. A/C DEPTD SAFELY AND FLEW TO EVV W/O INCIDENT. REPAIRED. ANOTHER REPORT STATED GULLS WERE STRUCK, THEY ALSO REPTD NO DMG.',\n",
       "       'DAMAGED L WING, DE-ICE BOOT, & L ENG AIR INTAKE.  BIRD WAS WEDGED IN AIR INTAKE. SEVERE VIBRATION IN L ENG. CLAMP FOR PROPS WERE BENT. GOVERNOR OF NEBRASKA WAS ON BOARD. BIRDS ID BY WS BIOL.',\n",
       "       'NOTHING BECAME OF THE MINOR STRIKE. THE APPROVED ENTRY PROCEDURE FOR ENTERING THE GFK AREA FROM THE NE TAKES PLANES DIRECTLY OVER A CITY SEPTIC RESERVOIR WHICH THE BIRD LOVE.',\n",
       "       'NO DMG TO BASIC STRUCTURE. PROTECTIVE PAINT ERODED APPROX 3 INCH CIRCLE AT IMPACT PT. LOCATION REPTD AS 17DME NE.',\n",
       "       'ID BY SMITHSONIAN. ON GO-AROUND (DUE TO BIRDS ON RWY) FROM LOW APRCH, FLOCK OF GULLS TOOK OFF. ONE STRUCK AND DMGD RT WING.',\n",
       "       'ON FINAL APCH AT OUTER MARKER FOREM, SML BIRD HIT JUST AHEAD OF AND BELOW L EYEBROW WINDOW. FOUND BLOOD SMEAR. COST WAS FOR BIRD STRIKE INSPN.',\n",
       "       'HIT LRG BIRD ON APCH IN LINE W/ RWY. DID NOT SEE THE BIRD. POST FLT INSPN FOUND DENT TO RT FWD FUSELAGE ABOVE COCKPIT. DMG WITHIN TOLERANCES FOR CONTD SVC. CONVERSATION WITH PILOT CONFIRMED MINOR DMG.',\n",
       "       'ID BY SMITHSONIAN. A/C ON FINAL FOR RWY 16R WHEN A BIRD STRUCK LT WING L/E LEAVING A DENT APPROX 8 INCHES LONG AND 4 INCHES WIDE AND 1 INCH DEEP. MX SAID THEY FOUND SOME FEATHERS IN ENG BUT DID NOT SEE ANY REMAINS AND NO APPEARANCE OF DMG IN ENG #1. ABLE',\n",
       "       'ID BY SMITHSONIAN, FAA 1877. INGESTED IN #2 ENG. MX INSPN. NO DMG.',\n",
       "       \"AT 1200 FT DOWN RWY, WE HIT 2 GEESE SLEEPING RT OF CENTERLINE ON RWY. IT WAS RAINING HARD AND WE DIDNT'S EE THEM UNTIL LANDING LITES ILLUMINATED THEM. HIT RT MAIN GEAR. DMG T OUT DEAR DOOR HINGE.\",\n",
       "       'LOCATION = MSP070015.',\n",
       "       'ON DESCENT TO HOSPITAL HELIPAD AT 2000 MSL STRUCK SMALL BIRD ON CENTER OF COPILOT (L) WINDSHLD. MX INSPECTED  A/C AND FOUND NO DMG. TIME OUT OF SERVICE = 2.5 HRS. DIST FROM ARPT = 9 MILES 341 DEGREES FROM KLFK.',\n",
       "       'BIRD SUDDENLY APPEARED IN WINDSHLD. PILOT DESCENDED TO AVOID CONTACT BUT BIRD HIT HORIZ STABILIZER WHERE IT ATTACHES TO FUSELAGE. COST ESTIMATED AT $5000 TO 10, 000. BIRD NOT RETRIEVED NOR SAMPLES TAKEN.',\n",
       "       'BLADE DMG FROM INGESTION. 6 BLADES REPAIRED, 4 NEW BLADES PURCHASED.',\n",
       "       'missing', 'NO REMAINS FOUND ON RWY.',\n",
       "       'ID BY SMITHSONIAN, FAA 4187. ENG NOSE COWL DAMAGD 14\" W 10\" H AND 12\" D. EN #4 BLADE BENT AND TWISTED. NEW NOSE COWL COST $775,000.',\n",
       "       'ATIS WARNING ONLY - VERY COMMON ON EVERY AIRPORT. RIGHT AFTER V1 BOTH F/O AND I SAW A LRG FLOCK OF BIRDS NEAR TWY D. THIS FLOCK EXTENDED FROM ABOUT 10FT ON EITHER SIDE OF THE RWY ACROSS THE WIDTH OF THE RWY WITH THE LRGST AMNT BEING AT CENTERLINE. AS WE R',\n",
       "       'missing', 'ENG INLET DAMAGED.',\n",
       "       \"BORESCOPE FOUND NO DMG. PREC LDG. EMERGENCY DELCARED. BIRD INGESTED IN RT ENG. THEY SHUT DOWN THE RT ENG AS A PRECAUTION. A/C WAS 5 MILES NW AT 2500' MSL\",\n",
       "       'BIRD WAS SEEN ABOVE AIRCRAFT IN DIVE POSITION. HIT PROP FIRST THEN HIT COWLING AND CRASHED THRU WINDSHLD. 1/2 OF BIRD REMAINED IMPALED IN WINDHSLD. OTHER HALF WENT BTWN 2 PILOTS IN FRONT. 1 PERSON I BACK SEAT WAS HIT IN HEAD. 4 PEOPLE ON BOARD NOT HURT. W',\n",
       "       'ID BY SMITHSONIAN, FAA 3739. WHOLE FEATHER AND DNA. ON DOWNWIND FOR 32L (TEMP RWY AT LMT DURING CONSTRUCTION) AT APPROX 1500 FT AGL WE HEARD AND FELT A  LOUD THUMP. CONTD APCH & LANDED NORMALLY. NOTICED DAMAGE TO LEFT SLAT DURING POST FLT INSPN. DIRECTOR',\n",
       "       'DENTED L WING LE',\n",
       "       'Bird impacted between the #7 and #8 engine with some remains injested in the #7 engine.  Borescope revealed no damage. The right teardrop radome replaced due to damage($5896.34)\\r\\n                labor  $  16.00\\r\\n                Cost   $5902.34',\n",
       "       'PILOTS REPTD INGESTING A BIRD IN RT ENG DURING DEPTR. ENG SHUT DOWN BUT RESTARTED. A/C RETURNED TO LAND W/O INCIDENT. ENG INSPECTED. NO VIABLE REMAINS FOUND.',\n",
       "       'SHORTLY AFTER T/D A/C HIT A DEER. DAMAGED NOSE COWLING. (ASSUME MULE DEER)',\n",
       "       'HIT 2 OUT OF 4 DEER AFTER THRUST REVERSER DEPLOYMENT. BROKE #2 COMM ANTEANN OFF. VERY MINOR SKIN DAMAGE AT NOSE GEAR.',\n",
       "       'BIRD STRUCK LOWER PORTION OF RT WINDSHIELD. BIRD PENETRATED THROUGH GLASS AND A 3\" x 6\" HOLE CREATED. BIRD REMAINS SCATTERED INSIDE UPPER RT PORTION OF COCKPIT AND CARGO AREA. PICS AVAILABLE UPON REQUEST.',\n",
       "       \"ID BY SMITHSSONIAN. EITHER WESTERN OR CLARK'S GREBE.  DNA ANALYSIS UNABLE TO DISTINGUISH BETWEEN THEM. DOWNWIND FOR RWY 35 BIRD HIT LEFT SIDE OF NOSE CONE. UPON REGAINING CONTROL OF THE A/C. I TURNED BACK TO ORIGINAL HEADING AND SLOWED AIR SPEED TO 60 KTS\",\n",
       "       '13NM S OF KY31 HIT A LRG HAWK WITH RT HORIZ STABIL CAUSING DAMAGE. NO INJURIES. REPLACED HORIZ STABIL AND ELEVATOR ON ONE SIDE.  PHOTOS.',\n",
       "       'DENT WAS 6\" LONG 2\" DEEP WHILE ON LDG ROLL, BIRD CAME FROM EDGE OF RWY CARRYING A FISH.',\n",
       "       'AT A/C ROTATED, 1 FOX WAS SEEN. IT WAS NOT BELIEVED TO HAVE BEEN STRUCK BUT WAS LATER REPTD TO HAVE BEEN HIT. NO EFFECT ON FLT OR A/C INDICATIONS. ID LATER UPDATED TO COYOTE.',\n",
       "       'SML DENT ON UNDERSIDE OF L WING.',\n",
       "       'NO DMG. COST FOR CLEANING AND INSPN. HIT LE OF STABILIZER.',\n",
       "       'UNK IF INGESTION. OUT OF SERVICE 1.5 HRS',\n",
       "       'PILOT REPTD SEEING 6-10 DUCKS PASS IN FRONT OF THE A/C. THEY HEARD A LOUD BANG. ENG HAD AT LEAST 1 INGESTION. SHORT FINAL. DMG TO INTAKE NACELLE AND INTERNAL FAN ASSEMBLY.',\n",
       "       'JUST AFTER ROTATION CLIMBING THRU OVERCAST LAYER. PAX FROM BACK NOTIFIED ME AND PT TO RT ENG. ALL ENG GAUGES NORMAL BUT VISUAL OF RT ENG A HEAVY LAYER OF OIL ENVELOPING IT AND GUSHING FROM FRONT OF ENG. IMMED REQUESTED RETURN TO KBPT AND ON ROLLOUT SHUR D',\n",
       "       'WAS NOT AWARE THAT EVENT WAS A BIRD STRIKE UNTIL POST FLT INSPN COMPLETED. RESIDUE WAS NOT COLLECTIBLE.',\n",
       "       'DMG TO A/C NEAR TOP OF FUSELAGE AFT OF F/O\\'S SIDE WINDOW. DIMENSION OF DMG ARE AIS ROUGHLY 8\" X 6\" X 1/4\" AND IS SIMILAR IN SHAPE TO THE NOSE OF A BULLET.',\n",
       "       'BOTH PROPS DMGD A BIRD STRUCK NOSE CONE WHICH CAUSED DMG TO THE RADAR AND AVIONICS BAY, ENG NACELLES WILL NEED REPAIR. MINOR DMG TO L WING.',\n",
       "       'FLAP DAMAGED',\n",
       "       'ID BY CAPT. DMG CONSISTED OF BENT FAN BLADE TO #2 ENG DUE TO INGESTION. CANCELLED FLT PENDING BLADE REPAIR/REPLACEMENT. BOTH PILOTS SAW HAWK 2 SECONDS BEFORE IMPACT. OVER LANDFIIL JUST OFF S END OF RWY 35L. NOTIFIED DISPATCH, MX AND MADE LOGBOOK ENTRY.',\n",
       "       'ID BY SMITHSONIAN. ARPT CASE # 25641. DELTA REPTD DMG AT $72,000 WITH 20 MAN HRS INVOLVED AT $2000.',\n",
       "       'DAMAGED FINS IN #2 ENG. LANDED OK ON ONE ENG. A/C RETD TO RAMP W/O INCIDENT. REPLACED 12 FAN BLADES AND STATOR. BLADES WERE REPAIRED, SO COST WAS NOT HIGH.',\n",
       "       '1 HIT TIP OF PROP BLADE. DMG VERY SLIGHT AND DETECTED WITH A STRAIGHT EDGE HELD AGAINST THE PROP. ENG IS BEING DISASSEMBLED FOR POSSIBLE INTERNAL DMG PER LYCOMING., MECH AND FAA REGS.',\n",
       "       'MAJOR STRUCTURAL DMG - WING SPAR AND LDG GEAR. NO INJURIES. DEER KILLED INSTANTLY. NUMEROUS WILDLIFE NOTED ON FIELD AFTER INCIDENT, COYOTES AND DEER. INSTRUCTOR AND \"STUDENT\" PILOT (CERTIFIED PVT PILOT SINCE 1985). A/C OUT OF SERVICE 4 MOS.',\n",
       "       '8 NM FROM ARPT.',\n",
       "       \"BIRDS WERE SEEN BY PRECEDING A/C IN THE INFIELD AT V1 THE WHOLE FLOCK MOVED INTO OUR PATH. WE COULDN'T HAVE AVOIDED THEM EVEN IF WE REJECTED T/O. A/C REMAINED IN TRAFFIC PATTERN & REQSTD IMMED RETURN. OVER 100 GULLS WERE SEEN THE NIGHT BEFORE, CIRCLING OV\",\n",
       "       'LARGE BLACK BIRD SWOOPED DOWN IN FRONT OF L WING AND STRUCK LE NEAR OUTER PORTION OF WING, BUCKLED AREA INWARD, SIGNIFICANT DMG TO OUTER 1/4 OF WING (BEFORE END CAP). BLACK BIRD, LARGE CROW OR SIMILAR. NO REMAINS FOUND.',\n",
       "       'NO DMG. RETD TO BWI AS A PRECAUTION BECAUSE SOURCE OF SMELL IN COCKPIT AND CABIN COULD NOT BE POSITIVELY IDENTIFIED.',\n",
       "       'NO DMG. SOME REMAINS BELOW F/O SWING WINDOW. LOCATION REPTD AS 25 NM SE KMDW.',\n",
       "       'NO DMG TO A/C. DATA ENTRY NOTE: # STRUCK NOT REPTD, ASSUME 1, SAME AS # SEEN.',\n",
       "       'DMG TO RADOME, ABOUT 18\" MINOR.',\n",
       "       'STRONG, GUSTY WINDS. PITOT TUBE WAS STUFFED FULL WITH BIRD REMAINS. FLT RETD TO LAND. ARFF RESPONDED. A/C TAXIED TO RAMP. REPLACED PITOT TUBE.',\n",
       "       \"ID BY SMITHSONIAN, FAA 4032. BIRD SPLATTERED ON F/O'S SIDE OF WINDSHLD BREAKING WIPER BLADE. UNKN AT THIS TIME IS WINDSHLD WILL HAVE TO BE REPLACED.\",\n",
       "       'ID BY SMITHSONIAN, FAA 4113. 3 SAMPLES: 1 FROM PITOT TUBE, 1 FROM RT WING AND 1 FROM LIGHT HOUSING. ALL WERE TUNDRA SWAN. ALL DNA AND MICRO WITH 1 WHOLE FEATHER. SIGNIFICANT DMG TO LE OF RT WING. LANDING LIGHT HOUSING  AND SKIN ON WING DAMAGED. PILOT WAS',\n",
       "       'missing',\n",
       "       'NO REMAINS FOUND ON RWY AFTER REPTD STRIKE. A/C RETURNED TO KDTW AND INSPN FOUND REMAINS OF A SANDPIPER IN RT ENG INNER INTAKE. CAPT STATED ENG WOULD BE TAKEN APRT FOR INSPN. NO EST ON COST OF REPAIRS. DAL MX REPTD THAT TWO BLADES NEEDED TO BE REPLACED AT',\n",
       "       'ID BY SMITHSONIAN, FAA 1462',\n",
       "       'HIT BOTTOM RT SIDE OF NOSE. COST FOR 1 HR INSPN.',\n",
       "       'POSSIBLY DOVES. COST OF $4000 FOR ENG INSN AND TRAVEL COST OF INSPN TEAM.',\n",
       "       'ATIS WARNING. SAW LRG BIRD ON T/O 1-2 SECONDS PRIOR TO IMPACT. BIRD HIT LWR NOSE ON CENTERLINE, FOLLOWED BY A SIGNIFICANT VIBRATION & BURNING RUBBER SMELL. MADE AN OVERWT PREC LDG AFTER DECLARING AN EMERGENCY. DMG: 2 FT LONG CRACK IN RADOME BACK TO THE RE',\n",
       "       'INGESTED LRG GREY BIRD. RT ENG LOUD VIB. RETARDED END & RETD TO LAND. EMERGENCY. RWY 10L CLOSED FOR 38 MINS WHILE DEBRIS WASHED FROM RWY. WING FOUND ON RWY. ID BY SMITHSONIAN FAA 735 & 727. ALL PAX REROUTED TO OTHER FLTS. 5 BLADES DAMAGED. HOLES IN NOSE C',\n",
       "       'NO DMG',\n",
       "       'ON LDG FLARE, ABOUT 100 SML BIRDS WERE ON RWY. THEY FLEW UP CONTACTING THE A/C. LATER TWR REPTD 48 BIRDS WERE PICKED UP. (SMALL BLACK BIRDS). A/C WAS INSPECTED, ENG BORESCOPED. NO DMG.',\n",
       "       'HIT A BIRD ON SHORT FINAL. MINOR DAMAGE TO RADOME AND WINDSHLD. LARGE DENT JUST AFT OF RADOME ON L SIDE OF NOSE. SHEETMETAL REPAIRS WERE MADE BY LAX MECHANICS.',\n",
       "       'CLEANED AND INSPECTED. NO DMG.',\n",
       "       \"HIT MULTIPLE BIRDS, TRIED TO ABORT T/O, RAN 125' OFF END OF RWY.  INGESTED AT LEAST 1 BIRD. ID BY SMITHSONIAN FAA 517. NO BIRDS SEEN  FROM TOWER.  ARPT CLOSED ABOUT 1/2 HOUR & RWY 5 REMAINED CLOSED LONGER. DMG REPTD AS MINOR. STAGE 1 COMPRESSOR BLADES WER\",\n",
       "       'RADOME CRUSHED, RADAR ANTENNAE BENT. ID BY SMITHSONIAN FAA 403. REPLACEMENT RADOME BORROWED FROM AAL. REPLACED RADOME.  FLT DELAYED 1 HR.',\n",
       "       'ID BY SMITHSONIAN, FAA 3088. FIVE FAN BLADES DAMAGED 9BENDS/CURSL), FOUR FAN EXIT VANE PLATEFORMS DAMAGED. FAN CASE ACOUSTIC LINER SHEET TORN. OTHER COST WAS FOR OUT OF SERVICE COST FOR THE RADOME REPAIR.',\n",
       "       'PILOT  SAW BIRD IN LDG LIGHT. HEARD A FAIRLY LOUD THUMP AS BIRD HIT EDGE OF WING. LANDED W/O INCIDENT. A/C FEWL FINE AFTER STRIKE. DENT WAS BOUT 8\" LONG AND 1\" DEEP.',\n",
       "       'HIT AREA AROUND F/O PITOT TUBES. RT HAND AFT SIDE OF RADOME. COST FOR 1 HR INSPN.',\n",
       "       'SML BIRD (LIKELY A SPARROW) HIT LIP OF #1 ENG INLET. BIRD WAS CHOPPED IN HALF. PART WENT UNDER NACELLE AND PART WAS FOUND AGAIN ENG INTAKE SCREEN.',\n",
       "       'HERD OF DEER KNOWN TO LIVE ON/AROUND ARPT. NUMBER OVER 20. PILOT SAID DMG WAS MINOR BASED ON ICAO DEFINITION. SLIGHTLY BENT PROPELLER, BENT FLAP AND DENT IN LEADING EDGE.  ENG HAD TO BE DISASSEMBLED AND INSPECTED.(AAIPN FORM SAID SUBSTANTIAL AS DID DAILY',\n",
       "       'TWO DEER STRUCK BOTH ENGINES (PROPS) SHORTLY AFTER TOUCHDOWN. BENT BOTH PROPS, DAMAGED L ENGINE INLET, TORE OF LEFT GEAR DOOR.',\n",
       "       'RIGHT AFTER T/D SAW 3 MOURNING DOVES PASS DOWN LOWER RT PORTION OF FUSELAGE. POSTFLT INSPN REVEALED ONE BIRDSTRIKE TO RT RAM AIR DOOR DEFLECTOR. FEW FEATHERS AND SOME ORGANIC TISSUE ON THE DOOR. NO DMG TO A/C. MX INSPN AND CLEANED OFF BIRD REMAINS.',\n",
       "       'NO DMG. FLT PROCEEDED WITH NO PROBLEMS. REPORTED IN MX LOG ON ARRIVAL FOR INSPN.   XP314 REPORTED POSSIBLY HIT BIRDS ON DEPTR FROM RWY 29. INSPECTED AND FOUND 2 HOUSE SPARROW AT APPROX THE 5,000 FT MARK ON RWY 29. REPTD TO USDA/WS AND ENTERED BY WILDLF TE',\n",
       "       'AW SHADOWS IN MY LIGHTS AND IMMEDIATELY PULLED YOKE BACK, THE PLANE SHOOK SLIGHTLY.',\n",
       "       'BIRD ID BY SMITHSONIAN FAA 187. 2 GEESE. 1 HIT F/O WINDSHLD, OTHER #1 ENG. SUBST. DMG NOTED AFTER SHUTDOWN AT GATE. ENG REQD CHANGE.',\n",
       "       'BIRDS HIT ENG NACELLE AND TAIL SECTION. (DATA ENTRY NOTE: # STRUCK NOT REPTD, ASSUME 2-10, SAME AS # SEEN0',\n",
       "       'CLEARED TO LAND 9R, SHORT FINAL, 300-200 FT AGL SAW BIRD AT LAST SECOND. TRIED TO AVOID BIRD, MISSED PROP AND STRUCK RIGHT ABOVE WINDSHIELD AND TOP OF FUSELAGE ON PILOT SIDE. NO AFFECT ON A/C. LANDED A/C, TAXIED TO RAMP TO INSPECT DMG. ONLY SMALL SCUFF MA',\n",
       "       'NO DMG. PREC ENG INSPN AT DESTINATION.',\n",
       "       'ID BY SMITHSONIAN FAA 415. POPPED CIRCUIT BREAKER, MX REQSTD FLT TO RETURN TO CHECK FOR DMG. SPINNER ON PROP WAS DAMAGED.',\n",
       "       'DMG FOUND ON RADOME.',\n",
       "       'LINING UP ON 10 MILE FINAL AT 3000 FT MSL. HERD/FELT THUD AT OUR FEET. NEVER SAW BIRDS. POSTFLT INSPN DISCOVERED BLOOD SPLATTER BOTTOM RT SIDE NOSE JUST UNDER COCKPIT. NO APPARENT DMG NOTED. MX INSPN CONFIRMED NO DMG. BLOOD SMEAR ONLY EVID. TYPE OF BIRD U',\n",
       "       'ID BY SMITHSONIAN, FAA 3734. WHOLE FEATHER AND DNA. QANTAS DEPARTED AT 0023. AT 0030 PDT, CREW REPTD DURING CLIMBOUT AT 8,000 FEET (40 MILES WEST OF LAX) THERE WAS A LOUD BANG AND THEIR RADAR BECAME INOPERATIVE. PIC ADVISED ATC THAT THEY WOULD BE RETURNIN',\n",
       "       'LE OF WING MUST BE REPAIRED.',\n",
       "       'ID BY SMITHSONIAN. FAA 3735. WHOLE FEATHER, DNA. 5 NM WNW OF TPA.SAW A SMALL OBJECT PASS VERY QUICKLY BY THE L SIDE OF A/C NOSE. ALMOST SIMULTANEOUSLY I HEARD A BANG FROM L F/O SIDE OF NOSE. BIRD FEATHERS AND WHAT APPEARED TO BE BLOOD SMEARED ON F/O FRWD',\n",
       "       'FLT 2712 ABTD T/O BELIEVING THEY HAD A BLOWN TIRE. TAXIED TO RAMP. FAN BLADE FAILURE. INGESTION IN BOTH ENGS. ALTHOUGH TWO ENGS REPTD DAMAGED, CALL TO P&W SHOWED ONLY 1 ENG HAD DAMAGE.  ENG WAS REMOVED, BUT NOT BECAUSE OF BIRD STRIKE (C-9 DISK LIFE). FOUN',\n",
       "       \"COWLING WAS BENT SO THE RT SIDE OF THE INTAKE ON THE NOSE WAS BLOCKED. THERE WAS A BURNING SMELL SO I AM NOT SURE HWAT OR HOW MUCH OF ANYTHING WENT IN THE ENGINE. THEY CAME UP FROM UNDER ME AND THERE WASN'T EVEN ANY TIME TO REACT. THEY MADE NO ATTEMPT TO\",\n",
       "       'NO INJURIES. DEER HIT L SIDE OF A/C IMMED AFTER T/D. LEFT GEAR COLLAPSED AND A/C VEERED 150 FT OFF L SIDE OF RWY. PLANE WAS EN ROUTE TO ROX TO TRANSPORT A MEDICAL PATIENT.',\n",
       "       'PILOT HEARD A NOISE SHORTLY AFTER V1.  ENG INSTRUMENTS SHOWED A POWER SURGE. PILOT SMELLED SOMETHING AND RETD TO LAND. 2 C1 FAN BLADES HAD TO BE REPLACED. 3 DAYS OF DOWNTIME.',\n",
       "       'A/C CLIMBED TO FL 290 AND BURNED OFF FUEL BEFORE LANDING. NO DMG REPTD. OUT OF SERVICE 3.5 HRS.',\n",
       "       'NO DMG. STRIKE ON OUTSIDE OF LEFT ENG COWL. SOME REMAINS FOUND ON RT MAIN LDG GEAR. COST FOR INPSN',\n",
       "       '10 MILE FINAL. DATA ENTRY NOTE: # STRUCK NOT REPTD, ASSUME 1, SAME AS # SEEN.',\n",
       "       'NO INJURIES. SMASHED AND BROKEN NOSE GEAR TAXI LIGHTS, BENT NOSE GEAR DOOR, BROKEN CLAMP L MAIN LDG GEAR, ELECTRICAL HARNESS FOR LDG LIGHTS DESTROYED. RWY WAS CLOSED FROM 2032 TO 2120.',\n",
       "       'NOSE BOWL WAS DENTED AT LEFT LDG LIGHT. ONE PROP BLADE WAS STRUCK AT ITS THICKEST PART.',\n",
       "       '2 TURKEYS. T/O ABORTED BEFORE V1. 3 CREW AND 50 PAX ONBOARD. #2 ENG INLET, INNER PANEL OF WINDSHLD AND AT 14 BY 4 INCH SECTION OF FUSELAGE SKIN JUST BELOW WINDSHLD WERE DAMAGED. TURKEY ENTERED THE COCKPIT SPRAYING GLASS AND  PIECES OF BIRD MATTER ON FLT C',\n",
       "       'ONE REPT SHOWS NO DMG THE OTHER CHECKED THE ENG AS DMG. FLT 904. INGESTION. (DATA ENTRY NOTE: PHONE CALL FOUND NO DMG. REMOVED FEATHERS FROM INTERNAL PARTICLE SEPARATOR AND 1ST STAGE GUIDE VANE. ALL CHECKS GOOD. HAD TO REBOOK PAX ON OTHER FLIGHTS. COST WA',\n",
       "       'HIT FLOCK OF OVER 300 BIRDS. 1 ENG LOST THRUST. DMG TO #1 ENG INCLUDED BENT FAN BLADE AND SEVERAL DAMAGED COMPRESSOR BLADES. REMOVED AND REPLACED #2 FAN LADES DUE TO DMG. BOTH ENGS SHOWED FLUCTUATION. ARPT ESTIMATED # STRUCK TO BE 38 BASED ON REMAINS FOUN',\n",
       "       'DAMAGE TO LEADING EDGE OF WING. CONFIRMED ID. OUTBOUND FLT CANCELLED. SLAT WAS TEMPORARILY REPAIRED. PERMANENT REPAIR IS SCHEDULED. COSTS INCLUDE FERRY FLIGHT, LABOR, DOWNTIME, & REPAIRS.',\n",
       "       'WINDSCREEN BROKEN, 5 BY 15 \" DENT IN L WING. A/C FERRYABLE. NO INJURIES.',\n",
       "       'NO DMG. NO REMAINS. A/C TIME OUT OF SERVICE STATED AS 0.5 HOURS.',\n",
       "       'FOUND EVID OF BIRDSTRIKE, GLANCING BLOW, OUTER EDGE OF NACELLE, RT ENG. NO ABNORMAL ENG INDICATIONS. NO SMELL IN CABIN. MX INSPN FOUND NO DMG. ONLY SAW 2 BIRDS. APPARENTLY HIT ONE.',\n",
       "       'DURING CLIMB AROUND 200 FT A POP WAS HEARD FOLLOWED BY A HUMMING NOISE AND VIBRATION. THREE LOWER PRESSURE FAN BLADES BENT AND DAMAGED. REPLACED BLADES.',\n",
       "       \"HIT BIRD ON CROSSWIND DURING PATTERN WORK. SAW BIRD FALL FROM 600' AGL. FELL INTO GRASS JUST OFF TWY. WARNED TWR OF LOCATION. TIME OUT OF SERVICE 12 MINS. COST 50.\",\n",
       "       'REMOVED AND REPLACED LEADING EDGE OF WING. TOOK PROPS APART AS A PRECAUTION BUT NO DMG.',\n",
       "       'REMAINS CLEANED OFF WING AND INSPECTED. NO DMG AND RETURNED TO SERVICE. LOCATION REPTD AS 1SM FINAL FOR RWY 4.',\n",
       "       \"AFTER T/D, DOG RAN IN FRONT OF A/C. NO SAFE WAY TO AVOID IT. PROP WAS DAMAGED & ENG TOO. DOG'S HEAD WAS SEVERED FROM BODY. IT WAS A HUNTING GUIDE DOG OWNED BY LOCAL PERSON WHOSE DOGS WERE ALWAYS GETTING LOOSE ACCORDING TO ARPT PERSONNEL.\",\n",
       "       'ID BY SMITHSONIAN. NO DMG. NO INJURIES.', 'missing',\n",
       "       \"ON FINAL PIC SAW SEVERAL GEESE IN FLIGHT IN FRONT OF A/C AS THEY CROSSED THE THRESHOLD. HE TRIED TO PULL UP TO AVOID THEM. 1 HIT JUST BELOW PILOTS' WINDOW ON L SIDE. GLANCING BLOW. SOME SKIN DAMAGE VISIBLE. RECOVERED DEAD GOOSE FROM RWY. INTACT. A/C CAN S\",\n",
       "       'PILOT SAW 2 KILLDEER ON BASE TO FINAL AND TRIED TO AVOID BY RAISING PORT WING. 1 IMPACTED PROP SPINNER & WAS INGESTED. BORESCOPE FOUND INTERNAL DAMAGE WITH SUBSEQUENT ENG CHANGE.',\n",
       "       'RT WING HAD DENT AND PUNCTURE. NO EFFECT ON CONTROLLABILITY. DMG TO LE WAS SIGNIFICANT.',\n",
       "       'BIRD APPEARED TO BE A SMALL SPARROW. A/C TIME OUT OF SERV = 0.5 HRS.',\n",
       "       'BIRD WAS INGESTED. APPEARS TO HAVE DAMAGED SOME OF THE COMPRESSOR STATORS. ENG IS BEING TORN DOWN FOR FURTHER EVALUATION. ID BY SMITHSONIAN, FAA 1436. ENG WAS REPAIRED AND PUT BACK IN SERVICE ONLY TO FIND MORE DAMAGE. ENG REMOVED AGAIN. EST REPAIRS ABOUT',\n",
       "       'BIRDSTRIKE WAS OVER EVERGLADES 11 SM WEST OF ARPT. BIRD LEFT A SMUDGE ON NOSE, WINDSHLD. NO DMG REPTD BY AIRLINE MX. BIRD REPTD AS SPARROW AND SWALLOW.',\n",
       "       'NO DMG. NO INJURIES.',\n",
       "       'OPS AGENT CONDUCTED PYROTECHNIC HARRASSMENT 10 MINUTES PRIOR TO STRIKE. BIRD STRUCK TOP OF NACELLE AND DEFLECTED INTO RT ENG. ARPT OPS AGNT RECOVERED ONE LEG AND ONE WING FROM RWY. ENG A TOTAL LOSS.',\n",
       "       'THREE SMALL BIRDS BEEN CIRCLING OVER FINAL APRCH TO RWY 31 KLGA. STRUCK ONE OF THEM ON RADOME. NO DMG NOTED. EST OTHER COTS TO CALL OUT CONTRACT MX TO VISUALLY INSPECT A/C AND SIGN OFF A/C LOGBK.',\n",
       "       'missing',\n",
       "       'ID BY SMITHSONIAN, FAA 3800. DNA.  CHIPPING SPARROW. RT WING JUST OUTBD OF ENG INLET WAS STRUCK AND DAMAGED. SML DENT(6-8\") IN LEADING EDGE OF HEATED SURFACE WITH SOME PARTS BEHING THE LEADING EDGE SUFFERING DMG AS WELL. A/C HAD NO NOTICEABLE HANDLING CHA',\n",
       "       'missing',\n",
       "       'NO DMG. NOISE HEARD IN CLIMB PHASE. BLOOD OBSERVED ON COPILOTS WINDSCREEN. PRECAUTIONARY LANDING TO ASSESS ANY DMG. NO DMG. A/C TAXIED TO RAMP W/O INCIDENT',\n",
       "       'NO DMG. . LOCATION REPTD AS 5NM FINAL.',\n",
       "       'TWO SPECIES. FIVE MOURNING DOVES AND ONE AMER KESTREL. ATIS WARNING. OPS COLLECTED AND ID REMAINS AT 0540 AFTER ATCT REPTD STRIKE. ARPT REPTD NO DMG TO A/C BUT LATER FILING BY AIRLINE REPORTED REPLACED ENGINE BLADES IN #1 ENG.',\n",
       "       'NO DMG OR INJURIES. VERY UNUSUAL EVENT ON FINAL AT KSAT. NO NOTES ON ATIS OF BIRDS BUT EVEN IF THERE WERE ADVISORIES IT WOULD NOT CHANGE THE OUTCOME AT NIGHT ON AN ILS APRCH WHEN BIRDS CAN NOT BE SEEN.',\n",
       "       'BIRDSTRIKE REPORTED ON FINAL. ARFF RESPONDED. DENT IN RADOME AND DAMAGE TO RADAR ENTENNA. CARCASS REMOVED FROM RWY.',\n",
       "       'VERY SHORTLY AFTER T/O, 1 SAW 3-5 BIRDS FLYING AND HEARD 1 HIT THE LE OF THE RT WING. WE VISUALLY INSPECTED THE LEADING EDGE AND SAW A DNET AND LOTS OF BLOOD. WE DECIDED TO RETURN TO THE ARPT.',\n",
       "       'DMG TO BOTH PROPELLER ASSEMBLIES REQUIRING REPAIR & ENG TEARDOWN FOR INSPN.',\n",
       "       'DENTED @ 2 ENG INLET RING. BIRD WAS MEDIUM SIZE WITH GRAY FEATHERS.',\n",
       "       \"STRIKE WAS AT ROTATION. MADE PREC LDG TO CHECK FOR DMG. BIRD HIT CO/P'S SIDE WINDOW. MINOR SCRATCHES ONLY. PHOTO OF BIRD SENT.\",\n",
       "       'BIRD REPTD AS MED & LARGE. PHOTO ATTACHED. NOSE DENTD AND PAINT REMOVED',\n",
       "       'RADOME BADLY DMGD UPON IMPACT WITH THE HAWK. PHOTO. ID BY ARPT OPS.',\n",
       "       'DEER. SUBSTANTIAL DMG REPTD TO RT WING. NTSB NOTIFIED. OPER = STEPHEN STRIPE. DEER NOT SEEN. PLANE WAS IN LANDING ATTITUDE AND WAS ON THE MIAN LDG GEAR STARTING THE ROLLOUT WHEN DEER. HIT. LOST SOME CONTROL ON RWY BUT REGAINED IT.  DEER HIT RT INBD WING.',\n",
       "       'POSSIBLY GULL. BIRD HIT WINDSHLD ON PILOT SIDE AND SHATTERED IT. PIECES OF PLASTIC WERE SPREAD THRUOUT CABIN. A PIECE HIT THE HYDRAULICS OFF SWITCH BUT WAS IDENTIFIED AND TURNED BACK ON APPROX 100 FT AGL. I RECEIVED A SMALL CUT ON THE LEG.',\n",
       "       'A/C LANDED AFTER DARK AND REPTD A DEER STRIKE. PHOTOS OF DMG SENT. DAMAGED RT LANDING GEAR DOORS, RT FLAP.',\n",
       "       'MINOR DMG REPTD. COSMETIC.',\n",
       "       'BIRD ID BY OPS. AIRLIINE QUALAITY ASSURANCE DEPT SAID NOT DMG. MX COST FROM $50-100. WINDSHLD & NOSE BOTH REPTD AS BEING DAMAGED BUT CALL TO WS AIRPORT BIOL WHO CHECKED WITH AIRLINE FOUND NO DMG.',\n",
       "       'NO DMG. REMAINS WERE LEFT AT KMMU, NO WAY TO COLLECT AND MAIL TO SMITHSONIAN',\n",
       "       \"NO DMG. DIDN'T SEE IT JUST HEARD IT AND FOUND SPOT AFTER WE PARKED. HIT NOSE GEAR DOOR.\",\n",
       "       'ID BY SMITHSONIAN, FAA 2487. PILOT SAW 2 BIRDS FLY UP FROM GRASSES ADJACENT TO RWY AND PASS ON EITHER SIDE OF A/C. FOUND REMAINS ON #2 ENG PROP. BLOOD ON LDG GEAR. FOUND REMAINS OF W MEADOWLARK ON RWY. ALSO FOUND BARN SWALLOW REMAINS IN AREA. TWO SETS OF',\n",
       "       'ATIS WARNING. PILOT REPTS NO DMG SUSPECTED BUT WILL HAVE MAINT CHECK. SOME FUSELAGE SKIN DAMAGED AS WAS DUCTWORK AND SOUND INSULATION. ALL WAS REPLACED.',\n",
       "       'A/C INGESTED LITTLE BLACK BIRDS IN BOTH ENGS CAUSING THEM TO SHUT DOWN WITH MINIMAL ALT AND TIME, A/C DID A FORCED LANDING IN A WHEAT FIELD ABOUT 4 MILES FROM DEPTR ARPT. ON TOUCHDOWN, FIRE BROKE OUT AND DESTROYED THE A/C. PILOT AND CO-PILOT HAD SERIOUS I',\n",
       "       'ALBATROSS LIKE BIRD LOCALS CALL GARZA. ENG INSPN AND CLEANUP REQUIRED. BIRDSTRIKE INSPN PERFORMED BY AA MX. 3 MILE FINAL.',\n",
       "       'DURING ROLLOUT SAW 5 SANDHILL CRANES STANDING IN CENTER OF RWY. NO WAY TO AVOID THEM.',\n",
       "       'ID BY SMITHSONIAN, FAA 2606. 100% DNA MATCH. ON ENGINE RUN UP, IN PREPARATION FOR TAKE OFF, EXPERIENCED LEFT ENG PROBLEMS. INSPN OF A/C AFTER ABORTED T/O REVEALED BIRD INGESTED AND FODDED LEFT. ENG.  (DATA ENTRY NOTE: #2 ENG WAS CHECKED ON FORM WHICH INDI',\n",
       "       \"ID BY SMITHSONIAN. PILOT REPTD BIRDSTRIKE ON T/O FROM RWY 19 AT APPROX 1200' OVER POTOMAC RIVER. A/C DIVERTED TO IAD DUE TO A POSSIBLE ENG SHUTDOWN. USDA COLLECTED SNARGE FROM #1 ENG AND PHOTOS. FLT WAS CANCELLED. PAX WERE BOOKED ON OTHER FLTS. ENG MANU C\",\n",
       "       'DEER JUMPED IN FRONT OF A/C. CREW DID NOT HAVE TIME TO AVOID. EXTENSIVE DMG TO RADOME WITH COLLATERAL DMG TO NOSE. BLOOD ON L WING ROOT. TOTAL DMG UNKN',\n",
       "       'BIRD WAS 4-8 POUNDS WITH TAN FEATHERS ON TOP, WHITE ON BOTTOM. APPROX 3 FT WINGSPAN. AFTER LANDING GEAR RETRACTION, WE ENCOUNTERED ABOUT 10 BIRDS OF SAME SPECIES AT BASE OF A SCATTERED CLOUD LAYER, VISIBILITY REPTD AS 3 1/2 DUE TO LIGHT SNOW. BIRDS WERE A',\n",
       "       '#2 ENG INLET DMG (COWLING DENTED ABOUT 12\" BY 4\" BY 3\" DEEP. NOT SUBSTANTIAL DMG. PILOT SAW LRG BLACK LOOKING BIRD, POSSIBLE GOOSE. NO REMAINS COLLECTED. STRIKE WAS ABOUT 1 MILE OFF ARPT PERIMETER.',\n",
       "       'NO AFFECT ON A/C PERFORMANCE OR POWER. MX INSPECT A/C AND FOUND BLOOD ON THE UNDERSIDE OF FUSELAGE. NO OTHER BIRD REMAINS FOUND AND A/C NOT DMG.\\r\\nOPERATOR = TEXAS STATE TECH COLLEGE',\n",
       "       'ID BY SMITHSONIAN, FAA 1144. #2 ENG 1ST STAGE CENTRIFUGAL COMPRESSOR BLADE DEFORMED AND ADJACENT BLADE SCRATCHED. ENG HAD TO BE SENT OUT FOR REPAIR. THRE ARE CROPS AROUND ARPT.',\n",
       "       'REPLACED RADOME ASSEMBLY, WX RADAR DISH AND DRIVE ASSEMBLY FOR RADAR. PHOTO OF RADOME ATTACHED. BIRD ID BY R HEINEN.',\n",
       "       'STRUCK LARGE BUCK WHILE LANDING. DAMAGE TO LEFT WING ALLOWED A LRG AMT OF FUEL TO LEAK ONTO THE RWY.',\n",
       "       'ID BY SMITHSONIAN. FAA 4417. WHOLE FEATHER. DNA. A/C ON APRCH AT 300 FT AGL AND F/O SAID HE THOUGHT HE SAW 2 DUCKS AND STRUCK ONE ON RADOME. DENT ON RADOME ABOUT 2 FT IN DIAMETER. NO EFFECT ON FLT. REMAINS (BLOOD AND TWO FEATHERS) COLLECTED AND SENT. RWY',\n",
       "       'A/C WAS NOT OUT OF SERVICE FOR OVER A DAY DUE TO REPLACEMENT LOANER PARTS. ONLY DMG TO ENG WAS THE NACELLE LIP OR INLET, WHICH HAD A DENT. PILOT ESTIMATES REPAIR AT OVER $25,000. BIRD NOT IDENTIFIED BUT SHADOW HE SAW WAS  THE SIZE OF A MEDIUM GULL.',\n",
       "       '\"RESIDUE\" ON LT EYEBROW WINDOW. BOTH COPILOT, PILOT AT CONTROLS AND CAPT DUCKED AS THE BIRD LOUDLY \"SMACKED\" THE A/C.',\n",
       "       'COULD HAVE BEEN A CROW. NO DMG.',\n",
       "       'BIRD CRACKED NOSE CONE.  RENTED ONE UNTIL REPAIRS WERE MADE. MAY TAKE A FEW MONTHS.',\n",
       "       'ID BY SMITHSONIAN. ID BY PHOTO. WINDSHIELD AND INTERIOR DMG.',\n",
       "       \"BIRD HIT F/O'S FWD WINDSCREEN WITH A LOUD BANG. REDUCED VISIBILITY. COST REPTD FOR INSPN.\",\n",
       "       'INITIAL CLIMB, GEESE SPOTTED COMING UP IN FRONT OF A/C. NO TIME TO AVOID. NUMEROUS STRIKES, #1 ENG FAILED DUE TO INGESTION. FLT DIVERTED TO AGS & LANDED UNEVENTFULLY. 14 GEESE FOUND ON RWY. 3 FOUND ON A/C INLET. MIN STRUCK 17. ID BY SMITHSONIAN FAA 910.',\n",
       "       'PILOT AND 2 PAX ON BOARD. MINOR DMG TO PROPELLER.',\n",
       "       'FAN BLADE DMG VISIBLE AND INTERNAL. ABNORMAL THRUST SITUATION. A/C RETD FOR EMERGENCY LDG. LANDED W/O INCIDENT. COSTS INCLUDE A/C RENTAL FOR ABOUT 5 WEEKS.',\n",
       "       \"AN EMERGENCY WAS DECLARED AFTER WING WAS DAMAGED FROM A VULTURE STRIKE. STRIKE OCCURRED OVER A CONSTRUCTION MATERIAL LANDFILL. IMPACT SHIVERED THE PLANE AND TWISTED IT TO THE LEFT. WING WAS SMASHED WITH PIECES FLAPPING UP AND DOWN. OUTER 2' OF WING  WAS A\",\n",
       "       'BIRD FLEW INTO FLT PATH FROM L SIDE OF RWY AT ROTTION AND HIT L SIDE OF NOSE.',\n",
       "       'PROBABLY CANADA GOOSE. PRECAUTIONARY LDG. INGESTION. 1 FAN BLADE DMGD. REPLACED.( ENG MANU REPTS NO FAN BLD DMG. TAKE OFF ABORTED, 0 ALT, 130 KTS. )',\n",
       "       'PILOT SIDE ENG COWLING  AND PILOT SIDE FLAP WERE DAMAGED.',\n",
       "       'BIRD STRUCK LT WING L/E. NO DMG TO WING BUT PNEUMATIC DE-ICE BOOT CUT AND REQUIRED REPLACEMENT. FINAL APRCH.',\n",
       "       'missing', 'OTHER COST FOR MECHANIC CLEANUP',\n",
       "       'BIRDS INGESTED INTO #1 ENG. MULTIPLE BIRD PARTS STUCK TO BOTTOM OF #1 ENG STATOR VANES. REPLACEMENT A/C USED TO COMPLETE THE FOLLOWING FLIGHT. MX FOUND NO DMG.',\n",
       "       'ID BY SMITHSONIAN FAA 2955. SPECIES WAS EITHER MALLARD OR BLACK DUCK. DNA ANALYSIS UNABLE TO DISTINGUISH BTWN THESE TWO CLOSELY RELATED SPECIES. MALLARD MORE COMMON OCCURRENCE. AVG WT 1735G. HIT FUSELAGE IMMED ABOVE CO/P WINDSCREEN. COUPLE OF MINOR PAINT',\n",
       "       'DMG TO LEFT OUTBOARD FLAP. HEIGHT REPTD AS 50-100 FT, TOOK AVG. FLAP WAS REPLACED.',\n",
       "       'NO DMG. COST FOR 1-HR INSPN.',\n",
       "       'ID BY SMITHSONIAN, FAA 3896. DNA & WHOLE FEATHER. ALERT 2. PILOT BELIEVES THEY STRUCK 6-7 CANADA GEESE AT 4000 FT APPROX 4 MILES N OF ARPT.  PILOT REPORTS BOTH ENGS STALLED. RT ENG WAS SHUT DOWN. WHEN CREW TRIED TO ADVANCE THE THROTTLE, THERE WERE A SERIE',\n",
       "       'HAWK, CROW OR OTHER SIMILAR. LARGE AREA, APPROX 10\" BY 6\" OF LEFT WING LEADING EDGE DENTED TO A DEPTH OF ABOUT 0.25 \". REMOVED AND REPLACED OUTER SECTION OF WING LE. ONLY BLOOD SPLATTERS, NO REMAINS.',\n",
       "       \"NO DMG. COST FOR 1 HR INSPN. HIT FRONT RT SIDE OF A/C CLOSE TO F/O'S WINDOW. (DATA ENTRY NOTE: WS BIOL HAD OPER AS DAL)\",\n",
       "       'LARGE BIRD, POSSIBLY A GOOSE. SATCOM ANTENNA COVER WAS DAMAGED ON TOP OF THE TAIL. COVER WAS REPLACED.',\n",
       "       \"ID BY SMITHSONIAN. BIRD HIT LEFT WING 4' FROM WINGROOT. DMG TO OUTER LAYER OF COMPOSIT COATING.  COSTS INCLUDE DAMAGE AND LOST REVENUE DUE TO  DOWNTIME.\",\n",
       "       'NO DMG TO A/C. JUST A LARGE SPLAT ABOUT 8 INCHES ROUND ON CAPT WINDSCREEN. LOCATION REPTD AS 20 MILES W OF HOLID INTXN ON THE LOCALIZER TO 9L KFLL.',\n",
       "       'BIRD WAYON RWY, FLEW UP, STRUCK RT LEADING EDGE MIDWING. NO DMG',\n",
       "       'ID BY SMITHSONIAN. 1 BIRD SEEN IN LANDING LIGHTS JUST BEFORE IMPACT ON WINDSHLD.',\n",
       "       'AT ROTATION A SML FLOCK OF PIGEONS FLEW ACROSS OUR NOSE. SAW 5-6 BIRDS. BOTH F/O AND I THOUGHT WE HEARD 2 LILGHT IMPACTS BUT FELT NOTHING. A/C CONTROLLABILITY & ENG PERFORMANCE NORMAL. I CONSULTED WITH FLT CONTROL AND MX CONTROL ONCE SAFELY AIRBORNE. RELA',\n",
       "       'LOCATION REPTD AS APPROX 5NM FINAL.', 'NO DMG.',\n",
       "       'BIRDS SWARMED JUST AS WE APPROACHED UNDERRUN. ARPT PERSONNEL WERE  NOT NOTIFIED BY PILOT OR AIRLINE SO WERE NOT ABLE TO IDENTIFY ANY REMAINS OR TAKE A SNARGE SAMPLE.',\n",
       "       'EVENT 11445. ID BY SMITHSONIAN, FAA 1844. FINAL APCH. HEARD WAS SOUNDED LIKE A BIRD IMPACTING A/C FOLLOWED BY SMELL IN THE PACKS. POST FLT FOUND AT LEAST 1 STRIKE TO THE #2 ENG AND PROBABLY 1 TO RT INNER FLAP. 10 BLADE SETS REPLACED. 5 FAN BLADES EXHIBITE',\n",
       "       'WE WERE FLYING THE ELDEE FOUR RNAV ARRIVAL INTO DCA. BTWN ELDEE AND DMALL WE WERE GIVEN A DESCENT TO 6000 FT MSL. AIRSPEED WAS 250 KIAS. DURING DESCENT THE F/O SAW A VERY LGR BIRD FLASH PAST. IT WAS BRIEFLY ILLUMNATED IN THE LDG LIGHTS AND APPEARED TO BE',\n",
       "       'BIRD HIT FUSELAGE 6-12 IN BEHIND WINDSHLD. RIB AND SHEET METAL WERE BUCKLED BACK TO ABOUT 36\" BEHIND WINDSHLD. SOME RIVETS POPPED OUT AND SHEET METAL EXPOSED. BIRD WAS SEEN IN A WINGS TUCKED, DIVE CONFIGURATION. THE OVERHEAD READING LIGHT AND AIR VENT WER',\n",
       "       \"ID BY SMITHSONIAN. LEVEL AT 6,000' BEING VECTORED TO ARPT, SAW IT ENTER THE CONE OF LDG LIGHT AND STRIKE RADOME. NO EFFECT ON CONTROL OF A/C.\",\n",
       "       'NO DMG TO A/C. SWALLOW?',\n",
       "       '2 GEESE FOUND ON RWY.  1 STILL ALIVE BUT INJURED. DMG TO LE OF RT WING ON A/C.',\n",
       "       '8 BLADES DAMAGED. BENT BLADES. CANOE DAMAGE. COMPRESSOR BLADES DAMAGED AND L WING FLAP TRACK CANOE FAIRING DAMAGED WITH LGR DENT AND A 4 IN CRACK. ENG REMOVED & REPLACED.',\n",
       "       'PILOT REPTD SEEING OSPREY WITH SOMETHING IN ITS MOUTH. BIRD WAS LODGED IN RT MAIN LDG GEAR. A/C WAS ABLE TO LAND SAFELY AND TAXI TO PARKING. A/C IS GROUNDED FOR ABOUT A DAY AND A HALF UNTIL REPAIRS TO CABLE CAN BE MADE. OTHER AIRCRAFT FLOWN IN TO REPLACE',\n",
       "       '3 CRACKS IN WING ABOVE LEADING EDGE 9\" INBD OF WINGTIP. ARPT MGR SAID THERE HAS NEVER BEEN A BIRDSTRIKE AT THAT AIRPORT.',\n",
       "       'ATIS WARNING. CABIN DOOR SMASHED. PILOT SAW 2 DEER. RWY WAS  WET MAKING IT HARD TO BRAKE. DEER HIT BELLY OF A/C.& EXITED BTWN THE LDG GEAR. SHE DAMAGED THE DOOR, MOST INNER PART  OF WING ROOT & DENTED SOME BELLY SKIN. NO ONE WAS HURT. RWY WAS CLOSED WHILE',\n",
       "       'REPT OF BIRDSTRIKE FROM ATCT ON RWY 20R, S TWY W. ARPT OPS CLEARED REMAINS FROM RWY AT 0730. PILOT FROM A/C TO ALSO DO STRIKE REPORT. ENGINE REQUIRED BLADE REPLACEMENT. CLOSE TO 20 BIRD STRIKES ON A/C.',\n",
       "       'STRUCK DEER DURING TOUCHDOWN. SOME EVIDENCE THAT DEER HAD CONTACT WITH PROPELLER BEFORE BEING STRUCK BY THE WING. LEFT WING DENTED AND FUEL TANK RUPTURES. EMERGENCY VEHICLES FROM STILLWATER FIRE DEPT WERE CALLED TO HANDLE SPILL.',\n",
       "       'DENTED 1 SPINNER. A/C WAS INSPECTED BY ON-BOARD MECHANIC.',\n",
       "       'BIRD HIT JUST OTBD OF RT FUEL TANK. LARGE DENT IN TOP LE OF RT WING. FLT CHARACTERISTICS NOT AFFECTED. COMPLETED APCH TO A PREC LDG. NOT PUNCTURES.',\n",
       "       'ID BY SMITHSONIAN, FAA 3792, DNA. WHILE ON APCH FOR LANDING, HIT 1 IRD ABOUT 1/4 MILE FROM ARPT. THE WINDSHIELD WAS DESTROYED. NO INJURIES. PHOTOS.',\n",
       "       'HIT BIRD ON FINAL. LANDED W/O INCIDENT. MINOR DMG TO ENG PROP BLADE. NOTIFIED FSDO & NTSB',\n",
       "       '8 PIGEONS HIT IN A FLOCK OF ABOUT 70. 5 DEAD, 3 INJURED. REMAINS CLAIMED BY OWNER. PIGEONS WERE TAGGED. NO TIME OUT OF SERVICE.',\n",
       "       'NO DMG.',\n",
       "       'ID BY SMITHSONIAN. FAA 4785. WHOLE FEATHER. TWO SMALL BIRDS STRUCK OUTBOARD SECTION OF RT WING DURING L/R. A/C HAD TO DELAY OUTBOUND FLT FOR INSPN BY MX.',\n",
       "       'BIRD HIT BOTTOM L FWRD WINDSCREEN AND LODGED INTO WIPER BLADE. LANDING ON RWY RIGHT AFTER T/D.',\n",
       "       'HIT 20-25 SML BIRDS AT BR (136 KTS). LIKELY IN ENGS AND OR AIR/COND SYSTEM. EVIDENCE OF CORE INGESTION. BORESCOPE NEEDED. CLEANED LE AND TE FLAP SLATS. DMG FOUND ON COMPRESSOR STG 4 BLADES NEEDS FURTHER EVAL. OUT OF LIMITS. #2 ENG HAD EVIDENCE OF CORE ING',\n",
       "       'ALLEGED BIRDSTRIKE ON TOUCHDOWN. BIRD SEEN AND FELT BUT NO EVIDENCE FOUND. A/C OUT OF SERCIVE 6 MINUTES.',\n",
       "       \"CLIMBING THRU 400, I SAW 2 SML BIRDS PASS BY LEFT SIDE OF A/C. I WAS NOT SURE IF WE HIT THEM AND I DIDN'T SEE EVIDENCE OF A STRIKE FROM THE FLT DECK. AFTER ARRIVING IN SEATTLE, THE REMAINS OF A BIRD WERE FOUND ON THE LEFT WING TIP/WINGLET AREA. A/C WAS SC\",\n",
       "       'ID BY SMITHSONIAN FAA 3204. WHOLE FEATHER AND DNA. DMG TO L WING LEADING EDGE APPROX 12\" ACROSS AND 5\" DEEP. A/C WAS DOWN FOR 6 WEEKS LEADING TO LOST REVENUE. DMG WAS CONSIDERED MINOR ACCORDING TO ICAO STANDARDS.',\n",
       "       'DMG TO COMPRESSOR BLADES. ATIS WARNING.',\n",
       "       'SPARROW-LIKE BIRD. ENG IN DISASSEBLY NOW. DMG 1,000-2000 DEPENDING ON REPAIR/REPLACEMENT OF FANS/COMPRESSORS',\n",
       "       'DENT IN VERTICAL FIN.',\n",
       "       'ID BY SMITHSONIAN, FAA 3066. NO DNA. RT INBD WING LEADING EDGE JUST OUTBOARD OF INTERCOOLER INLET 6\" WIDE, 1\" DEEP DEPRESSION, BENT SKIN PANEL, STRINGER AND DEICE BOOT. LEFT HORIZ STABILIZER LEADING EDGE DENTED AND WRINKLED ALONG WITH DEICE BOOT.',\n",
       "       'WHILE ATTEMPTING TO T/O, HIT A DEER. HEARD A LOUD BANG AND SAW A  LRG DARK OBJECT COME OVER THE MID-SECTION OF THE L WING. NEVER SAW A DEER AT ANY TIME DURING MY GROUND OPS.',\n",
       "       'HIT 2 HERRING GULLS. PLANE TAXIED TO MILLIONAIRE AND WAS LEFT FOR PRECAUTIONARY REASONS. PILOT REPTS NO APPARENT DMG. FOLLOW UP CONFIRMED NO DMG, COST WAS FOR INSPN.',\n",
       "       'ID BY SMITHSONIAN. ACCORDING TO CAPT, HE WAS ON TAKE OFF RUN WHEN THE STRIKE OCCURRED. HE WAS ABLE TO LAND AND TAXIED TO WYMAN AVIATION AT OPF. WING LEADING EDGE WAS DENTED AND REPAIRS WERE NEEDED BEFORE A/C COULD BE USED.',\n",
       "       'DMG TO RT WING L/E. NO INJURIES. (REMARKS FROM EMAIL).',\n",
       "       'BIRD HIT LT ENG INBOARD EXHAUST STACK, DEFORMING STACK AND CAUSING A SMALL TEAR IN THE MATERIAL. MINOR PAINT DMG DUE TO HEAT ESCAPING FROM TEAR. ENG CONT TO OPERATE AND WAS NOT SHUT DOWN. PILOT NOTED HIGHER THAN NORMAL ITT ON GRND BUT WITHIN LIMITS. EXHAU',\n",
       "       'DEER WAS STRUCK WHEN A/C WAS TOUCHING DOWN. LEFT OUTBOARD TRAILING EDGE OF INBOARD FLAP. A/C WAS FERRIED TO ORF AT ABOUT 2 THE NEXT MORNING AND A SPARE FLAP WAS INSTALLED.  FLAP WAS DAMAGED. APPEARED TO BE A SMALL DEER. PHOTOS.',\n",
       "       'DMGD INBOARD OF L WING SLAT. DENT. STRIKE LOCATION WAS UNKNOWN AND EVIDENCE WAS FOUND DURING POST FLT INSPN. PILOT MENTIONED SEEING A BIRD THAT MATCHED A GREAT BLUE HERON. AIRPT OPS RECOVERD A HERON CARCASS FROM 27L.',\n",
       "       '4\" DIAMETER DENT  BY 1\\' DEEP ON LE OF RT WING',\n",
       "       'ID BY SMITHSONIAN, FAA 1858. IT APPEARS 1 BIRD HIT AT THE BASE OF THE WINDSHLD NEAR THE CENTER DIVIDER AND ON THE ALCOHOL SPRAY BAR, AS THAT WAS BENT. FEATHERS AND REMAINS WERE JAMMED AROUND THE SPRAY BAR AND BLOOD COATED THE LWR WINDSHLD. ADDITIONAL REMA',\n",
       "       'BIRD, BROWN BIRD. A/C WAS DESCENDING INTO PATTERN. PILOT SAW BIRD BUT WAS UNABLE TO AVOID IT. HIT WINDSCREEN NEAR THE TOP AND LEFT A FIST SIZED HOLE NEAR THE TEMP GAUGE. BUT DID NOT PENETRATE IT.  LANDED SAFELY  HAD TO FLY A TEAM IN TO REPLACE WINDSHLD.',\n",
       "       \"FALCON HIT RT LWR FUSELAGE JUST BELOW CO/P'S FEET ON LDG. ICE DETECT PROBE WAS BENT ABOUT 15 DEGREES AFT OF NORMAL. REVENUE FLT WAS CANCELLED. JET SPENT 2 HRS AT GATE. THEN FERRIED TO CVG FOR REPAIR. BIRD SURVIVED.\",\n",
       "       'UNAWARE OF COSTS, A/C TIME OUT OF SERV OR OTHER COSTS. CHANGED A/C AND DEPARTED LAX. MX ESTIMATES AT LEAST 30 MTS INSPN TIME. ALSO UNAWARE OF WHAT MX DID WITH THE REMAINS. LOCATION REPTD AS 40 MILES E OF LAX. NO DMG REPTD AND REMAINS WERE DISCARDED BY MX.',\n",
       "       'DID NOT DISCOVER STRIKE UNTIL ON THE GROUND NO DMG. ESTIMATE GOOSE. 1/2 HOUR OUT OF SERVICE.',\n",
       "       \"PIREP UPON T/D FOF 16R. REMAINS OF SWALLOW COLLECTED IN T/D ZONE. FORWARDED TO WS BIOL. NO DMG. REMAINS ON CO/P'S WINDSHLD REMOVED. (DATA ENTRY NOTE: COST REPTD AS $150, ASSUME THEY MEANT OTHER COST SINCE THERE WAS NO DAMAGE)\",\n",
       "       'BIRD HIT LEFT ENG FAN DOME. BORESCOPE FOUND BIRD DID NOT GO THRU THE CORE. NO DMG. COMPRESSOR WASH AND TEST RUN.',\n",
       "       'ATIS WARNING. ON LDG ROLL, ABOUT 4,000 FT DOWN RWY, PILOT REPORTED POSSIBLY HITTING SOME BIRDS. RWY CHECK FOUND 3 PIGEONS DEAD. FAN BLADE WAS DAMAGED.',\n",
       "       '3 DEER SEEN, 1 STRUCK AND KILLED. SUBSTANTIAL DMG.',\n",
       "       \"MALLARD STRUCK RADOME, DAMAGING BOTH RADOME AND RADAR. CARCASS COLLECTED BY ARPT OPS AND ID/ADDED TO STRIKE DATABASE BY USDA/WILDLF SPEC. MALE MALLARD DUCK ID'S FROM CARCASS COLLECTION BY USDA/WILDLF SPEC.\",\n",
       "       '1 MI S OF ARPT. VICINITY OF NAWILIWILI HARBOR. SML SCRATCH ON RT FOREAREM OF P/C. 4-5 IN HOLE IN WINDSHLD. BIRD REPTD AS WHITE-TAILED TROPIC HAWK.WS BIOL REPORTS IT AS RED-TAILED TROPIC BIRD. RT WINDSHDL WAS FRAGMENTED.',\n",
       "       'HARD BRASS BRAKE LINE ON RT MAIN GEAR CRACKED. BIRD REMAINS WEDGED THROUGHOUT MAIN GEAR COMPLEX ON RT SIDE. DAMAGE TO RT ENG INLET AND SUBSEQUENT COLLATERAL DMG TO ENG FANS AND INTERNAL PARTS. INGESTION?',\n",
       "       'ATIS WARNING. BIRD DMGD RADOME UPON INSPN AT DEST ARPT. DID NOT PENETRATE THE DOME BUT CRACKED THE INNER LAYERS OF FIBERGLASS ON INTERIOR OF DOME. NO OTHER DMG FOUND ON A/C. LOCATION REPTD AS ONE MILE N OF DER 34.',\n",
       "       'missing',\n",
       "       'PILOT SAW LARGE FLOCK RISE UP OUT OF GRASS. HE LIFTED TO AVOID BUT STRUCK 29 BIRDS 9RECVRD BY WILDLF BIOL). PILOT CIRCLED AND LANDED. A/C INSPECTED BY COMPANY MX. NO DMG REPTD EXCEPT COST TO CLEAN A/C.',\n",
       "       'DURING INSTRUCTIONAL FLT JUST BEFORE ROTATION A/C STRUCK A DEER. IMPACT DENTED L SIDE OF ENG COWLING  PROP, COWL AND BOTTOM OF FUSELAGE. ALSO DAMAGED EXHAUST PIPE. A/C WAS BROUGHT TO A STOP ON THE RWY.   DMG REPTD AS MINOR ON ASIAS REPT. OTHER COST WAS FO',\n",
       "       'NO DMG. ARPT HAD NO INFO ON THIS. HIT 5 SML BIRDS ON DEPTR (ASSUME TAKE OFF RUN). NO REPTD DMG. FLT CONTD.',\n",
       "       'ID BY SMITHSONIAN, FAA 3965. WHOLE FEATHER AND DNA. ATCT NOTIFIED ARPT OPS OF STRIKE. BOTH ENGINES INGESTED BIRD(S). DMG TO LEFT MAIN INBD FLAP. A/C FERRIED AT 1030 ON 12/20. CANCELLED FLT WAS $50,000, REPAIRS WERE $124,740.',\n",
       "       'RT WING DAMAGED SEVERELY. A/C GROUNDED FOR AT LEAST A MONTH. USED FOR DRUG TASK FORCE',\n",
       "       'ENG WAS DISASSEMBLED FOR INSPN. BORESCOPED. INSTALLED NEW INLET STATOR. REPAIRED YPASS STATOR AND FAN ASSEMBLY. COMPRESSOR WASH.',\n",
       "       'ID BY SMITHSONIAN, FAA 2979. HIT MEDIUM FLOCK OF BIRDS ON APCH TO 16R NEAR ILS 3 MILE MARKER. PILOT UNCERTAIN OF #  IN FLOCK. WEATHER CONDITIONS INCLUDED HEAVY FOG. A/C OUT OF SERVICE NUMEROUS DAYS. PHOTOS. DMG TO NOSE, PROP, RT STRUT AND L WING.',\n",
       "       '8 GEESE OF APPROX 12 WERE KILLED ON THE RWY.',\n",
       "       'ID BY SMITHSONIAN, FAA 2470. PHOTOS. BIRD FLEW INTO THE LEFT TIP TANK AND BIRD PARTS STRUCK THE LEFT WING AND BOOT AND FUEL TANK VENT. THERE WAS DAMAGE. DURING APPROACH I CHECKED FOR AIRBORNE HAZARDS ON EITHER SIDE. AS I WAS TURNING MY EYES BACK TO RWY 04',\n",
       "       'ID BY SMITHSONIAN, FAA 3172. AFTER DESCENDING FROM IMC CONDITIONS BTWN YAVUP AND RGGO WAYPOINTS ON RNAV (GPS) RWY 31 APPROACH, A LOUD REPORT WAS HEARD BY FLT CREW AND PAX. INSPECT OF CO-PILOT WINDSCREEN WITH A FLASHLIGHT REVEALED FEATHERS AND BLOOD ON WIN',\n",
       "       'ID BY SMITHSONIAN. INGESTED INTO #2 ENG. FOUR FAN BLADES DMGD.',\n",
       "       'missing', 'missing',\n",
       "       'ID BY SMITHSONIAN, FAA 3864. MICRO & DNA. PILOT SAYS ATIS DID NOT INDICATE BIRD ACTIVITY IN VICINITY OF AIRFIELD. TIME OUT OF SERVICE 2.5 HRS. RETD TO AIRPORT FOR INSPN. NO DMG.',\n",
       "       'ID BY SMITHSONIAN, FAA 2661. 3 FAN BLADES DAMAGED IN LEFT ENG. REMAINS FOUND IN COWLING. (DATA ENTRY NOTE: COST INFORMATION GATHERED FROM A CERTIFIED MECHANIC FOR B-737 AS A MINIMUM COST OF REPAIRS, DID  NOT COME FROM SWA.)',\n",
       "       'A/C WAS HOLDING SHORT OF RWY WHILE PILOT PERFORMED FINAL CHECKS BEFORE T/O. PHEASANT FLEW UP INTO THE RT ENG PROPELLER AND WAS KILLED. REMAINS ON PROP, ENG NACELLE, FUSELAGE, AND UPPER WING SURFACE. ENG RPM FLUCTUATED BUT CONTD RUNNING NORMALLY AFTERWARD.',\n",
       "       'SHORT FINAL. LOW VISABILITY. FLOCK TOOK OFF INTO A/C. ATIS WARNING. BOTH ENGS INGESTED BIRD. ENG MANU WAS CALLED IN TO PULL BOTH FANS AND BORSCOPE ENGS. NO DMG. NOT A CORE INGESTION.',\n",
       "       'ID BY SMITHSONIAN. POSTFLT INSPN REVEALED TWO BIRDSTRIKE LOCATIONS. PILOT STATED NO BIRD SEEN. TRS MX STATED THERE WOULD BE NO DELAYS INCURRED AND REPLACEMENT OF LANDING LIGHT ON WINGTIP WOULD BE DEFERRED TO PLANES NEXT LOCATION. OVER BAY AFTER ALNDING CL',\n",
       "       'BLOOD AND FEATHERS STREAKED DOWN CAPT SIDE OF RADOME.',\n",
       "       'DENTED RT WING LEADING EDGE 8 TO 11 INCHES WIDE AND 2 INCHES DEEP. PHOTOS. MX WILL REPALCED THE SKIN.',\n",
       "       'POSSIBLE SPARROW, VERY SML REMAINS FUND ON PROP AND COWLING.',\n",
       "       'ID BY SMITHSONIAN, FAA 3722. COYOTE OR DOMESTIC DOG. FOX WAS FOUND ON RWY. DMG TO RT MAIN GEAR DOOR. ARPT OPS REPORTED THAT A/C HIT A FOX OR COYOTE ON T/O ROLL',\n",
       "       'LARGE DENT ON LEADING EDGE OF RT WING.',\n",
       "       'NOTAM WARNING. 2 BIRDS. DENT IN OUTSIDE LE',\n",
       "       'FIRST INDICATION OF BIRDSTRIKE WAS A MED VOLUME THUMP ABOVE CAPT FRONT WINDSCREEN (WINDOW L-1). LOCATION REPTD AS MOBIE.',\n",
       "       \"AS A/C WAS 10' FROM TOUCHDOWN, BIRDS FLEW UP INTO PATH OF LDG A/C. NOT VIZ FROM TWR. ABOUT 15 WERE STRUCK. MINOR DMG TO TRAILING EDGE FLAP.\",\n",
       "       'BLACKBIRDS, CROW? RT ENG 3 FAN BLADES WERE DAMAGED AND HAD TO BE REPLACED.',\n",
       "       'CANCELLED NUMEROUS FLTS DUE TO DAMAGE.',\n",
       "       'JUVENILE WHOOPING CRANE. SAW 4, HIT 1. LEFT INBD FLAP DMG. HAD TO RENT A FLAP WHILE REPAIRS WERE BEING MADE. THIS CRANE WAS PART OF THE FLOCK THAT WAS BEING TRAINED TO MIGRATE BY OPERATION MIGRATION AND WAS KNOWN AS DAR 741.',\n",
       "       '11 PAX. NO ONE WAS HURT. PROP BROKE OFF. REMOVED ENG DUE TO DAMAGE.',\n",
       "       \"CREW ADZ BY MINNEAPOLIS CENTER TO BE AWARE OF BIRD ACTIVITY. CREW AWARE OF AFD REMARKS : WILDLIFE HAZARD ON FIELD. SAW 4 DEER ON SIDE OF RWY. 3 RAN AWAY, 1 TRIED TO CROSS RWY. DEER HIT ABOUT 6' FROM RT WING ROOT AND WENT UNDER WING. PAX'S NOT AWARE OF STR\",\n",
       "       'SMALL BIRD IMPACTED CENTER OF F/O WINDSHIELD DURING LANDING R/O AT APPROX 90 KNOTS. NO OBVIOUS DMG NOTED. BIRD REPTD AS \"SMALL TO MED SIZED. UNKNOWN COLOR OR TYPE\".',\n",
       "       'Post flight borescope of the #2 engine revealed damage NRTS. (Engine exchange cost $342747.00 plus $128 labor).  Additional strikes to the #4 flap and left wing leading edge caused no damage.',\n",
       "       'CRACK IN ENG NACELLE. SWA MX REPAIRED ENG WITH COSTS AND OUT OF SERV TIME TBD. NO SAMPLE COLLECTED FOR ID. SMO 070/10.',\n",
       "       'BIRD REPTD AS RING-TAILED GULL, ASSUME RING-BILLED. DELAYED SUBSEQUENT FLT FOR CLEANING AND INSPN. 12 MINS.',\n",
       "       'WE WERE IN THE LANDING FLARE WHEN WE SAY THE BIRDS AND THEY FLEW UP INTO THE A/C. I COULD NOT AVOID THEM.',\n",
       "       'ENG SURGED THEN RETURNED TO NORMAL.  ENG NOT CHANGED BUT OIL COOLER WAS REPLACED. BORESCOPED. ATIS WARNING FOR BIRDS. COSTS FROM MX AT AIRPORT.',\n",
       "       'ID BY SMITHSONIAN, FAA 2427. FLEW THROUGH A FLOCK OF BIRDS ON APCH. FOUND BLOOD SMEAR ON LE OF LEFT HORIZ STABILIZER. ARPT SECURITY COLLECTED BLOOD SAMPLE. NO DMG.',\n",
       "       'LANDING FLARE SAW SEVERAL BIRDS IN T/D ZONE OF RWY 18. ALL BIRDS TOOK OFF. ONE STRUCK LT PORTION OF NOSE SLIDING UP INTO THE WINDSHIELD WIPER AND ACROSS CA SIDE WINDSHIELD. REST OF LANDING UNEVENTFUL. NO DMG.',\n",
       "       'NO DMG NOTED BY MX ON INSPN. ALL STRIKES WERE ON RT WING.',\n",
       "       'HIT BIRD ON DEPTR END OF RWY. DMG TO #2 ENG. PILOT DECLARED AN EMERGENCY AND DIVERTED TO LOVE FIELD. LANDED W/O INCIDENT.  APPEARED TO HAVE BENT 2 FAN BLADES. BIRD WAS DARK BROWN.',\n",
       "       'BIRD HIT RT LE OF WING. DAMAGE DID NOT AFFECT FLIGHT CHARACTERISTICS. RAVENS FREQUENTLY ARE NEAR S END BOUNDARY OF  ARPT. FLY NEAR POND 1/8 MI S OF RWY 21/3. REPTD AS RAVEN, ASSUME COMMON.',\n",
       "       'PILOT REPORTED TO ATCT STRIKING AT LEAST 1 BIRD ON T/O. WS BIOL WITNESSED THE STRIKE AND ALSO SAW A RED-TAILED HAWK RECOVER THE DEAD BIRD FROM RWY 16R AT INTXN WITH RWY 11/29. PILOT REPORTED \"NO DAMAGE\" FROM THE AIR, BUT INSPECTION HADN\\'T BEEN DONE.  NO O',\n",
       "       '3 BLADES WERE DAMAGED.',\n",
       "       'PILOT REPTD FLOCK WENT OVER A/C EXCEPT FOR 1.  IT IHT BELOW NOSE. PILOT INITIATED \"GO AROUND\" CONCERNED ABOUT LDG GEAR DMG. FLY BY ATCT INDICATED NO DMG. HOWEVER, PILOT NOTED STRANGE ENG NOISE DURING POWER CHANGE. ENG SHUT DOWN UPON LDG. FOUND BIRD REMAIN',\n",
       "       'DMG CAUSED TO LE OF RT WING AT THE ROOT. DENT OF ABOUT 4\" WITHIN THE WING. RT FUEL TANK PERFORATED. RT MAIN GEAR IMPACTED BUT SLIGHTLY DMGED.',\n",
       "       'GULL POSSIBLY, WHITISH IN COLOR. HIT LWR HALF OF RADOME ON L SIDE ABOUT 1\\' BACK FROM TIP OF NOSE. SLIGHT STRUCTURAL DMG WITH 1\" DIAMETER CHIP OF PAINT REMOVED AND CRACKED PAINT AROUND PERIMETER OF IMPACT ZONE.',\n",
       "       'BIRD HIT L WING NEAR TIP CAUSING A LRG DENT IN LE, TEARING OFF 3 VORTEX GENERTORS, DAMAGING THE DE-ICE BOOT, REMOVING ABOUT 6 SQ INCHES OF PAINT. LOCAL MECH SAID PLANE WAS AIRWORTHY.',\n",
       "       'ID BY SMITHSONIAN, FAA 1709.  PHOTOS. DMG TO RT ENG FAN.',\n",
       "       'ID BY SMITHSONIAN. OPS WAS NOTIFIED OF BIRDSTRIKE AND RESPONDED TO AEROSIM RAMP. MADE CONTACT WITH PILOT. REMOVED SML FEATHER FORM RT WING. NO DMG. A/C WAS DOING TOUCH  AND GO PRACTICE.',\n",
       "       'ID BY SMITHSONIAN, FAA 2422 & 2381 A & B.100% DNA MATCH. BIRDSTRIKE AT ROTATION. CREW DID NOT NOTICE DMG UNTIL INSPN AT KONT. DENT WAS 5\" BY 8\" AND 1\" DEEP. LOTS OF BLOOD ON LEFT ENG COWL AND PYLON. A/C WAS REMOVED FROM SERVICE. PHOTOS OF DMG.  DELAYED FL',\n",
       "       'FLOCK OF 4-5 BIRDS FLEW RT TO LEFT.  POSSIBLY SPARROWS. INSPN FOUND #2 ENG HAS 5 DAMAGED BLADES. 3 WERE BLENDED AND 2 WERE SCRAPPED. THE #4 & #7 TIRES WERE DAMAGED DUE TO THE ABORTED T/O.',\n",
       "       'HIT 4-7 GEESE AT ROTATION NEAR INXTN OF RWY 5/23 AND RWY 13/31. A/C ABORTED T/O AND TAXIED BACK TO RAMP. COSMETIC DMG.',\n",
       "       'BIRD ID BY SMITHSONIAN FAA 449 & 465. (FIRST REPTD AS LRG SEAGULL).  ENG WAS SHUT DOWN AND A/C MADE AN EMERGENCY LDG.  13,000 LBS OF FUEL WAS DUMPED OVER THE OCEAN. NTSB AND FAA INVESTIGATION DUE TO SIGNIFICANT DMG. #3 ENG AND COWLING WERE REMOVED AND REP',\n",
       "       \"HIT CAPT'S SIDE WINDOW.\",\n",
       "       'CREW NOTIFIED OF DEER ON FIELD. ARPT MGR CHASED DEER FROM ACTIVE RWY. ON ROLL-OUT 2ND DEER RAN FROM WEST WOOD INE ONTO THE RWY. PILOT SWERVED TO AVOID DEER. DEER HIT JUST BELOW PILOT WINDOW, SCRAPED AGAINST STATIC PORTS AND HIT L WING ROOT FAIRING. FERRY',\n",
       "       'ATIS WARNING. BIRDS REPTD AS CROWS, ASSUME AMERICAN CROW FROM LOCATION. L PROP,  L FUSELAGE, & L HORIZ STABIL. WERE STRUCK.  COST WAS FOR WASHING.',\n",
       "       'FLT 639. BIRD PUNCTURED HOLE IN FWD FUSELAGE, DEPRESSURIZED A/C.  THE DAMAGED AREA WAS 24-30\" FORE-AFT AND 14-16\" VERTICALLY. FLT WAS DELAYED 140 MINS. REMOVED & REPLACED DAMAGED SKIN.',\n",
       "       'DMG TO L WING, LE. THINK IT WAS A WOOD DUCK',\n",
       "       'PROP WA DRESSED TO REDUCE NICK ON 1 BLADE',\n",
       "       \"ONE MILE SHORT FINAL. RADOME DMGED AT 4 O'CLOCK POSITION IF YOU WERE LOOKING AT NOSE OF A/C. LARGE DENT, OVER A FT WIDE, 8 INCHES DEEP OR SO. BLOOD REMAINS. PAINT PEELED OFF. SOME FEATHERS. NO DMG TO ENG.\",\n",
       "       'STRIKE WAS AT TOUCHDOWN. BIRD PUNCTURED WING AT STALL WARNING HORN',\n",
       "       'missing',\n",
       "       'DMG TO #1 ENG, RADOME AND WEATHER RADAR.  REMOVED AND REPLACED #1 ENG. EST COST TO REPLACE PARTS WAS $434612. EST COST OF LABOR WAS $2925. EST COST FOR A/C OUT OF SERV AND CANCELLATION OF FLT WAS $100000. TOTAL EST COST FOR REPAIRS WAS $537537.',\n",
       "       'L WING LE WAS DAMAGED.',\n",
       "       'JUVENILE EAGLE. DENTED ENG COWLING 3.5 INCHES.  DURING T/O BIRD CROSSED RWY AND WAS STRUCK. PART OF WING WAS INGESTED INTO #2 ENG. BIRD WEIGHED 7.7 LBS. A/C UT OF SERVICE FOR REPAIRS UNKN AT THIS TIME. PHOTOS.',\n",
       "       'missing', 'missing',\n",
       "       'PILOT NOTICED WOOD PIECES & FEATHERS COMING INTO THE COCKPIT THRU THE OPEN CANOPY AND AN EXTREME VIBRATION ENSUED THRUOUT THE A/C. PILOT SHUT THE ENG DOWN AND PERFORMED AN EMERGENCY LDG IN A PASTURE. A/C HIT A SHALLOW DITCH WHICH WAS OBSCURED BY TALL GRAS',\n",
       "       'ID BY SMITHSONIAN. INGESTION. 7 FLIGHTS CANCELLED. $50,000 FOR DELAYED/CANCELLED FLTS. ENG COMPLETELY DESTROYED. BLADES FRACTURED, ENG SURGED, VIBRATION AND TEMP INCREASED. ALL FAN BLADES, IGV FRACTURED.',\n",
       "       'ID BY SMITHSONIAN, FAA 2506. PILOT REPTD STRIKING LRG BIRD, PROB. A HAWK. #2 ENG WAS SHUT DOWN DUE TO VIBRATION. 165,000 LBS OF FUEL WAS DUMPED ($100,000). DECLARED AN EMERGENCY AND RETD TO ORD. AT LEAST 5 BLADES HAD SIGNIF DMG. A/C WAS REPLACED CAUSING A',\n",
       "       'HIT UNSEEN BIRD ENTERING DOWNWIND LEG AT PATTERN ALT. FLT CHARACTERISTICS SEEMED NORMAL ON LDG. NO REMAINS FOUND.',\n",
       "       'ID BY SMITHSONIAN, FAA 3795.  DNA. DMG TO FAN BLADE. MULTIPLE BIRDSTRIKES ON T/O. LANDED W/O INCIDENT.',\n",
       "       'MODERATE DENT IN L WING LEADING EDGE ACCOMPANIED BY FEATHERS AND OTHER MATTER. PILOT SAID DAMAGE WAS SUBSTANTIAL BASED ON ICAO DEF.',\n",
       "       'LEADING EDGE DAMAGE TO L HORIZ STABIL',\n",
       "       'ID BY SMITHSONIAN, FAA 3143. COPILOT SAW 2 LRG BLACK BIRDS GO PAST HIS WINDOW. ENG HAD NUMEROUS COMPRESSOR STALLS WHICH FORCED THE #2 ENG TO BE SHUT DOWN AT WHICH TIME THE PILOT DECLARED AN EMERGENCY. INSPN FOUND MANY BIRD PARTS ON STATOR VANES. COMPRESSO',\n",
       "       'HIT 2 GULLS DMGD RT WING LE. DENT 8-12 \" LONG AND 2-4 \" DEEP.',\n",
       "       \"BIRD WAS GRAY WITH 2' WINGSPAN. UPON LIFT-OFF, PILOT REPTD BIRD STRIKE & REQSTD TO RETURN FOR LDG WITH EQUIPMENT STANDING BY.  LANDED W/O INCIDENT. PILOT REPTD SOME ENG DMG.\",\n",
       "       'PILOT REPTD BIRD AS LRG AND WHITE. INGESTED. SLIGHT VIBRATION. ENG INDICATIONS UNCHANGED. PILOT RETARDED #2 ENG THROTTLE & VIB DIMINISHED. ATC NOTIFIED & FLT CLEARED TO LAND. LANDED W/O INCIDENT. 5 FAN BLADES REPLACED).',\n",
       "       'DID NOT SEE BIRD UNTIL IT APPEARED ON RT SIDE OF A/C. RT HORIZONTAL TAILE STRUCK. MINOR DMG. SUSPECT BIRD WAS OVERTAKEN SINCE IT DID NOT TAKE ANY EVASIVE ACTION.',\n",
       "       'COST FOR INSPN. BLOOD FOUND ON RADOME.',\n",
       "       'FLT 409. HEARD A LOUD BANG AND THOUGHT THE NOSE CONE WAS POSSIBLY GONE. RETD TO STL. LANDED W/O INCIDENT. NOSE CONE WAS INTACT BUT HAD BEEN PENETRATED BY A BIRD.  BIRD WENT THRU RADOME, RADAR AND METAL WALL WHERE RADAR IS MOUNTED. BIRD ID BY SMITHSONIAN (',\n",
       "       'L WING FRONT EDGE, WING TIP, LENSE COVER BROKEN,DENTED.',\n",
       "       'ID BY SMITHSONIAN.  REMAINS COLLECTED BY MX AND SUBMITTED TO USDA/WS. REPLACED RADOME DUE TO 16\" DIAMETER DENT. LAST FLT FOR A/C THAT DAY.',\n",
       "       'RAN THRU 2 FLOCKS OF BIRDS ON 2 MILE FINAL. 2 STRIKES. 1 ON L ENG OTHER ON NOSE STRUT. BROKE BOTH LIGHTS (LDG & TAXI). ONLY HEARD I IMPACT. RPL RT NLG LDG LIGHT FRAME & RETAINER. RPL OTH NLG LDG LTS. 4 FAN BLADES DAMGED AT TIPS & MID SPAN. MANY BLADES HAV',\n",
       "       'INGESTED BIRD ON T/O. DAMAGED FAN BLADES. LANDED W/O INCIDENT. ID BY SMITHSONIAN. FAN SECTION REPLACED. ACOUSTIC LINER DMG BORESCOPED ENG, OKAY. ODOR IN CABIN. ENG PARA NORMAL BUT ENG SOUNDED ODD.',\n",
       "       'LEADING EDGE OF LEFT WING, PITOT TUBE, LEFT SIDE WINDOW AND CENTER SECTION BETWN WINDOWS WERE DAMAGED. A/C WAS OUT OF SERVICE UNTIL APPROX SEPT 9TH.',\n",
       "       'DMG TO #1 ENG THRUST REVERSER BLOCKER DOOR IS UNREPAIRABLE. WILL BE REPLACED. FOUND DURING POST FLT WALK AROUND. CREW UNAWARE OF STRIKE. THIS PART IS ONLY DEPLOYED DURING LANDING ROLL. DMG WAS TEMP REPAIRED. TIME OUT OFSERVICE REPTD AS 1.5 HRS AND 14 HRS.',\n",
       "       'ID BY SMITHSONIAN. BOTH BAGS WERE GADWALL.',\n",
       "       'BOTTOM HALF OF BIRD INGESTED IN #1 ENG. REQUIRED OVERHAUL.',\n",
       "       'IMPACT POINT ON DEICE BOOT ON TOP OF LEFT HORIZ STABILIZER. NO STRUCTURAL DMG. (DATA ENTRY NOTE: DATE NOT REPTD, ASSUME SAME AS DATE REPT WAS FILLED OUT. FLIGHTAWARE SHOW A/C LANDED ON 5/12/08 AND NOT 5/19)',\n",
       "       'ON L/R WE SAW TWO BIRDS APPROACHING THE A/C. ONE BIRD STRUCK L SIDE OF RADOME, OTHER BIRD MISSED A/C. ONLY EVIDENCE OF STRIKE WAS SMALL GREY POWDER LOOKING AREA ON L SIDE OF RADOME. NO DENTS, NO ABNORMAL ODORS AND NO OTHER ABNORMAL INDICATIONS.',\n",
       "       'FOWL REMNANTS WERE FOUND ON WING LE AND ENG.',\n",
       "       '10\" DENT ON RT WING LEADNG EDGE ABOUT 3\\' INBD FROM WING TIP.  LARGE HAWK. MINOR SKIN DMG. BIRD WAS DISCARDED BY FBO BEFORE ID COULD BE MADE.',\n",
       "       'ID BY SMITHSONIAN. HIT FLOCK OF LRG BIRDS. PENETRATION. BIRD ENTERED COCKPIT. CABIN DEPRESSURIZED.  WINDSHLD WAS COVERED WITH BLOOD. BIRD DEBRIS AND INSULATION WAS SPLATTERED ON CAPT & COPILOT. 17 STRIKES FOUND. 11 PUNCTURES.  AREAS DENTED INCLUDE ABOVE W',\n",
       "       'BIRD OR BIRDS WERE NOT SEEN BY CREW. RADOME WAS POINT OF INITIAL IMPACT. PAINT WAS COMPLETELY DISLODGED FROM IMPACT AREA IN AJAGGED EDGED SHAPE AOBU 14\" IN DIAMETER. THE INBD TKS PANEL ON THE LF WNG LE WAS SLIGHTLY DENTED. DUE TO DMG TO INTRICATE PLUMBING',\n",
       "       \"PILOT REPTD PAINT DMG ON NOSE. CALLED ROC AND NOTIFIED FSDO PER PILOT'S REQUEST. SMASHED NOSE. 3 GEESE IN RT ENG. 1 LODGED IN NOSE. GLANCING BLOWS IN L ENG. RT ENG OK. REPLACED NOSE, RADAR, NOSE BOWL.\",\n",
       "       'ID BY SMITHSONIAN, FAA 2562. TIME OUT OF SERVICE 0.2 HRS. INSPN COST $100.',\n",
       "       'SMALL DENT ON RT HAND OUTBOARD SLAT.',\n",
       "       'REMAINS COLLECTED BY ORD WILDLF CONTROL AGNT.', 'missing',\n",
       "       'DMG TO LEADING EDGE OF L WING OUTBOARD. A/C OUT OF SERVICE ABOUT 10 WEEKS.',\n",
       "       'LARGE BIRD, POSSIBLY GOOSE. DENTED SCOOP IN THE NOSE. PHOTO.',\n",
       "       \"ID BY SMITHSONIAN, FAA 7037. DNA. IN LDG FLARE, BIRD WAS SEEN AND IMMEDIATELY HIT SIDE WINDSCREEN ON CAPT'S SIDE AS IT TRIED TO ESCAPE THE PATH. STRIKE WAS OVER WATER. SFO ARPT OPS CAME TO GATE & TOOK DNA SAMPLE FROM WINDOW.\",\n",
       "       'LARGE WHITE BIRD DID SIGNIF DMG TO LE OF RT WING. PILOT WAS ON DOWNWIND, TURNING BASE TO LAND. AT ABOUT 800 FT AGL SAW WHITE FLASH FROM LFT TO RT IN WINDSCREEN. BIRD HIT LE OF RT WING. (PHOTO ON ARPT WEBSITE)',\n",
       "       'DURING WALKAROUND NOTICED A/C RT LANDING LIGHT BROKEN WITH REMAINS OF BIRD. REPTD TO MX OF BIRDSTRIKE. KJAC TOWER REQUESTED CALL, THEY INFORMED THAT THEY FOUND GLASS AND BIRD REMAINS ON RWY. DID NOT NOTICE BIRD ON FINAL TO RWY 19. A/C TIME OUT OF SERV REP',\n",
       "       'HAWK OR OWL INGESTED BUT DID NOT CUT OUT ENG. NO PAX. COST FOR LEASING ANOTHER AIRCRAFT WAS $20,000.',\n",
       "       'ID BY SMITHSONIAN, FAA 2440. HIT 2 BIRDS ON FINAL APCH. 1 MILE EAST OF ARPT.',\n",
       "       'BOTH ENGS WERE BORESCOPED ON ARRIVAL AT PHX. NO DMG FOUND. COST INCLUDES OUT OF SVC TIME AND LABOR. PILOT REPTD DMG BUT FURTHER INVESTIGATION WITH AIRLINE FOUND THIS WAS NOT TRUE.',\n",
       "       'NO DMG. BIRD HIT #1 COWLING (RT SIDE) LIP AND DEFLECTED TO BOTTOM INBOARD RT WING.',\n",
       "       'PILOT REPTD STRIKING BIRD WHEN TURNING BASE TO JOIN FINAL APCH. THERE APPEARS TO BE SOME BUCKLING OF SKIN. A/C WAS STRUCK ON THE NOSE. THE BULKHEAD HAD TO BE REPLACED. PHOTOS.',\n",
       "       \"DOVE/PIGEON. HIT PILOT'S EMERGENCY DOOR. INSP REQD BY MX. COST LESS THAN $500. TIME OUT OF SERVICE 1/2 HR.\",\n",
       "       'ENG WILL BE EXAMINED. DOWN TIME NOT KNOWN. NO INGESTION. BENT INTAKE ON RT ENG. L ENG ALSO TOOK A STRIKE.',\n",
       "       'HEARD 4-6 THUMPS. NO DMG. REMAINS COLLECTED FROM RWY. FLT CONTD TO DEST. DID NOT ADVISE TWR OF WHERE A/C WAS STRUCK.',\n",
       "       'RT WING L/E DMG.',\n",
       "       'WING, LEADING EDGE HAD A DENT 18\" WIDE, 8\" DEEP. 3 HRS TO APPLY TEMP PATCH.',\n",
       "       'HAWK WAS ON CENTERLINE. WE HIT IT AT V1 AND CONTD T/O. FLEW 27 MILES NORTH TO PTK AND LANDED W/O INCIDENT. HIT & BROKE L LDG LIGHT. TRIP WAS CANCELLED AND MX REPLACED ENTIRE LIGHT.',\n",
       "       'DURING LDG, PILOT HEARD A THUMP FOLLOWED BY A BURNING SMELL. RT ENG INTAKE HAD REMAINS OF BIRD. (DATA ENTRY NOTE: DAMAGE BOX NOT CHECKED ON FORM BUT COST WAS SHOWN FOR REPAIRS)',\n",
       "       'F/O SAW BIRD GO UNDER NOSE ON SHORT FINAL. ENTIRE CREW HEARD IMPACT. COST FOR 1 HR INSPN.',\n",
       "       'HIT L OTBD FLAP ON OTBD EDGE DURING LDG. BENT OUTER EDGE SLIGHTLY. MINOR DMG.',\n",
       "       'ID BY SMITHSONIAN, FAA 3299. (BIRD REPTD BY PILOT AS POSSIBL HAWK OR GULL)  STRIKE CAUSED VIBRATION IN #2 ENG. A/C BURNED FUEL THEN RETD TO LAND W/O INCIDENT. DID NOT DECLARE AN EMERGENCY. BORESOCPED.  REPLACED 7 FAN BLADES AND REBALANCED THE FAN. ENG WAS',\n",
       "       'ATIS ONLY.  BIRD HIT #1 ENG COOLER INLET. MOST OF BIRD REMAINED AFTER LDG. DMG TO ENG COWLING.',\n",
       "       \"DURING GEAR RETRACTION AFTER T/O, A LRG BIRD APPEARED IN FRONT OF A/C. DESCENDING FROM TOP RT TO BOTTOM LEFT IN FRONT OF COCKPIT. BIRD HIT WITH A LRG THUD UNDER PILOT'S  FEET. PREC LDG. INSPN FOUND NO DMG. REMAINS ID BY WILDLF BIOL AT ARPT.\",\n",
       "       'A/C INGESTED AN EAGLE INTO THE LEFT ENG WHICH SHUT DOWN. LOUD BANG WAS HEARD FOLLOWED BY VIBRATIONS AND COMPRESSOR STALLS. T/O WAS ABORTED. A/C TAXIED BACK TO TERMINAL ON REMAINING ENG. PAX SAW FLAMES COMING FROM THE ENG. 2ND A/C THAT CAME TO TAKE THE  PA',\n",
       "       'SOURCE = AAIPN & NTSB ATL02LA040 & 5200-7',\n",
       "       'RABBIT WAS INGESTED. FUR IN ENG. ENG VIBRATIONS. ENG AT 91% IN REVERSE THRUST. REVERSE IMMEDIATELY TERMINATED AND A/C TAXIED TO GATE. 3 FAN BLADES DAMAGED BUT 6 WERE CHANGED. ENG SHUT DOWN AFTER EXITING RWY. (ANOTHER REPORT SAID THAT ALL 1ST STAGE FAN BLA',\n",
       "       'BIRDSTRIKE ON RT WING LDG LIGHT. LIGHT WAS REMOVED BY BIRDSTRIKE.',\n",
       "       'WENT THRU RT ENG. TORE LOOSE A TEMP PROBE AND CAUSED DAMAGE TO FAN BLADES.',\n",
       "       'DEER WAS KILLED. WOODEN WING WAS DAMGED. RT WING LE SKIN WAS BROKEN OUT BACK TO THE FUEL TANK. MINOR DMG TO SUBSTRUCTURE (ONE NOSE RIB AND SOME STRINGERS). ONE AILERON PUSH ROD WAS BENT IN SAME PART OF WING.',\n",
       "       'HEARD BIRD IMPACT ON FISELAGE. POSTFLT INSPN REVEALED BIRD FEATHERS ON AOA VANE AND A BLOOD SMEAR IMMED BEHIND THE AOA VANE. CONTRACT MX CONTACTED TO INSPECT FOR DMG AND CLEAN REMAINS. LOCATION REPTD AS 20 MILES WEST.',\n",
       "       'ID BY SMITHSONIAN. FAA 6862, WHOLE FEATHER. BIRD ON RWY DURING ROLLOUT. FLEW UP AS WE NEARED. FLEW BY CAPT WINDOW AND INTO ENGINE. THRUST REV WERE ALREADY DEPLOYED. ONE OF SEVERAL BIRD ON RWY AT THAT TIME. NO ENG DMG. BIRD WENT THRU FAN AND BYPASS DUCT. C',\n",
       "       'ID BY SMITHSONIAN, FAA 1857. LE OF RT WING WAS STRUCK. PILOT WAS IN A LEFT TURN DOWNWIND TO BASE. PART OF BIRD WENT THRU ENG AFTER STRIKIING LE OF WING. DAMAGE WAS SUBSTANTIAL. PHOTOS. NO ENG DMG. BORESCOPED. OTHER COST WAS FOR LOSS OF USE OF A/C AND TRAV',\n",
       "       'IN TRAFFIC PATTERN ON DOWNWIND LEG, 2 LARGE BLACK BIRDS APPEARED DIRECTLY IN FRONT OF PLANE. 1 FLEW OVER THE A/C, THE OTHER BARELY CLEARED THE PROP AND HIT THE VERT STABIL. NO REMAINS AVAILABLE FOR SUBMITTAL.',\n",
       "       'ID BY SMITHSONIAN, FAA 1429. #2 ENG HAD SIGNIFICANT DMG AND WAS SHUTDOWN IN FLIGHT. RETD TO ARPT. UNEVENTFUL 1 ENG LDG.  ENG WAS DAMAGED BEYOND REPAIR.',\n",
       "       'ABOUT 10-12 MINUTES INTO THE FLIGHT A/C HIT AT LEAST 3 CANADA GEESE. F/O WINDSHIELD SHATTERED, CUTTING COPILOT ON FACE. RADOME HEAVILY DAMAGE. PHOTOS. EMERGENCY LDG. GOOSE WA PULLED OUT OF RADOME AT ARPT.',\n",
       "       'EVIDENCE OF BIRDSTRIKE ON L MAIN LANDING GEAR ASSEMBLY. LANDING ROLL OUT-FLARE ON. (DATA ENTRY NOTE: # STRUCK NOT REPTD, ASSUME 2-10, SAME AS # SEEN.)',\n",
       "       'CRACK IN COMPOSITE TRANSMISSION COWLING.',\n",
       "       'ID BY SMITHSONIAN, 2400. ARFF RESPONDED. 4 FAN BLADES DAMAGED. COST REPTD AS $780 FOR EACH OF 4 FAN BLADES THAT HAD TO BE REPLACED. A/C WA OUT OF SERVICE FOR THE AFTERNOON.',\n",
       "       'CAPT REPTD BIRDS AS SPARROWS. WILDLF BIOL AT ARPT COULD NOT CONFIRM SPECIES. SAW 30-40. INGESTED 1-2 IN EACH ENGINE. COSTS AND TIME OUT OF SERVICE ARE ESTIMATES FROM THE CAPT.',\n",
       "       'A/C WAS IN LEVEL FLT WHEN WE HEARD A THUD AND FELT THE A/C SHUDDER. PILOT FELT SOME FEEDBACK DURING MOMENT OF IMPACT ON THE RUDDER PEDALS WHICH SUBSIDED INSTANTLY AFTER IMPACT. VERT STABILIZER WAS DAMAGED WITH A DENT ABOUT 14\\' LONG, 4\" WIDE AND 1\" DEEP. B',\n",
       "       'BAD ODOR NOTICED. BIRD WAS STANDING ON CENTERLINE OF RWY WHEN WE LANDED. THEN BEGAN TO FLY AND WAS STRUCK BY LWR INTAKE OF #2 ENG AND INGESTED. ALL ENG INDICATIONS WRE NORMAL. INSPN FOUND NO DMG BUT NOTED INGESTION INTO THE CORE REQUIRING BORESCOPE INSPN',\n",
       "       'HIT AT LEAST 3 BIRDS. 11 DAYS OUT OF SVC. #1 ENG HAD A PARTIAL INGESTION WITH NO DMG. PHOTOS. ID BY SMITHSONIAN FAA 662 & 676. DAMAGED RADOME AND NOSE (PEELED UP). DMG L WING. WINDSHLD HAD BLOOD ON IT. HORIZ STABIL DENTED. FLOWN TO TX FOR REPAIRS. SIGNIFI',\n",
       "       \"WS PICKED UP 5 CARCASSES FROM RWY 35 AT 3000' RM. A/C WAS UNABLE TO LEAVE AND WAS DOWN FOR 36 HRS AFTER AA MX CONDUCTING BORESCOPE OF #2 ENG FOUND NO DMG. PART OF WING AND FEATHERS WERE PULLED OUT OF THE ENG. ESTIMATED COST FOR ENTIRE EVENT WAS $300,000.\",\n",
       "       'IMMEDIATELY AFTER T/D AND AFTER AIRBRAKES WERE DEPLOYED 3 DEER WERE SEEN ON RWY. 1 HIT OUR L MAIN LDG GEAR AND L INBD FLAP. CONTD LDG ROLL & STOPPED  NORMALLY. ALL FLT CONTROLS WERE LEFT N THE  LDG CONFIGURATION AND TAXIED TO THE RAMP. NO INJURIES. REMOVE',\n",
       "       'LIGHT GRAY/BROWN BIRD, PERHAPS TERNS. NO VISIBLE DMG TO ENG. STRONG FOUL SCENT IN AIR CONDITIONING LIKE BURNING SEWAGE. TIME OUT OF SERVICE 1/2 HR. ARPT BIO HAD NO INFORMATION ON THIS.',\n",
       "       'SUSPECT SEAGULLS. SAW A FORMATION OF ABOUT 3 BIRDS JUST PRIOR TO IMPACT. ONE HIT NOSE, LOW. ONE OR TWO WENT IN #1 ENG. NO ABNORMAL ENG INDICATIONS. LANDED NORMALLY AND CALLED MX. BEGAN TO SMELL FOUL SMELL ON TAXI IN. ARPT OPS NOT NOTIFIED. LOCATION REPTD',\n",
       "       '7-8 BIRDS SUDDENLY APPEARED I FRONT OF A/C. SEVERAL HIT NOSE & WINDSHLD. FORCE OF IMPACT FRACTURED INNER PANE ON CAPT SIDE. NUMEROUS SMALL PIECES OF GLASS IHT CPT IN FACE, SCALP & CHEST. HE TURNED CONTROL OVER TO F/O FOR LDG. EMERG POWER SWITCHED ON AFTER',\n",
       "       \"ON SHORT FINAL, CAPT HEARD A BANG, AIRSPEED DROPPED 40 KTS, WINDSHEAR WARNING SOUNDED. CAPT CHECKED F/O'S AIRSPEED AND HIS LOOKED NORMAL. CAPT CONTD APCH AND LDG. PITOT TUBE WAS REPLACED. TOOK 2 MAN HRS.\",\n",
       "       'REPLACED INLET STATOR',\n",
       "       'CROW? RT WING LE DAMAGED. COST RANGE $10-15,000.',\n",
       "       'NO DMG TO LDG GEAR.',\n",
       "       '2 DEER RUNNING IN FRONT OF A/C AT T/D. THEY WENT UNDER LE OF WING ON EACH SIDE. 1 HIT L FLAP, OTHER RT FLAP. RT FLAP WORST DAMAGE WITH SPLIT SKIN AND VERY WRINKLED. NO INJURIES. HAD TO RENT FLAPS UNTIL REPAIRS COULD BE MADE.',\n",
       "       \"A STORM HAD JUST PASSED THRU THE NY AREA. ARPTS HAD BEEN CLOSED FOR SEVERAL HRS. WE WERE 1ST A/C INTO LGA. SAW A FLOCK OF GULLS ABOUT 75' OFF THE GROUND. TIME WAS 9:30-10). HIT 15-20 BIRDS. FOUND INGESTION ON #1 ENG. SUSPECT INGESTION IN #2 ENG. FOUND BIR\",\n",
       "       'PHOTOS. DENTED LE OF LEFT WING.',\n",
       "       'NO DMG. BLOOD SMEAR ON NOSE CONE. PILOT REPTD BIRDS AS SMALL RED AND BLACK IN COLOR, MED SIZE FLOCK.',\n",
       "       'JUST AFTER T/O DECISION SPEED REACHED (95-97 KNOTS), MULTIPLE BIRDS ENTERED T/O PATH. SEVEN TO NINE BIRDS IMPACTED CAUSING TWO SMALL DENTS IN LE OF WINGS. ONE (SMALLER) ON LT WING, OTHER LARGER ON RT WING. BIRDS WERE IN UNIMPROVED AREAS BTWN RWY AND TWY.',\n",
       "       'A/C ON SHORT FINAL. HIT A \"GOOSE\" ON LWR PART OF RADOME. CRACKED ABOUT 4\". REPLACED RADOME COST ABOUT $50,000. BIRD LATER ID\\'D BY SMITHSONIAN AS GULL. FAA 966. WS BIOL SPOKE WITH SMITHSONIAN AND BELIEVES THE GULL WAS A GLAUCOUS-WINGED GULL. A/C MOVED TO H',\n",
       "       '55 BIRDS. BOTH ENGS HAD VIBRATION AND WERE BORESCOPED. 2 FAN BLADES DAMAGED, 4 REPLACED. OTHER COST WAS FOR LOST REVENUE. THERE MAY HAVE BEEN ADDITIONAL COSTS.',\n",
       "       'BIRDS FLEW INTO FLT PATH FROM GROUND. DAMGED FAN BLADES',\n",
       "       'FLT INSTRUCTOR AND STUDENT PILOT, THE CFI WAS LANDING ON INSTRUMENTS. ABOUT 5 SECONDS AFTER T/D, THE PILOT SAW 4-5 DEER ON RT SIDE OF RWY. 1 RAN ONTO THE RWY AND INTO THE A/C. PILOT SWERVED TO AVOID IMPACT. SEVERE DMG TO RT WING AND RT ENG COMPARTMENT. PH',\n",
       "       'NOTIFIED DEPTARTURE. DO NOT KNOW IF REMAINS WERE COLLECTED. EST $100 FOR INSPN.',\n",
       "       'BIRD IMPACTED LE MID PORTION OF VERTICAL STABILIZER. NO DMG. ARPT OPS RECOVERED AN INTACT BIRD AT TWY A5 AND RWY 16R WHICH WAS A GREAT EGRET. SMF MX INSPN FOUND STRIKES ON HORIZONTAL STABILIZER AT APPROX 4\" UP FROM TOP OF #2 ENG. NO DMG NOTED.  A/C TIME O',\n",
       "       'RT PROP AND ENG, RT NOSE GEAR DOOR.',\n",
       "       \"SAW A DEER ABOUT 50 YARDS AHEAD WHEN 5' FROM T/D AND APPLIED FULL POWER TO DO A GO-AROUND. FELT JOLT IN TAIL. OTHER DEER HAD HIT US.  STABILATOR JAMMED CAUSING A/C TO CLIMB & ALMOST STALL. SAW LRG DENT ON L OTBD LE OF STABILATOR FROM COCKPIT. FLEW THE PAT\",\n",
       "       'NO DMG. SOME BLOOD BELOW PITOT TUBE.',\n",
       "       'ATIS WARNING. DAMAGED LEFT BOTTOM FIBERGLASS COWLING WITH MAJOR PAINT DMG.',\n",
       "       'STRUCK UPPER NACELLE LIP WITH PARTIAL INGESTION. NO DMG OBSERVED.',\n",
       "       '1 GOOSE OUT OF A FLOCK OF ABOUT 10, GRAZED THE RADOME CAUSING SOME DMG. FORTUNATELY IT WAS NOT A DIRECT STRIKE.',\n",
       "       'ENG INLETS DAMAGED. NO NOTICEABLE EFFECT ON PERFORMANCE IN FLIGHT. DMG BEING ASSESSED AT GARRETT AGS, EST 30 DAYS FOR REPAIRS.',\n",
       "       'BIRDS NOTED IN AFD. BIRD REPTD AS PELICAN, ASSUME BROWN FROM DATE AND LOCATION.',\n",
       "       'DMG TO COWLING, EXHAUST SYSTEM AND FUEL INDUCTION SYSTEM.',\n",
       "       'APPEARS TO BE 3 STRIKE. 1 ABOVE RADOME, BY ICE DETECTOR AND MAIN GEAR. NO DMG. REPORT OF BIRD MATTER IN #1 ENG. ONLY COSTS WOULD HAVE BEEN LABOR FOR BIRDSTRIKE INSPN AND THE HIGH ENERGY STOP INSPN FOR ABORTED T/O. 18 MAN HRS SPENT.',\n",
       "       'ANGLE OF ATTACK INDICATOR BROKEN OFF RT SIDE OF A/C.',\n",
       "       'SAW 2 BIRDS FLYING ACROSS RWY BUT UNABLE TO AVOID. POOR LIGHT CONDITIONS. BIRD WAS INGESTED AFTER V1. SEVERE COMPRESSOR STALLS. 1ST STAGE FAN HAD AT LEAST 2 BLADES DMGD. APPROX $250000 DMG.',\n",
       "       'GULL OR CROW. WINDOW SMACKED BY BIRD AND OUTER HEATING ELEMENT DAMAGED BY IMPACT AND OVERHEATED.',\n",
       "       '40 IN OUT FROM RT ENG. 6 IN BY 4 IN BY 3/4 IN DEEP DENT ON LE OF WING.',\n",
       "       \"DENT ON L SIDE RADOME. WITHIN LIMITS.  DON'T RECALL IF ATIS MENTIONED BIRD ACTIVITY. ALL ENTRIES ARE TO THE BEST OF MY RECOLLECTION.\",\n",
       "       'ABORTED T/O AFTER INGESTING A GULL IN BYPASS FAN PORTION OF  L ENG.  THUMP & HOWL CAME FROM ENG. BOTH MAIN TIRES DEFLATED THROUGH HEAT PLUGS. INSPECTIONS COMPLETED AND MAIN LDG GEAR, WHEELS, TIRES AND BRAKE ASSEMBLIES ARE BEING TESTED AND/OR REPLACED AS N',\n",
       "       'SHEET METAL PEELED BACK WHERE RADOME MEETS FUSELAGE. MX DID INTERIM REPAIR. EVEN 6787.',\n",
       "       'HIT 2 CANADA GEESE AND 1 RED-TAILED HAWK ON T/O. DMG L WING OTBD LE AND RT PITOT TUBE. PHOTOS.',\n",
       "       'DENTED L HORIZ STABL. LE. PHOTOS INCLUDED. ALSO LOSS OF VALUE,  $169,000.',\n",
       "       'DMG TO OUTSIDE ANTI-ICE AREA OF LE RT WING. 6\"-7\" DIA DENT ABOUT 1-1.5\" DEEP WITH BIRD REMAINS CONTINUING INTO RT MAIN LDG GEAR.',\n",
       "       'NO DMG. THUD AND BIRD REMAIN. LOCATION REPTD AS 20 MILES N KBWI.',\n",
       "       'missing',\n",
       "       'ID BY SMITHSONIAN, FAA 2371. BOTH RT SIDE OF NOSE AND LE OF RT WING DENTED. SOME WENT THRU THE ENG FAN. PRELIM REPT NO ENG DMG. ARPT CASE NO. 08-3286',\n",
       "       'ID BY SMITHSONIAN, FAA 4695.MICRO, WHOLE FEATHER & DNA.  A/C WAS SLOWING FROM 280 TO 190 KIAS. WHEN THE CAPT SAW WHAT HE THOUGHT WERE GULLS. THE A/C HIT A FLOCK OF LARGE BIRDS ON APPROACH ABOUT 4NM W OF ARPT. DECLARED EMERGENCY.  ONE OF THE BIRD PENETRATE',\n",
       "       'COSMETIC DMG. RADOME BOOT REPLACED. A/C WAS NOT TAKEN OUT OF SERVICE.',\n",
       "       '2 MI SE OF ARPT, HEARD LOUD BANG UNDER CENTER PANEL NEAR OUR FEET. CONTD TO DEST. FOUND DENT AND MISSING AINT AND BLOOD ABOUT 2 FT AFT OF RADOME. CLASSIFIED AS ALLOWABLE DMG.',\n",
       "       'POSSIBLE DMG TO STANDBY PITOT TUBE. PITOT TUBE REPLACED.',\n",
       "       'ID BY SMITHSONIAN. EMERGENCY WAS DELCARED AND A/C WAS DIVERTED TO OAK. #3 ENG WAS DAMAGED AND REMOVED. NOSE COWL, BOTH THRUST REVERSERS AND RADOME WERE DAMAGED. ESTIMATED COST OF REPLACEMENTS AND REPAIRS WAS $3,228,053. PHOTOS.',\n",
       "       'BIRD SEEN ON RWY JUST PRIOR TO ROTATION. BIRD TOOK OFF JUST PRIOR TO A/C PASSING OVERHEAD. HIT L MAIN LDG GEAR BTWN TIRES. FLT CREW UNAWARE OF IMPACT UNTIL ARRIVAL AT DESTINATION. BIRD WAS FOUND LODGED IN LDG GEAR. FWD BRAKE LINES WERE BROKEN BY IMPACT, B',\n",
       "       'DMG TO OUTBOARD L/E OF LT WING.',\n",
       "       'BIRD DOVE FROM ABOVE OUT OF SIGHT AND STRUCK A/C NOSE. A/C WAS IN TRAFFIC PATTERN WITHIN 1 MILE OF ARPT. REPLACED SKIN ON A/C. PHOTO.',\n",
       "       'ID BY SMITHSONIAN. PS FOUND HAWK ALONG WITH PARTS ON RWY. USDA/WS COLLECTED FEATHER SAMPLE FROM PARTS TO BE SURE STRIKE WAS THE SAME BIRD. A/C REPAIRED AT DESTINATION.',\n",
       "       'DMG TO RT WING.',\n",
       "       'CREW UNAWARE OF STRIKE. FLT CONTD. DMG TO LE OF L WING FOUND ON POST FLT INSPN. LE DENTED OTBD OF #2 ENG. ASSEMBLY IS A QUICK CHANGE UNIT.',\n",
       "       'missing', 'NO DMG TO A/C. NO COMMUNICATION WITH ARPT OPS.',\n",
       "       '5 DEER SEEN ON N SIDE OF RWY. ABORTED T/O BUT ANOTHER DEER ON S SIDE OF RWY RAN INTO PATH OF A/C. L WING LE AND ANTI-ICE PANEL STRUCK AND DAMAGED. L WING FUEL CELL RUPTURED AT LWR FWD WING ROOT.',\n",
       "       'ID BY SMITHSONIAN, FAA 2035. BIRD FIRST REPTD AS GULL. BIRD HIT WINDSCREEN IN CENTER ABOUT 1/4 FROM THE TOP.  WINDSCREEN SHATTERED & A PIECE AOBUT 12\"  X 10\" ENTERED THE COCKPIT AND HIT THE CARGO CURTAIN TO THE RIGHT OF MY HEAD. EMERGENCY DELCARED. LANDED',\n",
       "       'missing',\n",
       "       'ID BY SMITHSONIAN. CREW SAW 4 LARGE BLACK BIRDS. RADOME DAMAGED BEYOND REPAIR. PRESSURE BULKHEAD TORN AWAY FROM FUSELAGE IN ONE 6\" TO 8\" AREA. A/C WAS FLOWN TO DFW FOR REPAIR. REMAINS WERE RECOVERED FROM THE RADOME. STRIKE WAS 3-5 MILES S OF ARPT. NO REMA',\n",
       "       'ON LDG ROLL, SML FLOCK OF BIRDS FLEW ACROSS RWY 9L, VERY CLOSE TO THE GROUND. WE HIT 1 ON LWR L FUSELAGE JUST BEHIND RADOME. NO DMG. MX INSPCTD AND CLEANED UP REMAINS. I INCLUDED $600 FOR COST BECAUSE WE HAD TO USE CONTRACT MX AND I THINK THAT IS THE GOIN',\n",
       "       'MINOR DMG TO L NOSE & FUSELAGE. RETRACTABLE LDG LITES DMGD. HOLE IN FUSELAGE FWD OF PRESSURE BULKHEAD WHERE RIVETS POPPED. A/C FERRIED FOR REPAIRS. YOUNG DOE. NO PERIMETER FENCE, DEER ARE COMMON. WHERE WE HIT DEER IS A COMMON CROSSING POINT. NOTIFIED OF T',\n",
       "       'RETURNED TO BASE KGLW.', 'DMG TO BLADES ON #2 ENG.',\n",
       "       'APPROX 6 NM FINAL.',\n",
       "       'FLOCK OF SML BIRDS WERE SITTING IN THE T/D ZONE. UPON T/D, FLOCK TOOK FLT. WE INGESTED 4-5 BIRDS. 8 BLADES WERE DAMAGED.',\n",
       "       'BIRD INGESTED. DMG TO 5 FAN BLADES, ENG KEPT OPERATING BUT WITH GREATER THAN NORMAL VIBRATIONS AT HIGHER POWER SETTINGS. MADE PREC 2 ENG LDG. ALL ENG #1 FAN BLADES REMOVED AND REPLACED.',\n",
       "       'POSSIBLE GULL HIT RT WING LE OTBD AREA AT RECOGNITION LIGHT.  BROKEN LENS, BULB AND ASSEMBLY.  MINOR SKIN DMG IN AREA WHERE LENS ATTACHED TO WING SKIN.',\n",
       "       'ABOUT 6 MILES SE OF CMH ON VISUAL APCH TO 28L WE HEARD A BIRDSTRIKE NEAR THE FLIGHT DECK. FOUND REMAINS OF BIRD JUST BELOW THE CENTER FLIGHT DECK WINDOWS.',\n",
       "       '8 FAN BLADES BENT COMBUSTION CHAMBER ALSO DAMAGED. LANDED W/O INCIDENT. DID A 1ST STAGE FAN CHANGE.',\n",
       "       'RADOME DAMAGED OUT OF LIMITS. REMOVED AND REPLACED.',\n",
       "       \"ARPT BIOL ID'D BIRD. PITOT TUBE DAMAGED AND REPLACED. PART WAS $11,207, LABOR $210, COST FOR AMMENITIES (HOTELS ETC) WAS $1800. NON-MAINTENANCE OPERATIONAL COST WAS $1300. OUTBOUND FLT DELAYED 3 HRS.\",\n",
       "       'WE CONTD 25 MIN FLT TO PDK BECAUSE THERE WAS NO INDICATION OF ANY PROBLEM ON ENG INSTRUMENTS. BIRD WAS NOT SEEN UNTIL IT WAS TOO LATE TO REACT. LEFT ENG NACELLE WAS DENTED. PHOTO SENT FEATHERS STICKING OUT OF SEAM..',\n",
       "       'BIRD HIT L WING NEAR STRUT. THERE WAS SIGNIFICANT DMG TO LEADING EDGE INCLUDING SKIN  DMG. OUT OF SERVICE A MONTH. PHOTOS.',\n",
       "       'ID BY SMITHSONIAN, FAA 4085. DNA. SHORTLY AFTER ROTATION ABOUT 6 BIRDS WERE SPOTTED BY PILOT FLYING. 1 WAS INGESTED INTO L ENG. NO ADVERSE INDICATIONS ON ENG. FLT WAS COMPLETED SAFELY. STRIKE WAS REPTD TO TWR VIA PHONE AFTER LDG. CONTROLLER WAS UNINTEREST',\n",
       "       'NO DMG NOTED. FINAL APRCH.',\n",
       "       'BIRD HIT RT WING AT MID-POINT. DENTED LE 8\" X 2.5\" X .25\"',\n",
       "       'HIT DEER ON T/O. PILOT IMMEDIATELY ABORTED T/O AND RETURNED TO THE RAMP AREA. LEFT WING, LOWER FUSELAGE, PROP AND LEFT MAIN  LDG GEAR WERE DAMAGED. REPTD AS SUBSTANTIAL. ENGINE WA OVERHAULED. WING AND DEICING SYSTEM WERE DAMAGED. REPAIR NOT COMPLETED AS O',\n",
       "       'TORE OFF RT MAIN GEAR DOOR. SML PUNCTURE HOLE IN OTBD FLAP. SML DENT IN SKIN ON BOTTOM OF WING. COSMETIC CLEAN UP.',\n",
       "       '3 FAN BLADES DAMAGED. ID BY SMITHSONIAN FROM SMALL SAMPLES REMOVED FROM THE COMBUSTION CHAMBER. FAA 1297. BIRD ORIGINALLY REPT AS GULL.. ENG WAS 70 DEGREES HOTTER THAN @3 ENG. N2 WAS 5% FASTER. REPALCED FAN BALDE SETS. BORESCOPED. EVENT 7037. ALT REPTD AS',\n",
       "       'UNKNOWN - HAWK OR BUZZARD. DMG TO RT PROP DEICE AREA AND DMG TO RT ENG NACELLE. LOCATION REPTD AS 7 MILES ESE OF KEKO.',\n",
       "       'FLOCK FLEW INTO DEPTR PATH. OVER 30 BIRDS WERE KILLED. NACELLE, WING ROOT, LE OF WING, EXHAUST STACK RADOME, RIGHT BRAKE LINE & LIGHTS WERE DAMAGED. BIRD WAS INGESTED. NO INJURIES. COST WAS REPORTED TO BE AT LEAST $100,000.',\n",
       "       'FLT DEPTD THEN TURNED SOUTH & HIT A BIRD. RETD TO PHX. NO DMG. ID BY SMITHSONIAN 1035. &1088. COSTS EXPECTED TO BE $10,000-20,000 FOR TURNING AROUND AND RE-ROUTING PAXS. RWY REPTD AS 25 R AND 26',\n",
       "       'DMG TO LE OF VERT STABIL. ABOUT 2\\' FROM THE TOP. AREA OF DMG WAS 14\\' TALL, 3-4\" WIDE AND 3\" DEEP. NO CRACKS OR OTHER STRESS NOTED DURING VIS INSPN. DENT IN METAL. FOUND SML, GRAY, DOWNY FEATHERS. PHOTO ATTACHEDTO REPT.',\n",
       "       'NO DMG. FEATHERS ON COWL AND A LITTLE BLOOD ON PROP OBSERVED AFTER SHUTDOWN. LOOKED LIKE SANDPIPER? STRIKE OCCURRED UPON EXITING TWY LIMA.',\n",
       "       'COST ESTIMATED BETWEEN $10-20,000. LEADING EDGE OF WING AND FLAP DAMAGED. PLANE WAS FLOWN TO MI FOR REPAIRS.',\n",
       "       'DENTED SHEET METAL ON NOSE.', 'missing',\n",
       "       'FLOCK OF MED SIZED BIRDS CROSSED THE LANDING RWY FROM THE WEST. A/C BEING INSPECTED BUT IS BELIEVED THAT ONE OR MORE BIRDS STRUCK THE RADOME. OTHER STRIKES NOT READILY APPARENT. NO EFFECT ON LANDING.',\n",
       "       \"DEER LEFT GRASS AREA BTWN WOODS AND RWY, ENTERED LDG AREA AND HIT A/C AT 90 DEGREE ANGLE IN RT LWR FIREWALL AREA,(NO DMG HERE), LWR WING LIFT STRUT AND RT MAIN LDG GEAR SUPPORT/STRUT. PILOT REPTD DEER'S HEAD HIT THE FUELING STEP WHICH IS JUST FWD OF THE W\",\n",
       "       'BIRD WAS LODGED I NOSE LDG GEAR. DAMAGED HYDRAULIC LINE. COULD NOT TURN A/C TO THE RIGHT AND HAD TO BE TOWED TO GATE. FLUID WAS LEAKING AND SPRAYED THE FACE OF A GROUND CREW WHO WAS TAKEN TO THE HOSPITAL, EVALUATED, DEEMED OK AND RETURNED TO WORK LATER TH',\n",
       "       'ID BY SMITHSONIAN, FAA 4257. DNA. DEPARTING RWY 1. T/O WAS NORMAL UNTIL ROTATION WHEN WE INGESTED A MED SIZED BIRD INTO THE #2 ENG. CONTD T/O AND CLIMBED TO A SAFE ALTITUDE EXPERIENCING ENG VIBRATIONS AND THRUST REVERSER UNLOCK INDICATIONS. COMPLETED EMER',\n",
       "       'BIRD REPTD AS CORMORANT, ASSUME DOUBLE-CRESTED. PILOT REPTD STRIKING A BIRD ON APCH. NO REMAINS FOUND. HE SAW SEVERAL BIRDS. DMG TO RT WING FLAP. NO EFFECT ON FLT. PHOTOS.',\n",
       "       'LARGE DENT IN L ENG COWLING. #1 ADF ANTENNA DAMAGED. TIME OUT OF SERVICE REPTD AS 14,000 HRS. CALLED PILOT TO VERIFY.',\n",
       "       'ID BY SMITHSONIAN. FAA 4223. DNA. DMG REPTD TO ENG INLET ON #1 ENG BY CAS. ALLEGIANT AIR MX HAD TO FLY ANOTHER A/C AND TRANSPORT MX AND A SPARE PART FROM LAS VEGAS. PILOT INDICATED THAT THE STRIKE OCCURRED DURING T/O AND NOT REALIZED UNTIL THE REMAINS WER',\n",
       "       \"AFTER BEING CLEARED TO LAND, PILOT SAW A BIRD ABOUT 30' OVER A/C. BIRD TUCKED AND DOVE AT A/C, SHATTERING RT WINDSCREEN. R/SIDE GLARESHIELD DAMAGED. RIGHT FRONT AND REAR PASSENGERS RECEIVED MINOR INJURIES. PILOT TRIED TO CALL TWR BUT RADIO WAS NOT WORKING\",\n",
       "       'DAMAGED LEFT TIP TANK. TME LOST WAS MOSTLY DUE TO PAINT NOT  MATCHING.',\n",
       "       'STRIKE AT INTXN OF RWY 20 & TWY F. AT 1839. CARCASS RECOVERED. RADOME WAS TAPED. A/C RETD TO HNL WITH FLT CREW ONLY. INGESTION IN #1 ENG ACCORDING TO AIRLINE. NO DMG TO ENG.',\n",
       "       'ID BY SMITHSONIAN, FAA 4181, DNA. PILOT REPTD BIRDSTRIKE DURING T/O. RETD TO APRT. VIBRATION /NOISE STOPPED AFTER REDUCING THRUST ON AFFECTED ENG. UPON INSPN FOUND AT LEAST 3 FAN BLADES DAMAGED. 9(DATE ENTRY NOTE: FOLLOW UP CALL FOUND THAT  BLADES WERE RE',\n",
       "       'PILOT REPTD INGESTION OF BIRD IN #2 ENG. ID BY SMITHSONIAN FAA 859',\n",
       "       'L ENG CHANGED. INGESTION. (ENG MANU REPTS NO FAN BLADE DMG)',\n",
       "       'ATIS WARNING. RETD TO MCO DUE TO BIRDSTRIKE. FLT CREW REPTD BIRDSTIRKE ON T/O ROLL. HIT F/O UPPER PITOT TUBE CAUSING AIR DATA INSTRUMENT DISAGREEEMENT. PHOTOS. ID BY ARPT  BIOL REPLACED PITOT. NO OVERWT INSPN REQD. NO EMERG DECLARED.',\n",
       "       'TIME OUT OF SERVICE 0.4 HRS.',\n",
       "       '2,000 TO 3,000 FT DOWN RWY. NOSE CONE DENTED, PAINT REMOVED. CONDUCTED 2 RWY INSPECTIONS. NO REMAINS FOUND. WS GAVE BIRD COLLECTION KITS TO MX SUPV. ESTIMATED COSTS OBTAINED FROM AIR CHINA HQ. REPAIRS MADE IN CHINA.',\n",
       "       'ID BY SMITHSONIAN. FAA 4771. WHOLE FEATHER. TWO DENTS IN LT INBOARD SLAT.',\n",
       "       'ID BY SMITHSONIAN FAA 1939. A/C HIT BIRD WITH NO APPARENT EFFECT ON FLGHT. MX FOUND DMG TO 6 FAN BLADES AT BWI AND FEATHERS IN #2 ENG. SUBMITTED TO USDA/WS AT BWI. ALTHOUGH 6 BLADES WERE DAMAGED THEY REPLACED THE ENTIRE SET OF 38.',\n",
       "       'BIRD STRIKE AT ROTATION. SML BROWN. NO DMG. TIME OUT OF SERVICE 1/2 HR. COST WAS FOR LABOR.',\n",
       "       'TRAINING FLIGHT WAS DISCONTINUED FOR MX INSPN. (REPORT NOT RECEIVED IN OFFICE UNTIL JUNE 2007)',\n",
       "       'INGESTED SML BIRD IN #1 ENG. REPTD BY GROUND CREW TO OPS. FOUND BY A/C MX. ENG WAS BORESCOPED. NO DMG FOUND. ESTIMATED COST WAS $8,000 - 9,000.',\n",
       "       'A SKY OF BIRDS HIT THE A/C, NUMBER IN THE THOUSANDS. DMG TO FWD BULKHEAD SKIN. FLAPS. 19 STRIKES MOSTLY ON BELLY AND FLAPS',\n",
       "       'ATIS WARNING. 3 NM NW OF OMN ARPT. LARGE DENT ON PILOT SIDE LEADING EDGE TOWARD WING TIP.',\n",
       "       'ID BY SMITHSONIAN FAA 657. # BIRDS STRUCK NOT REPTD, ASSUME 1, SAME AS # SEEN.  SAW AND HEARD BIRD AT SAME TIME. ALL FLT CONTROLS AND ENG INDICATIONS SHOWED NO ABNORMALITIES. LANDED W/O INCIDENT. DUCK HIT COWLING AND WENT OUTSIDE OF ENG.',\n",
       "       'ID BY SMITHSONIAN, FAA 2900. SAMPLE WAS MOLDY NO DNA SEQ. PILOT REPTD SEEING 2 BIRDS ON RWY. 1 POSSIBLY HIT A/C. PREC LDG. HAD TO SHUT DOWN #1 ENG. FOUND 2 FAN BLADES DAMAGED BEYOND REPAIR, ATTRITION LINER DENTED.  ALSO DAMAGED WERE T/R OUTBD LINER BRACKE',\n",
       "       \"HEARD IMPACT IN FLT. HIT NEAR PITOT TUBE. FOUND IMPACT MARK ON POSTFLT. BIRD BLOOD, ETC. NO DENT OR DMG.  REPT FROM AIRSIDE AGENT INDICATED 100' ON APCH TO 9L AND THAT NO MARKS WERE FOUND.\",\n",
       "       'BIRD HIT NOSE GEAR & WENT INTO GEAR BAY. FLT CONTD & LANDED. NO PROBLEMS. COST FOR INSPN.',\n",
       "       'A/C GROUNDED PENDING ENG CONDITION EVALUATION. BORESCOPED. NO DMG.',\n",
       "       'RT WINDSHLD WIPER NEEDS TO BE READJUSTED',\n",
       "       'PROP DMG. ENG REMOVED FOR INSPN. 1 PROP WAS REPLACED, COST UNDER $500 (ASSUME $450).  NO ENG DMG.',\n",
       "       'REMAINS REMOVED FROM RWY. PILOT REPTD ICE DOOR SHUT AT TIME OF INCIDENT AND THAT MOST LIKELY KEPT THE BIRD OUT OF THE ENG. NO DMG OR INGESTION FOUND.',\n",
       "       'BENT 5 1ST STAGE COMPRESSOR FAN BLADES. PENETRATED CORE. INGESTION.  ENG REMOVED FOR INSPN.',\n",
       "       'DAMAGE WAS 2\\' INBD FROM TIP OF LEFT WING. DENT IN LEADING EDGE ABOUT 6\" LONG AND 1\" DEEP.',\n",
       "       'SUSPECT GULL. HEARD THUMP ON APCH BUT NO ABNRML ENG INDICATIONS.  FOUND BLOOD OUTSIDE OF NACELLE & IN TAIL CONE. MAINT INSPN FOUND  DMGD STATOR VANES & COMPRESSOR BLADES.',\n",
       "       'F/O WAS FLYING. ABOUT 2 MI FROM T/D BIRD HIT JUST BELOW CENTER OF WINDSHLD. REMAINS SPREAD OUT UPWARD. BIRD WAS BOUT 8\" BEAK TO TAIL. COST WAS FOR 1HR INSPN.',\n",
       "       'ID BY SMITHSONIAN, FAA 3791. DNA. BOEING TEST FLT FOR JAL B 777. HIT HAWK ON FINAL. PILOTS REPORTED SEEING THE BIRD BUT DID NOT HEAR/FEEL THE STRIKE. THEY DID NOT REPORT TO ATCT.  THEY FOUND THE STRIKE EVIDENCE AFTER LANDING. BIRD REMAINS IDENTIFIED BY WS',\n",
       "       'LOCATION REPTD AS APPROX 10 MILES N KIAD. BIRD REPTD AS UNKNOWN ? DUCK.',\n",
       "       'BIRD STRUCK UPPER STARBOARD SIDE OF RADOME. NO DMG.',\n",
       "       'FLOCK OF BIRDS FLEW UP FROM GRASS ON L SIDE RWY THEN ACROSS TAKE OFF PATH. A/C HAD JUST LEFT THE GROUND. HEARD LOUD THUMP. DENT IN L WINGT ROOT FAIRING AT LE AND NICKLE SIZED AREA OF PAINT CHIPPED FROM L ENG COWLING CYLINDER AIR INTAKE.',\n",
       "       'PILOT HEARD A LOUD THUMP BLOW AND AFT OF RADOME DURING DESCENT PASSING 8,000 FT MSL. POST FLT INSPN FOUND BLOOD SMEAR JUST FWD OF POWER ACCESS DOOR ON LWR RT SIDE OF RADOME. NO DMG.',\n",
       "       'NO DMG.',\n",
       "       'HIT L WING LEADING EDGE ABOVE PITOT TUBE. PUSHED IN A BIT. REPLACING SKIN SECTION SINCE IT CAUGHT A RIB AND PATCHING ACROSS THE RIB WOULD BE DIFFICULT OR PROHIBITIVE.',\n",
       "       'missing',\n",
       "       \"HIT WING ABOUT 5' FROM TIP. MODERATE DMG. WRINKLED LEADING EDGE. FERRIED FOR REPAIR.  REPLACED ALL OF DEICE BOOT & QUITE A BIT OF THE WING. FLT CANCELLED. ID BY SMITHSONIAN FAA 1060.\",\n",
       "       'missing',\n",
       "       'NO DAMAGE. FLT CANCELLED. BORESCOPE INSPN. COST WAS FOR INSPN.',\n",
       "       'TURKEY HIT LE OF RT WING. DENT WAS 12-14 IN. SEPARATED 6 RIVETS ON TOP OF WING.',\n",
       "       'TAKEOFF IMMEDIATELY AFTER ROTATION AND LIFT OFF RWY 6. WE SAW A FLOCK OF APPROX 20-30 CANADA GEESE FLY UP FROM L SIDE OF RWY 6 SHORTLY AFTER REACHING V1. BIRDS THEN FLEW DIRECTLY ACROSS RWY FROM L-R. WE COULD NOT ABORT T/O AND TRIED TO ROTATE QUICKLY ENOU',\n",
       "       'FLT 128 ENCOUNTERED 15-20 BIRDS.  AT 1000 FT, #1 START VALVE  ILLUMINATED & FLT ATTENDANTS REPTD A VIBRATION IN CABIN. MAINT  FOUND NO DMG. COST WAS FOR HOTELS & LOST REVENUE. #1 ENG  VIBRATING. FLT WAS DIVERTED TO SFO.',\n",
       "       'GULL HIT L MAIN LDG GEAR. COST $100 FOR MX CLEANUP',\n",
       "       'ABORTED T/O DUE TO POSSIBLE BIRDSTRIKE AND RETD TO GATE.  FLOCK OF BIRDS INGESTED INTO #1 ENG. COMPRESSOR STALLED. REMAINS FOUND BY STATE RAMP CONTROL.   (DATA ENTRY NOTE: TIME OF STRIKE DIFFERED, 1 REPT HAD 1124AM, LOCAL TIME,  ANOTHER HAD 1724 PST AND A',\n",
       "       'JUST AFTER ROTATION 3/4 DOWN RWY. VIBRATION WAS FELT IN #2 ENG. NOT SHUT DOWN. RETD TO LAND. 4 DAMAGED FAN BLADES (C1 COMPRESSOR FAN BLADES VALUED AT 7700 EACH). ENG WAS DISMANTELED AND ALL FAN BLADES WERE REPLACED. 3 CANCELLED FLTS AND 1 DELAYED DUE TO A',\n",
       "       \"HIT BIRD AT ALTITUDE OF 700-800' ABOUT 4 MILES WEST OF DAB. A/C LANDED W/O INCIDENT. NO INJURIES REPTD. DMG TO RT WING. HAWK?  LOTS OF BROWN & WHITE FEATHERS.\",\n",
       "       'DATA ENTRY NOTE: UNCERTAIN HOW PREC LDG MADE WHILE ON APCH UNLESS DOING TOUCH AND GO. DAMAGE TO BOTH WINDSHIELDS, NOSE BAGGAGE DOOR, &  TAIL. AIRCRAFT WILL BE OUT OF SERVICE UNTIL MARCH 2012.',\n",
       "       'CAPT DID NOT STATE WHAT $300 WAS FOR.',\n",
       "       'PILOT REPTD HITTING 2 BIRDS OVER RIVER ON APCH OF RWY 32. REMAINS OF MALLARD RECOVERED FROM WING/FLAP. EST COST OF $37,000 MINI IS $14,000.',\n",
       "       'SHORTLY AFTER T/O THE A/C STRUCK A GREAT BLUE HERON. THE BIRD WENT THROUGH THE PROP CUTTING THE BIRD IN HALF. PART OF THE BIRD STRUCK THE WINDSHIELD AND RT WING. NO DMG TO A/C.',\n",
       "       'STRIKE NOT REPTD TO AIRPORT. ENG REQD BLADE REPLACEMENT.',\n",
       "       'ID BY SMITHSONIAN, FAA 1334. CAPT SAW BIRD SITTING ON RWY AS A/C ROLLED OUT. THE BIRD ATTEMPTED TO FLY AS THE A/C PASSED IT. A THUMP WAS HEARD AND CAPT SHUT DOWN THE #2 ENG WHICH WAS OVERHEATING.  COMPRESSOR WAS REPLACED PHOTOS TAKEN. DMG ESTIMATED BTWN $',\n",
       "       'DEPARTED RWY 14 DURING CLIMBOUT. A/C STRUCK A BIRD. PILOT RECVD THE APPROPRIATE ATIS BROADCAST AND ACKNOWLEDGED HE HEARD THE BIRD ADVISORIES INCLUDED IN IT. STATED HE ONLY SAW THE ONE BIRD AND IT STRUCK THE R WING RESULTING IN ABOUT A TWO FT GASH IN LE. P',\n",
       "       'ID BY SMITHSONIAN. HIT BIRD ON 1.5 MILE FINAL. DMG TO ENG COWLING. A/C FERRIED OUT FOR REPAIRS IN PHX.',\n",
       "       'DMGD RUBBER BOOT ON WING. SML HOLES PUNCHED IN IT BY BONES AND BEAKS AS THEY HIT LE OF WING. PATCHED AND DID NOT REPLACE AT THIS TIME.',\n",
       "       \"DAMAGED RT WING UPPER LEADING EDGE 2' INBD FROM TIP TANK AND LWR NOSE AREA BY OPENING FOR AIR INLET FOR HEATER.\",\n",
       "       'A/C WAS ON L BSE TO RWY 17. RT WING HAD LRG DENT ON LEADING EDGE.',\n",
       "       'STRIKE WAS 4 MILES E ORD. SEVERAL STRIKES. REMOVED SOME FEATHERS & GAVE TO SMC. (data entry note: feathers never turned in for ID) BORESCOPED #2 ENG. OTBD CORE COWL HAS BENT TIP AT UPPER FWD EDGE. DMG TO RADOME, L WING LE & VERTICAL FIN. REPLCD LWR RT PIT',\n",
       "       \"WHITE BIRD. BLOOD SMUDGE ABOVE F/O'S WINDSHLD.\",\n",
       "       'ID BY SMITHSONIAN, FAA 1878. SMOKE IN CABIN. BENT BLADE. BIRD WENT STRAIGHT THRU ENG. ATIS WARNING.',\n",
       "       'DEPARTING RWY 36, KRPB AT DAWN, AT START OF ROTATION, FIRST, A DOE DEER RAN OUT AND ALONG RT SIDE OF A/C. SECOND, BIRDSTRIKE AT ABOUT 300 FT AGL. A GROUP OF THREE BLACK BIRDS. GROUP OF BLACK BIRDS DOVE AND I HAD JUST ENOUGH AIRSPEED TO PULL BACK YOKE TO A',\n",
       "       'ID BY SMITHSONIAN, FAA 3970. BIRDSTRIKE ON FINAL APCH.  FLT CREW LEFT BEFORE PROVIDING ANY INFORMATION. 2 FAN BLADES WERE REPLACED BEFORE A/C WAS RETURNED TO SERVICE. A/C DEPTD 12/19 AT APPROX 1230.',\n",
       "       'ID BY SMITHSONIAN, FAA 3100. DMG TO LEFT INBD LEADING EDGE OF WING. REQUIRED REPLACEMENT OF LEFT INBD LE SECTION OF THE WING DUE TO DENT BEYOND LIMITS.',\n",
       "       \"ACCORDING TO CAPT, JUST AFTER T/O ON DOWNWIND OF RWY 9L AT 1100'  HE SAW 3 LRG BLACK BIRDS ABOUT 150' ABOVE HIM. A FEW SECONDS LATER HE SAW ONE DIVE AND WAS UNABLE TO AVOID THE STRIKE. THE BIRD WAS LODGED IN THE WING. AS HE TURNED AROUND TO RETURN TO KTMB\",\n",
       "       'TWO SMALL BIRDS STRUCK. NO INJURIES ASSOCIATED WITH STRIKE. BROKEN LANDING LIGHT WAS THE ONLY A/C DMG. LOCATION REPTD AS 5NM, N KLOZ.',\n",
       "       'A/C WAS OUT OF SERVICE < 1 HR.',\n",
       "       'WHITE BIRD HIT LEFT WING JUST INBD OF STALL STRIP. DENT WAS 6\" LONG BY 1\" DEEP. NO OTHER DMG. A/C IS STILL IN REPAIRS (2/13/09).',\n",
       "       'DAMAGED FRONT FAN ON RT ENG. 12 BLADES REPLACED. NO GULLS HAD BEEN SEEN ON THE AIRPORT ALL MORNING. THIS WAS A SINGLE GULL, NO FLOCK IN SIGHT.',\n",
       "       'ID BY SMITHSONIAN, FAA 3155. #1 ENG AND PITOT SYSTEM WERE CLEANED WITH NO DMG FOUND DURING INSPN. AIR/OIL FILTER WAS REPLACED.',\n",
       "       'FLOCK OF SML BIRDS WERE SEEN APPROACHING THE RWY FROM THE WEST DURING LATE PART OF THE TAKE OFF RUN. BIRDS WERE STRUCK AFTER LIFTOFF WHILE LDG GEAR WAS IN TRANSIT. NO ABNORMAL INDICATIONS ON EITHER ENG BUT 1 STRIKE COULD BE SEEN ON L WING LE. WE FELT MULT',\n",
       "       'RADOME DENTED WELL BEYOND SERVICEABLE LIMITS. ID BY SMITHSONIAN FAA 435.',\n",
       "       'BIRD INGESTED. FAN BLADES BENT IN TURBINE',\n",
       "       'ID BY SMITHSONIAN. LEFT WING ROOT CRACKED FAIRING AND RIVETS POPPED. SUBSTANTIAL DMG TO K-FLAPS, WING ROOT, WING AND BODY FAIRING AND UNDERLYING STRUCTURE. A/C TAKEN TO SEATTLE FOR REPAIRS.',\n",
       "       'CARCASS FOUND ON RWY SHORTLY AFTER A/C LANDED. LARGE DENT TO L HORIZ STABIL. AIRSPEED IS APPROXIMATE.  A/C HAD TO BE FLOWN EMPTYBACK TO SEATTLE FOR REPAIRS. THAT COST WAS NOT AVAILABLE FROM OPER.',\n",
       "       '(DATA ENTRY NOTE: DMG COST REPTD AS $2,000, ASSUME IT BELONGED WITH OTHER COST SINCE NO DAMAGE WAS CHECKED. DID NOT RECEIVE REPLY FROM QUESTION SENT TO REPORTER)',\n",
       "       'ON SHORT FINAL. BIRD CAUSED A 3\" VERTICAL CREASE ON THE LEADING EDGE OF RT WING. 1/4\" - 3/8\" DEEP.',\n",
       "       'DMG TO L LDG LIGHT. BIRD IS BY WILDF BIOL',\n",
       "       'NO DMG. COST FOR INSPN ONLY.',\n",
       "       'HIT BIRD SHORTLY AFTER ROTATION BEFORE GEAR RETRACTION. RETD TO LAND AS PRECAUTION.',\n",
       "       'A/C RETD TO LAND AFTER REPORTING A BIRDSTRIKE. ARFF RESPONDED. REPTD DMG TO RADOME. TAXIED TO RAMP W/O INCIDENT. (DATE ALSO REPTD AS OCT 11 ON 5200-7) (DATA ENTRY NOTE: BIRD REPTD AS GOOSE, ASSUME CANADA FROM DATE AND LOCATION.)',\n",
       "       'ID BY SMITHSONIAN. BIRD COLLECTED BY ARPT AND SENT TO SI FOR ID. ARPT OPS REPT: ON FLARE TO RWY AT APPROX 50 FT ABOVE RWY, PILOT REPTD BIRDSTRIKE. BIRD HIT NOSE GEAR, BIRD PARTS FOUND ON RWY OVERRUN AND COLLECTED FROM WHEEL WELL OF A/C. NO APPARENT DMG. B',\n",
       "       'ID BY SMITHSONIAN, FAA 2327. CRACK IN LEADING EDGE OF L WING',\n",
       "       'BIRD REMAINS PLUGGED ENG AND DAMAGED MANY PARTS INTERNALLY AS WELL AS FAN BLADES. 11 INLET GUIDE VANES AND 7 1ST STAGE COMPRESSOR BLADES DAMAGED. BIRD DEBRIS THUR CORE AND BYPASS SECTION OF ENG.',\n",
       "       'DID GO AROUND UFR PATTERN. RETURNED FOR LDG. GO AROUND DUE TO OTHER BIRDS. LEFT FLAP HAD EXTENSIVE DMG.',\n",
       "       'missing', 'missing',\n",
       "       'ID BY SMITHSONIAN. PILOT REPT. AS WE ACCELERATED FOR T/O I SAW A LRG BIRD ON LEFT HALF OF RWY T/O AND FLY TOWARDS THE RT SIDE. I PUSHED POWER UP TO TO GO AROUND AND CONTD THE T/O IN HOPES THE BIRD WOULD CHANGE DIRECTION. WE HIT THE BIRD AFTER IT CHANGED D',\n",
       "       'STARLINGS AND SPARROWS. NO DMG.',\n",
       "       '25 MI N OF  BUR.  SKW PILOTS ADVISED SKY OPS OF BIRDSTRIKE ON FINAL DESCENT TO BUR RWY 8. REMAINS (BLOOD/SMALL PARTS OF FEATHERS) WERE DISCARDED PRIOR TO ARPT OPS ARVL AND WERE NOT SAVED. A/C MX DESCRIBED SMALL PIECES OF FEATHERS AS BLACK. A/C MX CHARGED',\n",
       "       'NO DMG NOTED. UNABLE TO DETERMINE SPECIES. UNABLE TO COLLECT REMAINS. FINAL APRCH.',\n",
       "       'ENG FUNCTION NORMAL FROM IMPACT TO T/D AND PARKING. R1 ENG WAS AT IDLE. NO DMG. COST WAS FOR FLYING MECHANICS IN AND OTHERS OUT.',\n",
       "       'ARPT PERIMETER FENCE HAD BEEN REMOVED ALONG THE S BORDER. COLLISION WITH SEVERAL DEER WOULD HAVE BEEN INEVITABLE AND POSSIBLY FATAL, 2 SECONDS EARLIER. SAW 6 DEER. HIT RT WINGTIP. NO INJURIES. MINOR DMG. A/C - CIRRUS SR 20',\n",
       "       'A/C PROCEEDED TO ORD WITH BROKEN LDG LIGHT.  SOME GLASS FOUND ON RWY. REPAIRED ON ARRIVAL.',\n",
       "       'HIT 5 MALLARDS AT ROTATION. SEVERE VIBRATIONS, LOUD SOUND AND HOT SMELL. CAPT PULLED L ENG THRUST BAC, DECLARED EMER. & SHUT DOWN L ENG. TWR REPTD NUMEROUS DEAD DUCKS ON DEPTR END OF RWY. A/C RETD WITH 1 ENG OUT. AT LEAST 1 BIRD WAS INGESTED AND PARTS OF',\n",
       "       'ID BY SMITHSONIAN. FINS BENT IN #2 ENG. 4 BLADES WERE BENT. PILOT REPT AT LEAST 6 BLADES WOULD BE CHANGED. ENG NEEDS TO BE BORESCOPED. VIBRATION. EMERGENCY DELCARED.OPER REPTD AS COA AND UAL',\n",
       "       'ID BY SMITHSONIAN. 3 LARGE DENTS ON RT SIDE OF NOSE. SPATTER ON LDG LIGHT ALONG WING FROM FUSELAGE TO THE #3 ENG. SPATTER ON LEADING EDGE OF HORIZONTAL STABILIZER AND 4 #1 ENG BLADES DAMAGED. DENTS ARE WITHIN LIMITS BUT FAN BLADES WERE REPLACED. STRIKE WA',\n",
       "       'NO DMG. BIRD WAS INGESTED INTO THE INTAKE BUT BLOCKED FROM ENTERING THE ENGINE BY PRE-COMPRESSOR SCREEN. INSPN FOUND NO DMG. COST WAS FOR INSPN AND TRAVEL TIME.',\n",
       "       'missing', 'UNDERSIDE OF #1 ENG COWL WAS DAMAGED.',\n",
       "       'RT ENG NACELLE DEPARTED A/C AND HIT RT HORIZ STABIL. PILOT DID NOT SEE BIRD BUT AFTER LDG, WITNESS CALLED ARPT AND REPTD SEEING A/C HIT BIRD. REPLACED MISSING COWLING AND HORIZ STABIL.',\n",
       "       'NO DMG. LOCATION RETPD AS 4NM NE OF ARPT.',\n",
       "       'ID BY SMITHSONIAN. FAA 6450.  DNA. 2 N1 FAN BLADES HAD TO BE REPLACED. SOME REMAINS APPARENTLY WERE LODGED IN THE NOSE WHEEL AND FELL ONTO RWY 1 AS A/C SLOWED TO TURN OFF RWY. STRIKE WAS ABOUT 14/ TO 1/2 MILE FROM RWY. PHOTO INDICATED AT LEAST 6 IMPACT AR',\n",
       "       'BIRD STRUCK UNDERSIDE OF RT WING TRAILING EDGE FLAP. LOCATION REPTD AS 1/2 MILE FROM KDAL.',\n",
       "       'EXTENT OF DMG WOULD INDICATE A LRG BIRD BUT WE DID NOT SEE IT.   NO CONTROL PROBLEMS EXPERIENCED. A/C TIME OUT OF SVC WAS 5 WEEKS  DUE TO PART UNAVAILABILITY.',\n",
       "       'missing',\n",
       "       'A/C WAS WRITTEN OFF BY INSURANCE COMPANY AND SOLD AT AUCTION. INCIDENT WAS AT NIGHT AND BIRD TYPE WAS NOT SEEN BUT IS ASSUMED TO BE GEESE OR DUCK BIRD TYPE IS SEEN IN AREA. RWY HAS A POND AND RIVER AREA AT APCH END. BLOOD/TISSUE ON UNDERSIDE OF RT WING. A',\n",
       "       'ENGINE SURGED BRIEFLY AND RETD TO NORMAL. ENG REDUCED TO IDLE THRUST AS PRECAUTION. ENG WAS DESTROYED. DAMAGED THE REVERSERS AND PRESSURIZATION SYSTEM. FEATHERS WERE COMING OUT OF THE VENTS IN THE CABIN.',\n",
       "       'INITIAL INSPN INDICATES BIRDS WERE INGESTED IN BOTH ENGS. CORE INGESTION. AIRLINE REPTS NO DMG AFTER BORESCOPE OF BOTH ENGS.',\n",
       "       'IMPACTED 4 WHITE BIRDS ON A NIGHT VMC APCH. A/C DID NOT APPEAR TO BE DAMAGED BUT WE HAD TO LEAVE BEFORE CONTRACT MX FINISHED INSPECTING THE A/C. A/C WAS TAKEN OUT OF SERVICE TO BUY TIME FOR AN INSPN BECAUSE THERE WAS A SPARE A/C IMMEDIATELY AVAILABLE.',\n",
       "       'DMG TO LE OF L WING. 1 NOSE RIB CRUSHED, SKIN TORN. NO EFFECT ON FLT PERFORMANCE. PHOTOS SENT.',\n",
       "       'BIRD HIT WINDSHLD WHILE PILOT WAS CHANGING FREQUENCY. WINDSHLD CAME APART, HIT PILOT ALONG WITH BIRD. FACIAL CUTS REQUIRED STITCHES. MOST OF WINDSHLD DEPARTED A/C. INTERIOR WAS A MESS. STRIKE OCCURRED 6-7 MILES NO OF ARPT.',\n",
       "       'ON SHORT FINAL, IN OVERCAST AND FOG AND JUST AFTER ACQUIRING RWY ENVIRONMENT VISUALLY, A LRG FLOCK OF BIRD APPEARED DIRECTLY IN OUR FLT PATH. WE HIT SEVERAL BUT LANDED UNEVENTFULLY. THERE WERE AT LEAST 14 SEPARATE STRIKES DISTRIBUTED EVENLY AROUND THE PLA',\n",
       "       'BLACK/GRAY BIRD. A/C HANDLED NORMALLY. CONTD TO CLOSE-BY DESTINATION. NOTIFIED TWR FOR OTHER A/C ABOUT TO DEPART. BIRD HIT APPROX 3/4 WAY DOWN RWY ON CENTERLINE. FOR OTHERS SAFETY, REQSTD RWY CHECK FOR ANY CONTAMINATES. RWY REPTD AS 33, THERE IS A 34 BUT',\n",
       "       'REPLACED STROBE LIGHT AND PLASTIC CAP ON WINGTIP.',\n",
       "       'ATIS WARNING. LARGE DENT IN NOSE ABOUT 2.5\" DIAMETER. SEVERAL SMALLER DENTS IN WINGS. BIRD ID BY SMITHSONIAN. COST IS FOR RADOME ONLY. 2 BIRDS INGESTED.',\n",
       "       'ACCORDING TO AIRLINE MX, A LRG BIRD DAMAGED THE RADOME AND WING FLAP ON LDG. NO SAMPLES TURNED IN FOR ID.',\n",
       "       'FLT 1493 STATED HE FLEW THRU A FLOCK OF ABOUT 50 TRUMPETER SWANS. OCCURRED OVER ARPT PROPERTY. ENG REPLACED. INGESTION. PREC. LDG. BENT BLADES, TEMP INCREASED. HIT INLET FIRST. RETD TO LAND',\n",
       "       'ID BY SMITHSONIAN, FAA 4199. PEREGRINE FALCON - WHOLE FEATHER, AND MOURNING DOVE - DNA. PILOT REPORTED STRIKE ON ROTATION. CONTD WITH TAKE OFF BUT AT 10,000 FEET REPTD SEVERE VIBRATION IN ENG. RETD TO LAND W/O INCIDENT.',\n",
       "       'LANDING LIGHT LENSE.',\n",
       "       'AS FLT 1701 WAS ON APRCH TO KDCA, 2 SMALL BLACK BIRDS WERE SEEN AND ONE STRUCK ON THE WINDSCREEN. NO DMG TO EQUIPMENT.',\n",
       "       \"BIRD HIT BTWN WINDOW AND TOP OF FUSELAGE ON PILOT'S SIDE. LEFT A SML OPENING WHERE WINDOW AND FUSELAGE CONNECT. WINDOW HAD TO BE TAKEN OUT AND FUSELAGE STRAIGHTENED. NOT MUCH OF BIRD REMAINED.\",\n",
       "       'BIRD FLEW THRU #1  PROP  DURING LANDING FLARE. FOUND FEATHER PATTERN OF SCRATCHES ON ONE BLADE. NO DMG. BIRD CAPTURED LIVE, TAKEN TO ALASKA RAPTOR CENTER.',\n",
       "       'HEARD A THUMP COME FROM L SIDE OF NOSE. WE HAD NO ABNORMAL INDICATIONS. NEVER SAW THE BIRD. LANDING WAS NORMAL. 20 MILE FINAL TO 9L.',\n",
       "       'LOCATION REPTD 35 MILES FROM LAX. ABOVE F/O WINDSCREEN. NO DMG REPTD OR SAMPLE COLLECTED BY MX. NO DMG REPTD OR SAMPLE COLLECTED BY MX. WS TOLD BY MX THEY DID NOT KNOW THAT BLOOD OR SNARGE SAMPLES COULD BE COLLECTED FOR ID. A/C OUT OF SERV TIME REPTD AS 4',\n",
       "       'ID BY SMITHSONIAN,F AA 3462, DNA. HIT BIRD ON DEPRTR 6800 MSL. RETD TO ARPT. BIRD WAS INBEDDED IN NOSE CONE. REPLACEMENT A/C  REACHED DESTINATION WITH A DELAY OF 90 MINS. PHOTOS.',\n",
       "       'ATIS WARNING. NOSE LDG GEAR, FWD LDG GEAR DOOR DAMAGED AND REPLACED. BIRD FIRST REPTD AS GOOSE BY AIR TRAFFIC MGR. (DATA ENTRY  NOTE: REMAINS CHECKED AS BEING SENT BUT SMITHSONIAN DID NOT RECEIVE THEM.)',\n",
       "       'ATIS WARNING. A/C TIME OUT OF SERV = 1/2 HR.',\n",
       "       'PILOT SAW GRAY BLUR BEFORE BIRD WAS INGESTED.  UNCONTAINED FAILURE, PARTS LEFT THE ENG.  REPLACED NOSE COWL DUE TO NUMEROUS HOLES AND PUNCTURES IN INNER LINER AND 2 LRG PUNCTURES IN OUTSIDE SKIN. REPLACED PRECOOLER FAN AIR AND BLEED AIR INLETS. FAN COWL R',\n",
       "       \"CREW SUSPECTED BIRDSTRIKE ON NOSE AREA THROUGH 4000'. MX FOUND STRIKE ON RADOME. NO DMG DETAILS AVAILABLE.REMOVED AND REPLACED RADOME. COST OF RADOME MIGHT HAVE BEEN $32,000 IF FROM OLD SUPPLY OR 62,000 IF NEW.\",\n",
       "       'FLT CHARACTERISTICS NOT EFFECTED BY DENT IN LE OF WING. MADE TEMPORARY REPAIR',\n",
       "       'ENG INGESTED AT LEAST 1 GULL (BIRD ID BY SMITHSONIAN). ATC TOLD PILOT THEY SAW PART OF ONE ENG FALL TO THE GROUND & WARNED THE PILOT WHO FELT VIBRATIONS. WITNESSES HEARD 3 LOUD BANGS AND SAW FLAMES COMING FROM BACK SIDE OF ENG. FLT 602 SHUT ENG & DUMPED 8',\n",
       "       'A THUMP HEARD NEAR CO/P SIDE WINDOW ON APCH. LANDING WAS UNEVENTFUL. EVIDENCE OF BIRD MEDIUM SIZE FOUND ON POST FLT INSPN. A 3\" BY 8 \" SMEAR WA FOUND 1 FT BELOW R2 WINDOW. INSPN DONE BY CONTRACT MX. NO DMG NOTED.',\n",
       "       '7 STRIKES, 2 DENTED RT WINGSLEADING EDGE. 12 MILES EAST OF OSCEOLA.',\n",
       "       'REPLACED RADOME.',\n",
       "       'FEATHERS & BLOOD SMEAR, NO DMG. (PART OF FORM TORN, SOME INFO MISSING). TIME OUT OF SERVICE 15 MINS,  CIST $50 FOR MX SIGN OFF.',\n",
       "       'F/O NOTICED HAWK & LEVELED AT 4000 FT & 230 KTS WITH N1 VIB PEGGED OUT AT 9.9 WITH NOTICABLE VIBRATION.RETD TO FIELD ON ALERT 1 STATUS. INSPN FOUND3 BENT FAN BLADES & DMG TO ACCOUSITICAL LINER. FIRE CREW LOOKED AT ENG. TAXIED TO GATE. REPLACED 3 FAN BALDE',\n",
       "       'missing',\n",
       "       'RADAR ANTENNA DAMAGED, RADOME CAVED IN. NOT REPAIRABLE. RETURNED TO LAND OVERWT. FLT WAS DELAYED.',\n",
       "       'ID BY SMITHSONIAN, FAA 3141. DNA AND WHOL FEATHER ALL SHOWED SAME SPECIES. LRG INDENTATION ON NOSE RADOME. APPROX SIZE OF FOOTBALL. PROBALBY REPAIRABLE. IF NOT, COST $300,000. PHOTOS OF DMG.',\n",
       "       '# BIRDS STRUCK NOT REPTD, ASSUME 2-10, SAME AS # SEEN.',\n",
       "       \"FLT INSTRUCTOR SAW GLIMPSE OF BROWN WING FOLLOWED BY A LOUD CRASH FROM THE A/C RT WING. HE TOOK OVER FLT CONTROLS AND LANDED A/C.  NOTICED INCREASE DRAG ON RT WING AND INCREASED SPEED FOR LDG. DMG TO WING WAS SUBSTANTIAL. 2' ACROSS ON LEADING EDGE AND 8-1\",\n",
       "       'GREY BIRD HIT LEADING EDGE OF COWL. SOME OF BIRD ENTERED ENG (BYPASS, NOT CORE) AND SOME WENT OUTSIDE.',\n",
       "       'missing',\n",
       "       'BIRDS HIT US JUST AFTER ROTATION, THEREFORE WE WERE TECHNICALLY ON GRND, THEREFORE \"0\" FT. COSTS REFLECTED EST FOR COST OF CONTRACT MX TO INSPECT A/C IN SAN ANTONIO.',\n",
       "       'ID BY SMITHSONIAN, FAA 2464. #2 ENG INLET. BIRD HIT UPPPER SURFACE, BROKE IN HALF, HALF WAS INGESTED. A/C OUT OF SVC 12 DAYS. PILOT INFORMED TWR OF STRIKE ON 3MILE FINAL. BIRD WAS THOUGHT TO BE A GULL OR A GOOSE. 3 FAN BLADES WERE BENT. REPLACED ENG INTAK',\n",
       "       'LEADING EDGE OF WING DAMAGED. PHOTOS. PAX SAID THE BIRD WAS VISIBLE DURING THE ENTIRE FLT. A PILOT CAME OUT OF THE COCKPIT TO LOOK.',\n",
       "       'DMG TO #1 AND #2 LEADING EDGE SLAT',\n",
       "       \"NO DMG.LRG AMT OF BIRDS LOCATED BTWN 7000' AND 6000' REMAINING RWY 10. 3 AREAS STRUCK, F/O WINDSHLD, AND LEFT AND RT LEADING EDGE SLATS. APPROX 10 CARCASSES FOUND ON RWY.\",\n",
       "       '(DATA ENTRY NOTE: STRIKE REPTD AS 3/25 AND 3/26) ESTIMATE 10-20 GEESE. DAMAGE TO RHS UPPER RADOME WHERE IT CONNECTS TO FUSELAGE, LHS INBD WING SECTION, RHS FUSELAGE, & RHS LDG LIGHT.   NOSE COWL DAMAGE. #1 ENG COWLING. REPAIR COSTS INCLUDE MATERIALS AND L',\n",
       "       'RETD TO ARPT AFTER INGESTING 24-30 STARLINGS. CABIN FILLED WITH INTENSE SMELL. MX AND DISPATCH NOTIFIED.  LANDED W/O INCIDENT. DEPLANED AT GATE.  L ENG TURBINE BLADE BENT BEYOND ACCEPTABLE LIMITS. ENG WAS REMOVED AND REPLACED. ALSO DMG TO PROP.',\n",
       "       'WS ASSISTED IN CLEAN-UP OF 273 STARLINGS AND 1 BROWN-HEADED COWBIRD FROM RWY THRESHOLD. PHOTOS OF A/C TAKEN. BORESCOPED BOTH ENGS. FOUND DENTS AND NICKS IN STAGES 3-6. ALL WITHIN LIMITS. CLEANED RADOME, L WING, FLAPS, PYLON, GEAR AND LEADING EDGE FLAPS. R',\n",
       "       'IMPACTED BIRD ON SHORT FINAL. NO REMAINS FOUND. NO A/C DMG NOTED. NO EFFECT ON FLT. THREE MILE FINAL.',\n",
       "       \"1 BIRD HIT FUSELAGE AFT AND BELOW F/O'S SIDE WINDOW (R-2). INSPN BY CONTRACT MX. NO DMG. ROBIN-SIZED BIRD. COST $150 FOR MX. OUT OF SERVICE 20 MINS.\",\n",
       "       'After takeoff, MP saw three large birds directly in his flight path.  The MP saw two birds dive down to avoid the aircraft while the other leveled off.  The MP executed an evasive maneuver, but the third bird impacted the aircraft.  Post-flight revealed e',\n",
       "       'NO DMG. BIRD DEBRIS ON FUSELAGE.',\n",
       "       'SAW 3 GEESE. BIRD STRUCK WINDSHLD IN CORDOVA AK, SIGNIF DAMAGE. PART OF THE BIRD CAME INTO THE COCKPIT AND THE REST WAS HANGING OUTSIDE. NO ONE WAS HURT. FLEW IN MECHANICS TO REPAIR.',\n",
       "       'missing',\n",
       "       'BIRDSTRIKE WHILE ON ARRIVAL. AFTER SUNSET WITH A FULL MOON. VFR CONDITIONS. WE WERE LEVEL AT 1100 FT AND STEADY 300KNOTS INDICATED WHIEL BEING VECTORED FOR A VISUAL APCH FOR RWY 29R. NOT OF BLACK FOREST VOR ABOUT 10 MINUTES FROM LDG. A VERY LOUD POP WAS H',\n",
       "       'BIRD HIT WINDSHLD, BOUNCED OFF AND HIT 2 ANTENNAS ON TOP OF A/C. ONE WAS REPLACED.',\n",
       "       'TWR CLOSED. LDG ABOUT 2355 PST. BIRD CROSSED IN FRONT OF A/C DURING LDG ROLLOUT AND HIT L WING OTBD OF ENG NACELLE. FOUND REMAINS ON L WING LEADING EDG EAND A TEAR IN THE DE ICE BOOT OF 1/4 INCH. REMAINS WERE COLLECTED BY THE FIRE DEPT. OUTBOUND FLT WAS C',\n",
       "       'FOUR MILE FINAL.',\n",
       "       'HIT DEER JUST AT ROTATION. NEVER SAW DEER. HIT NOSEWHEEL & RT LDG GEAR STRUT AND FUSELAGE. CONCERNED WE LOST OR SEVERELY DAMAGED NOSEGEAR. LANDED ON GRASS RWY WITH POWER OFF TO AVOID PROP STRIKE. FULLY EXPECTED NOSE OVER EVENT, BUT IT WORKED FINE. STILL I',\n",
       "       'NO DMG.',\n",
       "       'NOTAM WARNING. RT WING OTBD VORTILON HAD SLIGHT DMG. TRAILING TIP OF VORTILON BENT. NO EFFECT ON FLT. RWY WAS LCOSED FOR 10 MINS AND 1 A/C HAD TO GO AROUND. BIRD REPTD BY PILOT AS BLUE HERON, ASSUME GREAT BLUE HERON. ARPT WILDL TECH ALSO REPTD GREAT BLUE',\n",
       "       'MEDIUM SIZED BLACK BIRDS. CONTRACT MX INSPN OF A/C AND ENGINE. NO DMG. BORESCOPED REQUIRED WITHIN 10 CYCLES.',\n",
       "       'BIRD NEVER SEEN ONLY FELT AND HEARD AFTER IMPACT. IMPACT ON UPPER RT SIDE OF RADOME. RADOME SUSTAINED STRUCTURAL DMG (SOFT SPOT) AND WAS OUT OF SERVICE FOR APPROX 12 HRS. LOCATION REPTD AS APPROX 10 MILES TO NW JUST PRIOR TO ENTERING RT TRAFFIC FOR VISUAL',\n",
       "       'ID BY SMITHSONIAN. AT ABOUT 8NM FROM BWI AND 4NM TO\"GRAFF\", THE FINAL APPROACH FIX, A/C ENCOUNTERED A LRG FLOCK OF BIRDS, POSSIBLY GEESE. HIT MULTIPLE BIRDS. LANDING UNEVENTFUL. IMPACT AREAAS WERE JUST CENTER AND ABOVE FWD WINDSCREEN, SEVERAL AREAS NEAR P',\n",
       "       'BIRDS DECIDED TO FLY FROM BOTH SIDES OF RWY AS WE WERE IN FLARE. DID NOT THINK WE HIT ANY AND TAXIED IN. RAMP VERY DARK AND AS THERE WERE FUELING US I NOTICED BIRD FEATHERS ON #1 ENG NACELLE BUT DID NOT SEE ANY BENT BLADES OR OTHER EVID OF DMG. I CALLED M',\n",
       "       \"1 BIRD HIT L SIDE OF NOSE ABOUT 1.5 FT FWD OF L WINDSHLD DAMAGING THE NOSE STRUCTURE AND OPENING A HOLE IN THE NOSE SKIN. PART OF THE BIRD HIT RT WINDSHLD OBSCURING VISION. 2 ND BIRD HIT L WING ABOUT 5' OUT FROM FUSELAGE CAUSING A LRG DENT IN LE (FOOTBALL\",\n",
       "       'ID BY SMITHSONIAN, FAA 3589. FLOCK OF BIRDS WAS EITHER SITTING OR WALKING ACROSS RWY AND TOOK FLT WHEN THE A/C ENTERED THE LANDING FLARE. ABOUT 10-20 BIRDS WERE STRUCK. COWLING WAS REPLACED AS WELL AS LANDING GEAR SYSTEM.',\n",
       "       'ID BY SMITHSONIAN, FAA 2740. 100% DNA MATCH. AIRLINE REPTD SUBSTANTIAL DMG TO THE ENG COWLING AND HORIZONTAL STABILIZER.',\n",
       "       'DAMAGED DLG GEAR DOOR SQUAT SWITCH AND ROD. EXACT TIME OUT OF SERCIE UNKN. AT LEAST FROM  SEP 29 TO OCT 15TH.',\n",
       "       'NEVER SAW IT.',\n",
       "       '1ST STAGE IMPELLER WAS DESTROYED BY BIRD INGESTION. PIECES OF METAL AND BIRD WENT THRU THE ENG CAUSING MAJOR DMG. UNCONTAINED FAILURE. MAYBE WHITE GEESE. ASSUME SNOW GEESE FROM DATE AND LOCATION',\n",
       "       'missing',\n",
       "       'SAW A FLASH FROM CORNER OF MY EYE AND HEARD THUMP ON RADOME. NO ABNORMAL COCKPIT INDICATIONS NOTICED. CONT TO KISP AND LANDED UNEVENTFULLY. FOUND VERY SMALL BIT OF REMAINS UPON LANDING AND CONTRACT MX INSPECTED A/C. NO DMG. ALL LOGBK ENTRIES COMPLETED AND',\n",
       "       'ENG VIBRATION. 4 BLADES REPLACED.',\n",
       "       'NO DMG NOTED. ENG INDICATIONS NORMAL. MX ACTION PERFORMED AT DEST. ATIS WARNING. LOCATION REPTD AS APPROX 5 MILES.',\n",
       "       'STARLINGS? NO DMG. FOUND FEATHERS AND RESIDUE IN ENG BYPASS DUCT. BORESCOPED. COST WAS FOR INSPN.',\n",
       "       'ID BY SMITHSONIAN, FAA 325  & FAA 327. SAN-ORD HIT A FLOCK OF BIRDS & WAS DIVERTED TO LAX WHERE WS BIOL EXAMINED DMG AND COLLECTED. . PENETRATED RADOME (HOLE 8\" X 10\") AND FIREWALL ENDING UP IN THE BACK OF THE LANDING GEAR COMPARTMENT. LEADING EDGE OF SLA',\n",
       "       'ID BY SMITHSONIAN, FAA 1718. BIRD WAS INGESTED IN #2 ENG ON T/O RIGHT AT ROTATION. MULTLIPLE STRIKES. A/C MADE EMERGENCY LDG TO ARPT WITH ENG AT IDLE DUE TO VIBRATIONS. FLEW OVER THE OCEAN TO BURN OFF SOME FUEL BEFORE RETURNING AT 11:21. LANDED W/O FURTHE',\n",
       "       'EVENT 11435. ID BY SMITHSONIAN, FAA 1830. (ALT REPTD AS 4000 MSL AND 200 FT AGL SINCE PILOT SAID THEY WERE 15 MILES FROM ARPT, ASSUME 3000 FT ALG.)',\n",
       "       'COST FOR 1 HR INSPN. $45. HIT NOW, RT FWD SIDE.',\n",
       "       'ID BY SMITHSONIAN. PILOT DESCENDING IN FULL FLIGHT CONFIGURATION. BIRD OBSERVED AT WINDSHLD LEVEL, FOLDED AND DROPPED. GLANCING IMPACT AT LOWER PART OF RADOME RESULTING IN DAMAGE TO PROTECTIVE FINISH. CONE REQUIRES FACTORY REPAIR/REFINISHING.',\n",
       "       'BIRD REPTD AS \"BLACKBIRD/CROW?\". INGESTED IN AIR INTAKE.',\n",
       "       'RT SIDE RADOME HAD LRG DENT. NO CONTROL PROBLEMS. 15 NM S OF ABQ. REPTD AS VULTURE, ASSUME TURKEY.',\n",
       "       'WHITE BIRD. NO DMG TO A/C EXCEPT FOR A SCRATCH IN THE PAINT ON AREA OF FUSELAGE ADJACENT TO PROBE. BIRD STRUCK PITOT PROBE FOR AIR DATA MODULE #3 (LOWER R PROBE)',\n",
       "       'HIT L1 WINDOW. COST FOR 1 HR INSPN. NO DMG.',\n",
       "       'BIRD HIT L WING AND #1 ENG INLET. PART OF REMAINS WERE INGESTED. NO DMG.',\n",
       "       'RT WING L/W SLAT WAS EXTENDED AND THE BIRD DAMAGED THE SLAT AND THE L/W OF WING. PILOT REPTD A FLUTTERING SOUND AND SMALL VIBRATION IN CONTROL YOKE. A/C DID NOT LOSE ANY CONTROL EFFECTIVENESS. DATA ENTRY NOTE: # STRUCK NO REPTD, ASSUME 1, SAME AS # SEEN.',\n",
       "       'PAINT CRACKED/PEELED OFF OUTBOARD EDGE OF RT MAIN GEAR DOOR. NO APPARENT FIBERGLASS DMG.',\n",
       "       'IMPACTED UPPER RT PART OF RADOME. EXTERIOR DMG TO PAINT & STATIC STRIP. DMG TO INSIDE OF RADOME IS UNKNOWN AT THIS POINT. RADOME HAD TO BE SENT AWAY FOR REPAIR.',\n",
       "       'BEACON LENS AND GUARD DESTROYED. SMALL HOLE IN ANTENNA SEALANT. THRESHOLD RWY 25.',\n",
       "       'BIRD HIT LWR NOSE GEAR AND BOUNCED OFF TO IMPACT L WING INBD FRUGER FLAP AREA. (DATA ENTRY NOTE: NO DMG REPTD, COST MAY HAVE BEEN FOR INSPN)',\n",
       "       \"BIRDSTRIKE ON ROTATION. IMMEDIATELY GOT STICK SHAKER AND IAS DISAGREE WARNINGS. F/O AIRSPEED WAS 60 KNOTS LESS THAN CAPT AND STANDBY INDICATORS. DURING VECTORS FOR A DOWNWIND RETURN TO OAK, BOTH EEC'S WENT TO ALTERNATE MODE. WE THEN EXPERIENCED A LOSS OF\",\n",
       "       \"ON SHORT FINAL, A THUD WAS HEARD BELOW CAPT'S SIDE WINDOW. FLT LANDED UNEVENTFULLY. FOUND SML SMEAR AT LOCATION WHERE THUD WAS HEARD AND 2 SEPARATE BLOOD SMEARS WITH POSSIBLE FEATHER REMNANTS JUST INBD OF #1 ENG ON THE WING. NO INDICATION OF INGESTION.\",\n",
       "       \"ID BY SMITHSONIAN. FEATHERS WERE REMOVED FROM TOP OF NOSE OF PLANE. DISCREPANCY RE ALT 1400' ON ORIGINAL REPT AND 3000' ON AIRPORT REPT.\",\n",
       "       'POSSIBLE GULL. NO DMG. MX INSPN. STRIKE WAS REPTD IMMEDIATELY TO DAL TWR FOR POSSIBLE FOD.',\n",
       "       'PERMANENT NOTAM WARNING. FLOCK OF BIRDS CROSSED T/O PATH. HEARD THUDS AND BIRDS HEADED FOR LEFT ENG. SML DENT IN COWLING.  12 STARLING FOUND ON RWY. MULTIPLE BIRD SMEARS NO DMG TO WINGS. TME OUT OF SVC REPTD AS 1.25 HRS. (BY CAPT) AND 6.5 HRS. BY MAINTENA',\n",
       "       'DMG TO L ENG STATORS. MX REMOVED FEATHERS FROM INTERIOR OF TURBINE. ID BY SMITHSONIAN.',\n",
       "       'RT WING WAS DENTED BY LARGE BLACK BIRD. DENT WAS 4\" IN DIAMETER AND 1.5\" DEEP.',\n",
       "       'ID BY SMITHSONIAN FAA 1041. 8 FAN BLADES DAMAGED. 3 PAIRS REPLACED, 5 BLADES WERE DRESSED.',\n",
       "       'A BARN OWL WAS STRUCK IN FLARE UPON LDG. RADOME WAS DENTED.',\n",
       "       \"PILOT REPTD BIRDSTRIKE WHILE OVER #'S OF RWY 4R. DENTED RADOME SEVERELY. WENT OVER A/C AND HIT VERTICAL PART OF TAIL AT THE BASE CAUSING MINIMAL DMG. A/C WAS SWAPPED OUT CAUSING A 30 MIN DELAY TO CONTINUING FLT.  CARCASS RETRIEVED BY OPS.\",\n",
       "       'NO DMG OTHER THAN SOME SCRATCHES ON PAINT. COST WAS FOR LOST OF SERVICE AND MX TIME. BIRDS REPTD AS GEESE, ASSUME CANADA FROM DATE & LOCATION.',\n",
       "       'FLT 108 HAD A BROKEN NOSE GEAR LANDING LGT BROKEN. GLASS ON RWY. RWY WAS CLOSED FOR 1 HR FOR CLEAN UP OF BIRD REMAINS AND GLASS. A/C WAS REPAIRED IN KANSAS CITY.',\n",
       "       'ID BY SMITHSONIAN, FAA 1837. BIRD PASSED THRU BY-PASS SECTION. VIZ DMG INCLUDES BENT COMPRESSOR BLADES. DAMAGED 5 N1 FAN BLADES. HIGHSPEED RTO WAS PERFORMED.',\n",
       "       'NO REMAINS.',\n",
       "       'SIGNIFICANT DENT IN PORT SIDE WING NEAR CONNECTION WITH WING STRUT. PLANE STILL AIRWORTHY.',\n",
       "       \"JUST AFTER T/O SUSTAINED MULTIPLE BIRDSTRIKES ALONG L SIDE OF A/C. JUST UNDER CAPT'S WINDSCREEN. THE N1, ITT AND VIB INDICATIONS SHOWED FLUCTUATIONS ALONG WITH THE SMELL OF BURNED FLESH. AN EMERGENCY WAS DECLARED. A/C LANDED SAFELY. BIRD INGESTED IN L ENG\",\n",
       "       'ENG #1 RINGLET WAS DAMAGED. COST BETWEEN $15,000-$20,000.',\n",
       "       'NO DMG.',\n",
       "       'MINOR DMG TO L WING. (DATA ENTRY NOTE: BIRDS REPTD AS GEESE, ASSUME CANADA GEESE FROM DATE AND LOCATION)',\n",
       "       'ID BY SMITHSONIAN, FAA 2622 A & B. SEVERAL BIRDSTRIKES (8 FOUND) ON SHORT FINAL. HAD TO SEND MX FROM ORLANDO TO INSPECT. FOUND EVIDENCE OF INGESTION IN BOTH ENGINES. BORESCOPE FOUND NO DMG. COST FOR INSPN ESTIMATED AT OR BELOW $5,000. ARFLD GRASS AREAS WE',\n",
       "       'ATIS WARNING IS COMMON FOR THIS TIME OF YEAR. INSPN FOUND NO DMG.',\n",
       "       'ID BY SMITHSONIAN, FAA 3881. DNA. 2 CRACKS IN RADOME REQUIRING REPLACEMENT. COST WAS FOR RADOME REPLACEMENT. NO COST FOR CANCELLED FLT AVAILABLE. (DATA ENTRY NOTE: OPER REPTD AS BOTH DAL AND NWA)',\n",
       "       'RADOME AND WING HAD NO DMG. ENG WAS BORESCOPED. NO DMG.',\n",
       "       'EVIDENCE OF BIRDSTRIKE. NO DMG. COST OFR CONTRACT MAINTENANCE.',\n",
       "       'PILOTS HEARD THUMP SOUND OF BIRDSTRIKE ON RADOME ON APRCH. NIGHT CONDITIONS SO THERE WAS NO VISUAL OF BIRDS. SUBSEQUENT APRCH UNEVENTFUL. POSTFLT REVEALED ENG DMG FROM INGESTED BIRD. ENG REMOVED.',\n",
       "       'NO DMG TO A/C. EST COST OF REPAIR AND EST COST OTHER COST BOTH REPTD AS GREATER THAN $200.',\n",
       "       'HIT 2 SML BIRDS ON NOSE & #1 ENG. DMG UNKN AT THIS TIME. NO DMG FOUND UPON BORESCOPE. COST WAS FOR INSPN.',\n",
       "       'DMGD FLAP CAUSED DEPTR TO BE CANCELLED. POSSIBLE ENG DMG. FLAP AND RIVET BENT.',\n",
       "       'ENG PARAMETERS NORMAL, BUT NEEDS INSPN. COST WAS FOR INSPN',\n",
       "       'MINOR DAMAGE. BIRD CRACKED GEL COAT ON LEFT ENG COWLING.',\n",
       "       'NO ABNORMALITES NOTED. FOUND 2 FAN BLADES BENT 1/4\" OUTWARD ON POST FLT INSPN.',\n",
       "       'THREE DEAD BIRDS FOUND ON RWY. ONE FOUND IN LANDING LIGHT IT HAD COME THRU THE LANDING LIGHT LENS.',\n",
       "       'ID BY SMITHSONIAN, FAA 3097. DNA. (DATA ENTRY NOTE: DATE REPTD AS BOTH 5TH BY PILOT AND 6TH BY  NTSB) STRUCK RT WING CAUSING SUBSTANTIAL DMG TO WINGSPAR. PILOT STATED AS HE INITIATED A DESCENT AT NIGHT 10-12 MILES NE OF ARPT, HE HEARD A LOUD BANG AND FELT',\n",
       "       'ATIS WARNING. L ENG NACELLE DAMAGED',\n",
       "       'ID BY SMITHSONIAN, FAA 2109. SAW A FLOCK OF LRG BLACK BIRDS FAR AWAY. I AM NOT SURE IF BIRD I HIT WAS SAME TYPE. WHILE ON DOWNWIND I HEARD A NOISE BUT DID NOT SEE ANY BIRDS. DMG WAS TO FIBERGLASS WHEEL COVER ON NOSE WHEEL. FIST SIZED HOLE. BIRD LEFT FEATH',\n",
       "       'STATOR BLADES BENT. STRIKE AT ROTATION.',\n",
       "       'SAW SML FLOCK FLYING UPON LDG FLARE, ACROSS RWY. SMALL THUMP WAS  HEARD. FOUND REMAINS ON L NEG INTAKE NACELLE. IRD PARTS STREAKED  DOWN IN AND OUTSIDE OF ENG. ALSO ON MIDPOINT OF L FLAP. NO 2NDRY DMG.',\n",
       "       \"ATIS WARNING. SIGNIFICANT 3' DEEP DEFORMATION RT WING ROOT.\",\n",
       "       'missing',\n",
       "       'DMG LIMITED TO RADOME SHOWED SINGS OF DELAM, DENT AND CRACKS. DMG LOCATED ON LOWER PART OF LT SIDE.',\n",
       "       'DMG TO FRONT NOSE WHEEL GEAR DOOR.',\n",
       "       \"NO SMELL OF BIRD IN ENG. WE CONTD FLT. LOST ITT GAUGE OUT OF 11,000'. LATER FOUND TI PROBE WAS HIT AND INGESTED THRU ENG.\",\n",
       "       'RT LE ABOUT 6\\' FROM FUSELAGE. DENT ABOUT 12\" LONG AND 1\" DEEP.',\n",
       "       \"SML DENT ON L WING LEG 6' FROM FUSELAGE. REPAIR PULLED DENTED AREA OUT AND IS RELATIVELY SMOOTH TO ADJOINING SURFACE. CONFLICTING REPTS FOR WHERE STRIKE OCCURRED. 1 SAYS APCH TO SEA THE OTHER SAYS CLIMB OUT OF SKAGIT)\",\n",
       "       'ATIS WARNING. BIRDS STOOD N RWY. COLOR CAMOUFLAGED BIRDS. 1 HIT LE OF RT WING TIP, CAUSING DENT.',\n",
       "       'missing', 'LOCATION REPTD AS 10 NW KRDU.',\n",
       "       '2 MILES SOUTH OF VUZ.',\n",
       "       \"SEAGULL TYPE BIRD HIT JUST UNDER CAPT'S SIDE OF WINDSHLD ON FUSELAGE. NO DMG NOTED AT FIRST INSPN. COSTS WERE REPORTED  AS $300 FOR MX TO INSPECT AND CLEAN A/C.  $5000 WAS A ROUGH ESTIMATE FROM THE DELAY, MISSED CONNCETIONS, AND COST COMPANY INCURS FROM H\",\n",
       "       'PILOT SAW A DEER RUN ACROSS RWY THEN HIT 2ND DEER ON L SIDE. DMG REPTD AS MINOR TO L WING & FUSELAGE. NO INJURIES. NTSB SAYS SUBSTANTIAL DMG TO L FUSELAGE & WING.',\n",
       "       'ATIS CALLED FOR BIRDS IN AREA. FLOCK OF SML BIRDS FLEW DIRECTLY IN FRONT OF A/C. DURING T/O ROLL AFTER  VI BUT BEFORE ROTATE. MULTIPLE IMPACTS HEARD ON UNDERSIDE OF NSOE AND RADOME. T/O UNEVENTFUL. NO INDICATIONS ON INSTRUMENTS OR SMELL TO INDICATE INGEST',\n",
       "       'MX INSPN PERFORMED, A/C RELEASED FOR NEXT SCHEDULED FLT. OUT OF SERVICE 1/2 HR.',\n",
       "       'SHORT FINAL. DUCK? JUST A SPLAT. COST WAS FOR INSPECTION. DATA ENTRY NOTE: # STRUCK NOT REPTD, ASSUME 1.',\n",
       "       '2 MEN INJURED WITH CUTS IN FACE. EMERGENCY LANDING.',\n",
       "       'SIGNIF DMG TO WING AT POINT WHERE IT ATTACHES TO FUSELAGE. MINOR PROP DMG BUT ENG HAD TO BE TORN DOWN FOR INSPN. PHOTOS SENT.',\n",
       "       'missing', '# STRUCK NOT REPTD, ASSUME 1.',\n",
       "       \"ID BY SMITHSONIAN. ALL 3 SAMPLES WERE SAME SPECIES. DURING LDG FLARE WE SAW A BIRD HIT CAPT'S WINDSCREEN. LRG SMEAR LEFT ON WINDOW. AT GATE, MX REPTD MULTIPLE STRIKES ON WING & BOTH ENGINES. PILOTS DID NOT SEE MULTIPLE BIRDS. REMAINS COLLECTED FROM ALL 3\",\n",
       "       'PILOT SAW  A DEER RUN TOWARD AC. L FRONT NOSE DAMAGED. PITOT TUBE RIPPED FROM AC. DEER BOUNCED OFF JET AND RAN INTO WOODS. CREW DESCRIBED DAMAGE AS MODERATE.',\n",
       "       'BIRD REPTD AS\" STARLING SIZED BIRD\".', 'missing',\n",
       "       'LARGE HAWK IMPACTED R HAND OUTBOARD SLOT JUST PRIOR TO ROTATION. RED-TAILED HAWK AND MOURNING DOVE.',\n",
       "       'missing', 'COST WAS FOR INSPN & CLEANUP',\n",
       "       'ABOUT 5 MI E OF KNEAD INTXN HEARD LOUD POP & SAW SML BLK OBJECT FLY BACK FROM NOSE TO THE LEFT. ENG INSTRUMENTS & FLT CHARACTERISTICS OK. CONTD FLT. FOUND MODERATE DMG & FEATHERS ON TOP L SIDE OF RADOME. CRACKS & BREAKING AWAY OF TOP FIBERLASS LAYERS.',\n",
       "       'AREA IS A WILDLIFE REFUGE WITH KNOWN HAZARDS, HOWEVER, NO WARNING SPECIFIC TO OUR OPERATION WAS ISSUED. PILOT PULLED UP TO AVOID BIRDS. PLANE NOT FLYABLE. ENG REP SAID CORE INGESTION IN BOTH ENGS. MANDATORY TEAR DOWN FOR INSPN. HAD TO RENT 2 ENGS. LANDING',\n",
       "       'WHILE LANDING AT KBKL, F/O OBSERVED A SMALL WHITE BIRD STRIKE A/C FUSELAGE JUST ABOVE R WINDSHIELD. A/C CONT AND LANDED W/O INCIDENT. MX INSPECTED IMPACT AREA AND REPTD NO DMG. A/C RETURNED TO SERVICE. FLT # REPTD AS SRY 10223.'],\n",
       "      dtype=object)"
      ]
     },
     "execution_count": 272,
     "metadata": {},
     "output_type": "execute_result"
    }
   ],
   "source": [
    "txt_new_col(train_inputs['Description'])"
   ]
  },
  {
   "cell_type": "code",
   "execution_count": 273,
   "metadata": {},
   "outputs": [],
   "source": [
    "text_column = ['Description']"
   ]
  },
  {
   "cell_type": "markdown",
   "metadata": {},
   "source": [
    "# Pipeline"
   ]
  },
  {
   "cell_type": "code",
   "execution_count": 274,
   "metadata": {},
   "outputs": [],
   "source": [
    "numeric_transformer = Pipeline(steps=[\n",
    "                ('imputer', SimpleImputer(strategy='median')),\n",
    "                ('scaler', StandardScaler())])"
   ]
  },
  {
   "cell_type": "code",
   "execution_count": 275,
   "metadata": {},
   "outputs": [],
   "source": [
    "categorical_transformer = Pipeline(steps=[\n",
    "    ('imputer', SimpleImputer(strategy='constant', fill_value='unknown')),\n",
    "    ('onehot', OneHotEncoder(handle_unknown='ignore'))])"
   ]
  },
  {
   "cell_type": "code",
   "execution_count": 276,
   "metadata": {},
   "outputs": [],
   "source": [
    "binary_transformer = Pipeline(steps=[\n",
    "    ('imputer', SimpleImputer(strategy='most_frequent'))])"
   ]
  },
  {
   "cell_type": "code",
   "execution_count": 277,
   "metadata": {},
   "outputs": [],
   "source": [
    "fea_new_column = Pipeline(steps=[('fea_new_column', FunctionTransformer(fea_new_col))])"
   ]
  },
  {
   "cell_type": "code",
   "execution_count": 278,
   "metadata": {},
   "outputs": [],
   "source": [
    "text_transformer = Pipeline(steps=[\n",
    "                ('txt_new_column', FunctionTransformer(txt_new_col)),\n",
    "                ('text', TfidfVectorizer(stop_words='english')),\n",
    "                ('svd', TruncatedSVD(n_components=300, n_iter=10))\n",
    "            ])"
   ]
  },
  {
   "cell_type": "code",
   "execution_count": 279,
   "metadata": {},
   "outputs": [],
   "source": [
    "preprocessor = ColumnTransformer([\n",
    "        ('num', numeric_transformer, numeric_columns),\n",
    "        ('cat', categorical_transformer, categorical_columns),\n",
    "        ('binary', binary_transformer, binary_columns),\n",
    "        ('trans', fea_new_column, feat_eng_columns),\n",
    "        ('text', text_transformer,text_column)],   \n",
    "        remainder='passthrough')"
   ]
  },
  {
   "cell_type": "markdown",
   "metadata": {},
   "source": [
    "# Transform: fit_transform() for TRAIN"
   ]
  },
  {
   "cell_type": "code",
   "execution_count": 280,
   "metadata": {},
   "outputs": [
    {
     "data": {
      "text/plain": [
       "array([[-0.30226077,  0.10189067, -0.55807993, ..., -0.01682127,\n",
       "         0.03367297, -0.01607395],\n",
       "       [-0.44462019,  0.10189067, -0.52033778, ...,  0.02017042,\n",
       "        -0.01790916, -0.03497772],\n",
       "       [ 2.04666971,  0.10189067, -0.55807993, ...,  0.00612735,\n",
       "        -0.00984678, -0.00646172],\n",
       "       ...,\n",
       "       [ 0.90779433,  0.10189067,  2.51161457, ...,  0.05851991,\n",
       "         0.00718203,  0.01101136],\n",
       "       [ 0.90779433,  0.10189067, -0.55304764, ...,  0.03673463,\n",
       "        -0.00457338, -0.02735358],\n",
       "       [-0.23108105,  0.10189067, -0.30646562, ...,  0.0193289 ,\n",
       "        -0.00690638,  0.02337287]])"
      ]
     },
     "execution_count": 280,
     "metadata": {},
     "output_type": "execute_result"
    }
   ],
   "source": [
    "train_x = preprocessor.fit_transform(train_inputs)\n",
    "\n",
    "train_x"
   ]
  },
  {
   "cell_type": "code",
   "execution_count": 281,
   "metadata": {},
   "outputs": [
    {
     "data": {
      "text/plain": [
       "(844, 435)"
      ]
     },
     "execution_count": 281,
     "metadata": {},
     "output_type": "execute_result"
    }
   ],
   "source": [
    "train_x.shape"
   ]
  },
  {
   "cell_type": "markdown",
   "metadata": {},
   "source": [
    "# Tranform: transform() for TEST"
   ]
  },
  {
   "cell_type": "code",
   "execution_count": 282,
   "metadata": {},
   "outputs": [
    {
     "data": {
      "text/plain": [
       "array([[ 4.09536350e-01,  1.01890674e-01, -5.58079928e-01, ...,\n",
       "         2.32856930e-04, -2.09329768e-04,  6.21532445e-04],\n",
       "       [ 9.78974042e-01,  1.01890674e-01, -5.58079928e-01, ...,\n",
       "        -6.24670269e-03, -9.62082249e-03,  1.06790171e-02],\n",
       "       [-5.15799900e-01,  1.01890674e-01, -5.07757067e-01, ...,\n",
       "        -1.99390389e-02,  2.45678465e-02, -3.49901821e-03],\n",
       "       ...,\n",
       "       [ 3.38356638e-01,  1.01890674e-01, -5.58079928e-01, ...,\n",
       "         2.54581725e-03, -1.41331147e-02,  6.77287936e-04],\n",
       "       [ 9.07794330e-01, -1.76758168e+00, -5.20337783e-01, ...,\n",
       "         1.58970956e-03, -1.13637904e-02, -5.06855792e-02],\n",
       "       [-1.22759702e+00,  1.01890674e-01,  4.57943994e-02, ...,\n",
       "         1.62553079e-02, -1.84109871e-02, -2.08168857e-03]])"
      ]
     },
     "execution_count": 282,
     "metadata": {},
     "output_type": "execute_result"
    }
   ],
   "source": [
    "test_x = preprocessor.transform(test_inputs)\n",
    "\n",
    "test_x"
   ]
  },
  {
   "cell_type": "code",
   "execution_count": 283,
   "metadata": {},
   "outputs": [
    {
     "data": {
      "text/plain": [
       "(363, 435)"
      ]
     },
     "execution_count": 283,
     "metadata": {},
     "output_type": "execute_result"
    }
   ],
   "source": [
    "test_x.shape"
   ]
  },
  {
   "cell_type": "markdown",
   "metadata": {},
   "source": [
    "## Find the Baseline (1 point)"
   ]
  },
  {
   "cell_type": "code",
   "execution_count": 284,
   "metadata": {},
   "outputs": [
    {
     "data": {
      "text/html": [
       "<style>#sk-container-id-59 {color: black;}#sk-container-id-59 pre{padding: 0;}#sk-container-id-59 div.sk-toggleable {background-color: white;}#sk-container-id-59 label.sk-toggleable__label {cursor: pointer;display: block;width: 100%;margin-bottom: 0;padding: 0.3em;box-sizing: border-box;text-align: center;}#sk-container-id-59 label.sk-toggleable__label-arrow:before {content: \"▸\";float: left;margin-right: 0.25em;color: #696969;}#sk-container-id-59 label.sk-toggleable__label-arrow:hover:before {color: black;}#sk-container-id-59 div.sk-estimator:hover label.sk-toggleable__label-arrow:before {color: black;}#sk-container-id-59 div.sk-toggleable__content {max-height: 0;max-width: 0;overflow: hidden;text-align: left;background-color: #f0f8ff;}#sk-container-id-59 div.sk-toggleable__content pre {margin: 0.2em;color: black;border-radius: 0.25em;background-color: #f0f8ff;}#sk-container-id-59 input.sk-toggleable__control:checked~div.sk-toggleable__content {max-height: 200px;max-width: 100%;overflow: auto;}#sk-container-id-59 input.sk-toggleable__control:checked~label.sk-toggleable__label-arrow:before {content: \"▾\";}#sk-container-id-59 div.sk-estimator input.sk-toggleable__control:checked~label.sk-toggleable__label {background-color: #d4ebff;}#sk-container-id-59 div.sk-label input.sk-toggleable__control:checked~label.sk-toggleable__label {background-color: #d4ebff;}#sk-container-id-59 input.sk-hidden--visually {border: 0;clip: rect(1px 1px 1px 1px);clip: rect(1px, 1px, 1px, 1px);height: 1px;margin: -1px;overflow: hidden;padding: 0;position: absolute;width: 1px;}#sk-container-id-59 div.sk-estimator {font-family: monospace;background-color: #f0f8ff;border: 1px dotted black;border-radius: 0.25em;box-sizing: border-box;margin-bottom: 0.5em;}#sk-container-id-59 div.sk-estimator:hover {background-color: #d4ebff;}#sk-container-id-59 div.sk-parallel-item::after {content: \"\";width: 100%;border-bottom: 1px solid gray;flex-grow: 1;}#sk-container-id-59 div.sk-label:hover label.sk-toggleable__label {background-color: #d4ebff;}#sk-container-id-59 div.sk-serial::before {content: \"\";position: absolute;border-left: 1px solid gray;box-sizing: border-box;top: 0;bottom: 0;left: 50%;z-index: 0;}#sk-container-id-59 div.sk-serial {display: flex;flex-direction: column;align-items: center;background-color: white;padding-right: 0.2em;padding-left: 0.2em;position: relative;}#sk-container-id-59 div.sk-item {position: relative;z-index: 1;}#sk-container-id-59 div.sk-parallel {display: flex;align-items: stretch;justify-content: center;background-color: white;position: relative;}#sk-container-id-59 div.sk-item::before, #sk-container-id-59 div.sk-parallel-item::before {content: \"\";position: absolute;border-left: 1px solid gray;box-sizing: border-box;top: 0;bottom: 0;left: 50%;z-index: -1;}#sk-container-id-59 div.sk-parallel-item {display: flex;flex-direction: column;z-index: 1;position: relative;background-color: white;}#sk-container-id-59 div.sk-parallel-item:first-child::after {align-self: flex-end;width: 50%;}#sk-container-id-59 div.sk-parallel-item:last-child::after {align-self: flex-start;width: 50%;}#sk-container-id-59 div.sk-parallel-item:only-child::after {width: 0;}#sk-container-id-59 div.sk-dashed-wrapped {border: 1px dashed gray;margin: 0 0.4em 0.5em 0.4em;box-sizing: border-box;padding-bottom: 0.4em;background-color: white;}#sk-container-id-59 div.sk-label label {font-family: monospace;font-weight: bold;display: inline-block;line-height: 1.2em;}#sk-container-id-59 div.sk-label-container {text-align: center;}#sk-container-id-59 div.sk-container {/* jupyter's `normalize.less` sets `[hidden] { display: none; }` but bootstrap.min.css set `[hidden] { display: none !important; }` so we also need the `!important` here to be able to override the default hidden behavior on the sphinx rendered scikit-learn.org. See: https://github.com/scikit-learn/scikit-learn/issues/21755 */display: inline-block !important;position: relative;}#sk-container-id-59 div.sk-text-repr-fallback {display: none;}</style><div id=\"sk-container-id-59\" class=\"sk-top-container\"><div class=\"sk-text-repr-fallback\"><pre>DummyRegressor()</pre><b>In a Jupyter environment, please rerun this cell to show the HTML representation or trust the notebook. <br />On GitHub, the HTML representation is unable to render, please try loading this page with nbviewer.org.</b></div><div class=\"sk-container\" hidden><div class=\"sk-item\"><div class=\"sk-estimator sk-toggleable\"><input class=\"sk-toggleable__control sk-hidden--visually\" id=\"sk-estimator-id-148\" type=\"checkbox\" checked><label for=\"sk-estimator-id-148\" class=\"sk-toggleable__label sk-toggleable__label-arrow\">DummyRegressor</label><div class=\"sk-toggleable__content\"><pre>DummyRegressor()</pre></div></div></div></div></div>"
      ],
      "text/plain": [
       "DummyRegressor()"
      ]
     },
     "execution_count": 284,
     "metadata": {},
     "output_type": "execute_result"
    }
   ],
   "source": [
    "from sklearn.dummy import DummyRegressor\n",
    "\n",
    "dummy_regr = DummyRegressor(strategy=\"mean\")\n",
    "\n",
    "dummy_regr.fit(train_x, train_target)"
   ]
  },
  {
   "cell_type": "code",
   "execution_count": 285,
   "metadata": {},
   "outputs": [],
   "source": [
    "from sklearn.metrics import mean_squared_error"
   ]
  },
  {
   "cell_type": "code",
   "execution_count": 286,
   "metadata": {},
   "outputs": [
    {
     "name": "stdout",
     "output_type": "stream",
     "text": [
      "Baseline Train RMSE: 332447.6233465298\n"
     ]
    }
   ],
   "source": [
    "dummy_train_pred = dummy_regr.predict(train_x)\n",
    "\n",
    "baseline_train_mse = mean_squared_error(train_target, dummy_train_pred)\n",
    "\n",
    "baseline_train_rmse = np.sqrt(baseline_train_mse)\n",
    "\n",
    "print('Baseline Train RMSE: {}' .format(baseline_train_rmse))"
   ]
  },
  {
   "cell_type": "code",
   "execution_count": 287,
   "metadata": {},
   "outputs": [
    {
     "name": "stdout",
     "output_type": "stream",
     "text": [
      "Baseline Test RMSE: 320569.91745033476\n"
     ]
    }
   ],
   "source": [
    "dummy_test_pred = dummy_regr.predict(test_x)\n",
    "\n",
    "baseline_test_mse = mean_squared_error (test_target, dummy_test_pred)\n",
    "\n",
    "baseline_test_rmse = np.sqrt(baseline_test_mse)\n",
    "\n",
    "print('Baseline Test RMSE: {}' .format(baseline_test_rmse))"
   ]
  },
  {
   "cell_type": "markdown",
   "metadata": {},
   "source": [
    "# Section 2: \n",
    "\n",
    "Build the following models:\n"
   ]
  },
  {
   "cell_type": "markdown",
   "metadata": {},
   "source": [
    "## Decision Tree: (1 point)"
   ]
  },
  {
   "cell_type": "code",
   "execution_count": 288,
   "metadata": {},
   "outputs": [
    {
     "data": {
      "text/html": [
       "<style>#sk-container-id-60 {color: black;}#sk-container-id-60 pre{padding: 0;}#sk-container-id-60 div.sk-toggleable {background-color: white;}#sk-container-id-60 label.sk-toggleable__label {cursor: pointer;display: block;width: 100%;margin-bottom: 0;padding: 0.3em;box-sizing: border-box;text-align: center;}#sk-container-id-60 label.sk-toggleable__label-arrow:before {content: \"▸\";float: left;margin-right: 0.25em;color: #696969;}#sk-container-id-60 label.sk-toggleable__label-arrow:hover:before {color: black;}#sk-container-id-60 div.sk-estimator:hover label.sk-toggleable__label-arrow:before {color: black;}#sk-container-id-60 div.sk-toggleable__content {max-height: 0;max-width: 0;overflow: hidden;text-align: left;background-color: #f0f8ff;}#sk-container-id-60 div.sk-toggleable__content pre {margin: 0.2em;color: black;border-radius: 0.25em;background-color: #f0f8ff;}#sk-container-id-60 input.sk-toggleable__control:checked~div.sk-toggleable__content {max-height: 200px;max-width: 100%;overflow: auto;}#sk-container-id-60 input.sk-toggleable__control:checked~label.sk-toggleable__label-arrow:before {content: \"▾\";}#sk-container-id-60 div.sk-estimator input.sk-toggleable__control:checked~label.sk-toggleable__label {background-color: #d4ebff;}#sk-container-id-60 div.sk-label input.sk-toggleable__control:checked~label.sk-toggleable__label {background-color: #d4ebff;}#sk-container-id-60 input.sk-hidden--visually {border: 0;clip: rect(1px 1px 1px 1px);clip: rect(1px, 1px, 1px, 1px);height: 1px;margin: -1px;overflow: hidden;padding: 0;position: absolute;width: 1px;}#sk-container-id-60 div.sk-estimator {font-family: monospace;background-color: #f0f8ff;border: 1px dotted black;border-radius: 0.25em;box-sizing: border-box;margin-bottom: 0.5em;}#sk-container-id-60 div.sk-estimator:hover {background-color: #d4ebff;}#sk-container-id-60 div.sk-parallel-item::after {content: \"\";width: 100%;border-bottom: 1px solid gray;flex-grow: 1;}#sk-container-id-60 div.sk-label:hover label.sk-toggleable__label {background-color: #d4ebff;}#sk-container-id-60 div.sk-serial::before {content: \"\";position: absolute;border-left: 1px solid gray;box-sizing: border-box;top: 0;bottom: 0;left: 50%;z-index: 0;}#sk-container-id-60 div.sk-serial {display: flex;flex-direction: column;align-items: center;background-color: white;padding-right: 0.2em;padding-left: 0.2em;position: relative;}#sk-container-id-60 div.sk-item {position: relative;z-index: 1;}#sk-container-id-60 div.sk-parallel {display: flex;align-items: stretch;justify-content: center;background-color: white;position: relative;}#sk-container-id-60 div.sk-item::before, #sk-container-id-60 div.sk-parallel-item::before {content: \"\";position: absolute;border-left: 1px solid gray;box-sizing: border-box;top: 0;bottom: 0;left: 50%;z-index: -1;}#sk-container-id-60 div.sk-parallel-item {display: flex;flex-direction: column;z-index: 1;position: relative;background-color: white;}#sk-container-id-60 div.sk-parallel-item:first-child::after {align-self: flex-end;width: 50%;}#sk-container-id-60 div.sk-parallel-item:last-child::after {align-self: flex-start;width: 50%;}#sk-container-id-60 div.sk-parallel-item:only-child::after {width: 0;}#sk-container-id-60 div.sk-dashed-wrapped {border: 1px dashed gray;margin: 0 0.4em 0.5em 0.4em;box-sizing: border-box;padding-bottom: 0.4em;background-color: white;}#sk-container-id-60 div.sk-label label {font-family: monospace;font-weight: bold;display: inline-block;line-height: 1.2em;}#sk-container-id-60 div.sk-label-container {text-align: center;}#sk-container-id-60 div.sk-container {/* jupyter's `normalize.less` sets `[hidden] { display: none; }` but bootstrap.min.css set `[hidden] { display: none !important; }` so we also need the `!important` here to be able to override the default hidden behavior on the sphinx rendered scikit-learn.org. See: https://github.com/scikit-learn/scikit-learn/issues/21755 */display: inline-block !important;position: relative;}#sk-container-id-60 div.sk-text-repr-fallback {display: none;}</style><div id=\"sk-container-id-60\" class=\"sk-top-container\"><div class=\"sk-text-repr-fallback\"><pre>DecisionTreeRegressor(max_depth=15)</pre><b>In a Jupyter environment, please rerun this cell to show the HTML representation or trust the notebook. <br />On GitHub, the HTML representation is unable to render, please try loading this page with nbviewer.org.</b></div><div class=\"sk-container\" hidden><div class=\"sk-item\"><div class=\"sk-estimator sk-toggleable\"><input class=\"sk-toggleable__control sk-hidden--visually\" id=\"sk-estimator-id-149\" type=\"checkbox\" checked><label for=\"sk-estimator-id-149\" class=\"sk-toggleable__label sk-toggleable__label-arrow\">DecisionTreeRegressor</label><div class=\"sk-toggleable__content\"><pre>DecisionTreeRegressor(max_depth=15)</pre></div></div></div></div></div>"
      ],
      "text/plain": [
       "DecisionTreeRegressor(max_depth=15)"
      ]
     },
     "execution_count": 288,
     "metadata": {},
     "output_type": "execute_result"
    }
   ],
   "source": [
    "from sklearn.tree import DecisionTreeRegressor\n",
    "\n",
    "tree_reg = DecisionTreeRegressor(max_depth=15) \n",
    "\n",
    "tree_reg.fit(train_x, train_target)"
   ]
  },
  {
   "cell_type": "code",
   "execution_count": 289,
   "metadata": {},
   "outputs": [
    {
     "name": "stdout",
     "output_type": "stream",
     "text": [
      "Decision Tree Train Model RMSE: 26065.34836573627\n"
     ]
    }
   ],
   "source": [
    "#Train RMSE\n",
    "train_pred = tree_reg.predict(train_x)\n",
    "\n",
    "train_mse = mean_squared_error(train_target, train_pred)\n",
    "\n",
    "train_rmse = np.sqrt(train_mse)\n",
    "\n",
    "print('Decision Tree Train Model RMSE: {}' .format(train_rmse))"
   ]
  },
  {
   "cell_type": "code",
   "execution_count": 290,
   "metadata": {},
   "outputs": [
    {
     "name": "stdout",
     "output_type": "stream",
     "text": [
      "Decision Tree Test Model RMSE: 220339.37438473367\n"
     ]
    }
   ],
   "source": [
    "#Test RMSE\n",
    "test_pred = tree_reg.predict(test_x)\n",
    "\n",
    "test_mse = mean_squared_error(test_target, test_pred)\n",
    "\n",
    "test_rmse = np.sqrt(test_mse)\n",
    "\n",
    "print('Decision Tree Test Model RMSE: {}' .format(test_rmse))"
   ]
  },
  {
   "cell_type": "markdown",
   "metadata": {},
   "source": [
    "### Is the model overfitting? Provide your answer below. If yes, please add more cells below and show how you corrected overfitting. If your model is overfitting and you don't correct it, you will lose points. (0.25 points)"
   ]
  },
  {
   "cell_type": "markdown",
   "metadata": {},
   "source": [
    "Yes,The test RMSE (220339.37) is significantly higher than the training RMSE (26065.35), which suggests that the model is overfitting to the training data and performing poorly on the unseen test data.Further model correction are required in order to minimize overfitting."
   ]
  },
  {
   "cell_type": "code",
   "execution_count": 291,
   "metadata": {},
   "outputs": [
    {
     "name": "stdout",
     "output_type": "stream",
     "text": [
      "# Max depth = 1     Train RMSE = 176848.6276   Test RMSE = 199215.1509\n",
      "# Max depth = 2     Train RMSE = 136035.6299   Test RMSE = 221221.7308\n",
      "# Max depth = 3     Train RMSE = 114508.7978   Test RMSE = 217185.2164\n",
      "# Max depth = 4     Train RMSE = 91221.0982   Test RMSE = 224414.0804\n",
      "# Max depth = 5     Train RMSE = 78491.3662   Test RMSE = 223645.3903\n",
      "# Max depth = 6     Train RMSE = 69826.9662   Test RMSE = 214642.3584\n",
      "# Max depth = 7     Train RMSE = 61872.1754   Test RMSE = 241451.6475\n",
      "# Max depth = 8     Train RMSE = 52634.357   Test RMSE = 233577.6215\n",
      "# Max depth = 9     Train RMSE = 43323.6719   Test RMSE = 229390.9792\n",
      "# Max depth = 10     Train RMSE = 38695.5477   Test RMSE = 210869.0218\n",
      "# Max depth = 11     Train RMSE = 35800.5562   Test RMSE = 257882.1857\n",
      "# Max depth = 12     Train RMSE = 33155.6291   Test RMSE = 236385.3471\n",
      "# Max depth = 13     Train RMSE = 30623.1672   Test RMSE = 238794.2833\n",
      "# Max depth = 14     Train RMSE = 28403.2567   Test RMSE = 225785.0262\n",
      "# Max depth = 15     Train RMSE = 26065.3484   Test RMSE = 221156.7755\n",
      "# Max depth = 16     Train RMSE = 24038.236   Test RMSE = 249807.5076\n",
      "# Max depth = 17     Train RMSE = 21556.9713   Test RMSE = 227889.7146\n",
      "# Max depth = 18     Train RMSE = 20054.961   Test RMSE = 270272.0309\n",
      "# Max depth = 19     Train RMSE = 18234.0636   Test RMSE = 223028.9024\n",
      "# Max depth = 20     Train RMSE = 15915.0435   Test RMSE = 235796.0122\n",
      "# Max depth = 21     Train RMSE = 14100.0563   Test RMSE = 287202.7479\n",
      "# Max depth = 22     Train RMSE = 12478.2208   Test RMSE = 235181.7356\n",
      "# Max depth = 23     Train RMSE = 11641.1278   Test RMSE = 219951.9253\n",
      "# Max depth = 24     Train RMSE = 10769.8139   Test RMSE = 229730.903\n",
      "# Max depth = 25     Train RMSE = 9794.1081   Test RMSE = 271644.3441\n",
      "# Max depth = 26     Train RMSE = 8422.1111   Test RMSE = 267147.396\n",
      "# Max depth = 27     Train RMSE = 7452.5813   Test RMSE = 216950.8188\n",
      "# Max depth = 28     Train RMSE = 6423.1993   Test RMSE = 283175.9895\n",
      "# Max depth = 29     Train RMSE = 5309.7429   Test RMSE = 263626.7925\n",
      "# Max depth = 30     Train RMSE = 4155.9138   Test RMSE = 245362.595\n",
      "# Max depth = 31     Train RMSE = 3108.4895   Test RMSE = 204174.2229\n",
      "# Max depth = 32     Train RMSE = 2419.9091   Test RMSE = 257264.5992\n",
      "# Max depth = 33     Train RMSE = 1972.1748   Test RMSE = 207920.8613\n",
      "# Max depth = 34     Train RMSE = 1677.4062   Test RMSE = 247535.8735\n",
      "# Max depth = 35     Train RMSE = 1501.9248   Test RMSE = 227079.4143\n",
      "# Max depth = 36     Train RMSE = 1236.3883   Test RMSE = 237038.8501\n",
      "# Max depth = 37     Train RMSE = 1066.1165   Test RMSE = 221385.0279\n",
      "# Max depth = 38     Train RMSE = 923.1073   Test RMSE = 232704.0914\n",
      "# Max depth = 39     Train RMSE = 711.5962   Test RMSE = 229631.8369\n",
      "# Max depth = 40     Train RMSE = 604.9129   Test RMSE = 248219.4652\n"
     ]
    }
   ],
   "source": [
    "##Performing few iterations by varying max_depth to avoid overfitting\n",
    "train_error = []\n",
    "test_error = []\n",
    "\n",
    "for x in range(1,41):\n",
    "    tree_reg3 = DecisionTreeRegressor(max_depth=x)\n",
    "    tree_reg3.fit(train_x, train_target)\n",
    "    reg_train_predictions = tree_reg3.predict(train_x)\n",
    "    reg_test_predictions = tree_reg3.predict(test_x)\n",
    "    train_rmse = round(np.sqrt(mean_squared_error (train_target, reg_train_predictions)),4)\n",
    "    test_rmse = round(np.sqrt(mean_squared_error (test_target,reg_test_predictions)),4)\n",
    "    print('# Max depth = {}'.format(x) + \"     \" +'Train RMSE = {}'.format(train_rmse) + \"   \"\n",
    "         'Test RMSE = {}'.format(test_rmse))\n",
    "    \n",
    "    train_error.append(train_rmse)\n",
    "    test_error.append(test_rmse)"
   ]
  },
  {
   "cell_type": "code",
   "execution_count": 292,
   "metadata": {},
   "outputs": [
    {
     "name": "stdout",
     "output_type": "stream",
     "text": [
      "Fitting 5 folds for each of 10 candidates, totalling 50 fits\n"
     ]
    },
    {
     "data": {
      "text/html": [
       "<style>#sk-container-id-61 {color: black;}#sk-container-id-61 pre{padding: 0;}#sk-container-id-61 div.sk-toggleable {background-color: white;}#sk-container-id-61 label.sk-toggleable__label {cursor: pointer;display: block;width: 100%;margin-bottom: 0;padding: 0.3em;box-sizing: border-box;text-align: center;}#sk-container-id-61 label.sk-toggleable__label-arrow:before {content: \"▸\";float: left;margin-right: 0.25em;color: #696969;}#sk-container-id-61 label.sk-toggleable__label-arrow:hover:before {color: black;}#sk-container-id-61 div.sk-estimator:hover label.sk-toggleable__label-arrow:before {color: black;}#sk-container-id-61 div.sk-toggleable__content {max-height: 0;max-width: 0;overflow: hidden;text-align: left;background-color: #f0f8ff;}#sk-container-id-61 div.sk-toggleable__content pre {margin: 0.2em;color: black;border-radius: 0.25em;background-color: #f0f8ff;}#sk-container-id-61 input.sk-toggleable__control:checked~div.sk-toggleable__content {max-height: 200px;max-width: 100%;overflow: auto;}#sk-container-id-61 input.sk-toggleable__control:checked~label.sk-toggleable__label-arrow:before {content: \"▾\";}#sk-container-id-61 div.sk-estimator input.sk-toggleable__control:checked~label.sk-toggleable__label {background-color: #d4ebff;}#sk-container-id-61 div.sk-label input.sk-toggleable__control:checked~label.sk-toggleable__label {background-color: #d4ebff;}#sk-container-id-61 input.sk-hidden--visually {border: 0;clip: rect(1px 1px 1px 1px);clip: rect(1px, 1px, 1px, 1px);height: 1px;margin: -1px;overflow: hidden;padding: 0;position: absolute;width: 1px;}#sk-container-id-61 div.sk-estimator {font-family: monospace;background-color: #f0f8ff;border: 1px dotted black;border-radius: 0.25em;box-sizing: border-box;margin-bottom: 0.5em;}#sk-container-id-61 div.sk-estimator:hover {background-color: #d4ebff;}#sk-container-id-61 div.sk-parallel-item::after {content: \"\";width: 100%;border-bottom: 1px solid gray;flex-grow: 1;}#sk-container-id-61 div.sk-label:hover label.sk-toggleable__label {background-color: #d4ebff;}#sk-container-id-61 div.sk-serial::before {content: \"\";position: absolute;border-left: 1px solid gray;box-sizing: border-box;top: 0;bottom: 0;left: 50%;z-index: 0;}#sk-container-id-61 div.sk-serial {display: flex;flex-direction: column;align-items: center;background-color: white;padding-right: 0.2em;padding-left: 0.2em;position: relative;}#sk-container-id-61 div.sk-item {position: relative;z-index: 1;}#sk-container-id-61 div.sk-parallel {display: flex;align-items: stretch;justify-content: center;background-color: white;position: relative;}#sk-container-id-61 div.sk-item::before, #sk-container-id-61 div.sk-parallel-item::before {content: \"\";position: absolute;border-left: 1px solid gray;box-sizing: border-box;top: 0;bottom: 0;left: 50%;z-index: -1;}#sk-container-id-61 div.sk-parallel-item {display: flex;flex-direction: column;z-index: 1;position: relative;background-color: white;}#sk-container-id-61 div.sk-parallel-item:first-child::after {align-self: flex-end;width: 50%;}#sk-container-id-61 div.sk-parallel-item:last-child::after {align-self: flex-start;width: 50%;}#sk-container-id-61 div.sk-parallel-item:only-child::after {width: 0;}#sk-container-id-61 div.sk-dashed-wrapped {border: 1px dashed gray;margin: 0 0.4em 0.5em 0.4em;box-sizing: border-box;padding-bottom: 0.4em;background-color: white;}#sk-container-id-61 div.sk-label label {font-family: monospace;font-weight: bold;display: inline-block;line-height: 1.2em;}#sk-container-id-61 div.sk-label-container {text-align: center;}#sk-container-id-61 div.sk-container {/* jupyter's `normalize.less` sets `[hidden] { display: none; }` but bootstrap.min.css set `[hidden] { display: none !important; }` so we also need the `!important` here to be able to override the default hidden behavior on the sphinx rendered scikit-learn.org. See: https://github.com/scikit-learn/scikit-learn/issues/21755 */display: inline-block !important;position: relative;}#sk-container-id-61 div.sk-text-repr-fallback {display: none;}</style><div id=\"sk-container-id-61\" class=\"sk-top-container\"><div class=\"sk-text-repr-fallback\"><pre>RandomizedSearchCV(cv=5, estimator=DecisionTreeRegressor(),\n",
       "                   param_distributions=[{&#x27;max_depth&#x27;: array([ 1,  2,  3,  4,  5,  6,  7,  8,  9, 10, 11, 12, 13, 14, 15, 16, 17,\n",
       "       18, 19, 20, 21, 22, 23, 24, 25, 26, 27, 28, 29]),\n",
       "                                         &#x27;min_samples_leaf&#x27;: array([ 1,  2,  3,  4,  5,  6,  7,  8,  9, 10, 11, 12, 13, 14, 15, 16, 17,\n",
       "       18, 19, 20, 21, 22, 23, 24, 25, 26, 27, 28, 29])}],\n",
       "                   return_train_score=True, scoring=&#x27;neg_mean_squared_error&#x27;,\n",
       "                   verbose=1)</pre><b>In a Jupyter environment, please rerun this cell to show the HTML representation or trust the notebook. <br />On GitHub, the HTML representation is unable to render, please try loading this page with nbviewer.org.</b></div><div class=\"sk-container\" hidden><div class=\"sk-item sk-dashed-wrapped\"><div class=\"sk-label-container\"><div class=\"sk-label sk-toggleable\"><input class=\"sk-toggleable__control sk-hidden--visually\" id=\"sk-estimator-id-150\" type=\"checkbox\" ><label for=\"sk-estimator-id-150\" class=\"sk-toggleable__label sk-toggleable__label-arrow\">RandomizedSearchCV</label><div class=\"sk-toggleable__content\"><pre>RandomizedSearchCV(cv=5, estimator=DecisionTreeRegressor(),\n",
       "                   param_distributions=[{&#x27;max_depth&#x27;: array([ 1,  2,  3,  4,  5,  6,  7,  8,  9, 10, 11, 12, 13, 14, 15, 16, 17,\n",
       "       18, 19, 20, 21, 22, 23, 24, 25, 26, 27, 28, 29]),\n",
       "                                         &#x27;min_samples_leaf&#x27;: array([ 1,  2,  3,  4,  5,  6,  7,  8,  9, 10, 11, 12, 13, 14, 15, 16, 17,\n",
       "       18, 19, 20, 21, 22, 23, 24, 25, 26, 27, 28, 29])}],\n",
       "                   return_train_score=True, scoring=&#x27;neg_mean_squared_error&#x27;,\n",
       "                   verbose=1)</pre></div></div></div><div class=\"sk-parallel\"><div class=\"sk-parallel-item\"><div class=\"sk-item\"><div class=\"sk-label-container\"><div class=\"sk-label sk-toggleable\"><input class=\"sk-toggleable__control sk-hidden--visually\" id=\"sk-estimator-id-151\" type=\"checkbox\" ><label for=\"sk-estimator-id-151\" class=\"sk-toggleable__label sk-toggleable__label-arrow\">estimator: DecisionTreeRegressor</label><div class=\"sk-toggleable__content\"><pre>DecisionTreeRegressor()</pre></div></div></div><div class=\"sk-serial\"><div class=\"sk-item\"><div class=\"sk-estimator sk-toggleable\"><input class=\"sk-toggleable__control sk-hidden--visually\" id=\"sk-estimator-id-152\" type=\"checkbox\" ><label for=\"sk-estimator-id-152\" class=\"sk-toggleable__label sk-toggleable__label-arrow\">DecisionTreeRegressor</label><div class=\"sk-toggleable__content\"><pre>DecisionTreeRegressor()</pre></div></div></div></div></div></div></div></div></div></div>"
      ],
      "text/plain": [
       "RandomizedSearchCV(cv=5, estimator=DecisionTreeRegressor(),\n",
       "                   param_distributions=[{'max_depth': array([ 1,  2,  3,  4,  5,  6,  7,  8,  9, 10, 11, 12, 13, 14, 15, 16, 17,\n",
       "       18, 19, 20, 21, 22, 23, 24, 25, 26, 27, 28, 29]),\n",
       "                                         'min_samples_leaf': array([ 1,  2,  3,  4,  5,  6,  7,  8,  9, 10, 11, 12, 13, 14, 15, 16, 17,\n",
       "       18, 19, 20, 21, 22, 23, 24, 25, 26, 27, 28, 29])}],\n",
       "                   return_train_score=True, scoring='neg_mean_squared_error',\n",
       "                   verbose=1)"
      ]
     },
     "execution_count": 292,
     "metadata": {},
     "output_type": "execute_result"
    }
   ],
   "source": [
    "#Performing Randomized Grid Search\n",
    "from sklearn.model_selection import RandomizedSearchCV\n",
    "\n",
    "param_grid = [\n",
    "    {'min_samples_leaf': np.arange(1, 30), \n",
    "     'max_depth': np.arange(1,30)}\n",
    "  ]\n",
    "\n",
    "tree_reg = DecisionTreeRegressor()\n",
    "\n",
    "grid_search = RandomizedSearchCV(tree_reg, param_grid, cv=5, n_iter=10,\n",
    "                           scoring='neg_mean_squared_error', verbose=1,\n",
    "                           return_train_score=True)\n",
    "\n",
    "grid_search.fit(train_x, train_target)"
   ]
  },
  {
   "cell_type": "code",
   "execution_count": 293,
   "metadata": {
    "scrolled": true
   },
   "outputs": [
    {
     "name": "stdout",
     "output_type": "stream",
     "text": [
      "236085.96552709088 {'min_samples_leaf': 26, 'max_depth': 3}\n",
      "184088.18630774444 {'min_samples_leaf': 7, 'max_depth': 12}\n",
      "196028.43425198927 {'min_samples_leaf': 14, 'max_depth': 7}\n",
      "209288.948745402 {'min_samples_leaf': 17, 'max_depth': 13}\n",
      "255371.4531134454 {'min_samples_leaf': 1, 'max_depth': 24}\n",
      "225399.66967075714 {'min_samples_leaf': 23, 'max_depth': 21}\n",
      "210745.56195976163 {'min_samples_leaf': 19, 'max_depth': 10}\n",
      "245783.98783379485 {'min_samples_leaf': 28, 'max_depth': 18}\n",
      "196641.3918511926 {'min_samples_leaf': 15, 'max_depth': 27}\n",
      "205849.9395478403 {'min_samples_leaf': 11, 'max_depth': 20}\n"
     ]
    }
   ],
   "source": [
    "cvres = grid_search.cv_results_\n",
    "\n",
    "for mean_score, params in zip(cvres[\"mean_test_score\"], cvres[\"params\"]):\n",
    "    print(np.sqrt(-mean_score), params)"
   ]
  },
  {
   "cell_type": "code",
   "execution_count": 294,
   "metadata": {},
   "outputs": [
    {
     "data": {
      "text/html": [
       "<style>#sk-container-id-62 {color: black;}#sk-container-id-62 pre{padding: 0;}#sk-container-id-62 div.sk-toggleable {background-color: white;}#sk-container-id-62 label.sk-toggleable__label {cursor: pointer;display: block;width: 100%;margin-bottom: 0;padding: 0.3em;box-sizing: border-box;text-align: center;}#sk-container-id-62 label.sk-toggleable__label-arrow:before {content: \"▸\";float: left;margin-right: 0.25em;color: #696969;}#sk-container-id-62 label.sk-toggleable__label-arrow:hover:before {color: black;}#sk-container-id-62 div.sk-estimator:hover label.sk-toggleable__label-arrow:before {color: black;}#sk-container-id-62 div.sk-toggleable__content {max-height: 0;max-width: 0;overflow: hidden;text-align: left;background-color: #f0f8ff;}#sk-container-id-62 div.sk-toggleable__content pre {margin: 0.2em;color: black;border-radius: 0.25em;background-color: #f0f8ff;}#sk-container-id-62 input.sk-toggleable__control:checked~div.sk-toggleable__content {max-height: 200px;max-width: 100%;overflow: auto;}#sk-container-id-62 input.sk-toggleable__control:checked~label.sk-toggleable__label-arrow:before {content: \"▾\";}#sk-container-id-62 div.sk-estimator input.sk-toggleable__control:checked~label.sk-toggleable__label {background-color: #d4ebff;}#sk-container-id-62 div.sk-label input.sk-toggleable__control:checked~label.sk-toggleable__label {background-color: #d4ebff;}#sk-container-id-62 input.sk-hidden--visually {border: 0;clip: rect(1px 1px 1px 1px);clip: rect(1px, 1px, 1px, 1px);height: 1px;margin: -1px;overflow: hidden;padding: 0;position: absolute;width: 1px;}#sk-container-id-62 div.sk-estimator {font-family: monospace;background-color: #f0f8ff;border: 1px dotted black;border-radius: 0.25em;box-sizing: border-box;margin-bottom: 0.5em;}#sk-container-id-62 div.sk-estimator:hover {background-color: #d4ebff;}#sk-container-id-62 div.sk-parallel-item::after {content: \"\";width: 100%;border-bottom: 1px solid gray;flex-grow: 1;}#sk-container-id-62 div.sk-label:hover label.sk-toggleable__label {background-color: #d4ebff;}#sk-container-id-62 div.sk-serial::before {content: \"\";position: absolute;border-left: 1px solid gray;box-sizing: border-box;top: 0;bottom: 0;left: 50%;z-index: 0;}#sk-container-id-62 div.sk-serial {display: flex;flex-direction: column;align-items: center;background-color: white;padding-right: 0.2em;padding-left: 0.2em;position: relative;}#sk-container-id-62 div.sk-item {position: relative;z-index: 1;}#sk-container-id-62 div.sk-parallel {display: flex;align-items: stretch;justify-content: center;background-color: white;position: relative;}#sk-container-id-62 div.sk-item::before, #sk-container-id-62 div.sk-parallel-item::before {content: \"\";position: absolute;border-left: 1px solid gray;box-sizing: border-box;top: 0;bottom: 0;left: 50%;z-index: -1;}#sk-container-id-62 div.sk-parallel-item {display: flex;flex-direction: column;z-index: 1;position: relative;background-color: white;}#sk-container-id-62 div.sk-parallel-item:first-child::after {align-self: flex-end;width: 50%;}#sk-container-id-62 div.sk-parallel-item:last-child::after {align-self: flex-start;width: 50%;}#sk-container-id-62 div.sk-parallel-item:only-child::after {width: 0;}#sk-container-id-62 div.sk-dashed-wrapped {border: 1px dashed gray;margin: 0 0.4em 0.5em 0.4em;box-sizing: border-box;padding-bottom: 0.4em;background-color: white;}#sk-container-id-62 div.sk-label label {font-family: monospace;font-weight: bold;display: inline-block;line-height: 1.2em;}#sk-container-id-62 div.sk-label-container {text-align: center;}#sk-container-id-62 div.sk-container {/* jupyter's `normalize.less` sets `[hidden] { display: none; }` but bootstrap.min.css set `[hidden] { display: none !important; }` so we also need the `!important` here to be able to override the default hidden behavior on the sphinx rendered scikit-learn.org. See: https://github.com/scikit-learn/scikit-learn/issues/21755 */display: inline-block !important;position: relative;}#sk-container-id-62 div.sk-text-repr-fallback {display: none;}</style><div id=\"sk-container-id-62\" class=\"sk-top-container\"><div class=\"sk-text-repr-fallback\"><pre>DecisionTreeRegressor(max_depth=12, min_samples_leaf=7)</pre><b>In a Jupyter environment, please rerun this cell to show the HTML representation or trust the notebook. <br />On GitHub, the HTML representation is unable to render, please try loading this page with nbviewer.org.</b></div><div class=\"sk-container\" hidden><div class=\"sk-item\"><div class=\"sk-estimator sk-toggleable\"><input class=\"sk-toggleable__control sk-hidden--visually\" id=\"sk-estimator-id-153\" type=\"checkbox\" checked><label for=\"sk-estimator-id-153\" class=\"sk-toggleable__label sk-toggleable__label-arrow\">DecisionTreeRegressor</label><div class=\"sk-toggleable__content\"><pre>DecisionTreeRegressor(max_depth=12, min_samples_leaf=7)</pre></div></div></div></div></div>"
      ],
      "text/plain": [
       "DecisionTreeRegressor(max_depth=12, min_samples_leaf=7)"
      ]
     },
     "execution_count": 294,
     "metadata": {},
     "output_type": "execute_result"
    }
   ],
   "source": [
    "grid_search.best_estimator_"
   ]
  },
  {
   "cell_type": "code",
   "execution_count": 295,
   "metadata": {},
   "outputs": [
    {
     "name": "stdout",
     "output_type": "stream",
     "text": [
      "DT_Random_Grid_search Train RMSE: 107518.91626385371\n"
     ]
    }
   ],
   "source": [
    "#Train RMSE\n",
    "train_pred = grid_search.best_estimator_.predict(train_x)\n",
    "\n",
    "train_mse = mean_squared_error(train_target, train_pred)\n",
    "\n",
    "train_rmse = np.sqrt(train_mse)\n",
    "\n",
    "print('DT_Random_Grid_search Train RMSE: {}' .format(train_rmse))"
   ]
  },
  {
   "cell_type": "code",
   "execution_count": 296,
   "metadata": {},
   "outputs": [
    {
     "name": "stdout",
     "output_type": "stream",
     "text": [
      "DT_Random_Grid_search Test RMSE: 186720.9726125196\n"
     ]
    }
   ],
   "source": [
    "#Test RMSE\n",
    "test_pred = grid_search.best_estimator_.predict(test_x)\n",
    "\n",
    "test_mse = mean_squared_error(test_target, test_pred)\n",
    "\n",
    "test_rmse = np.sqrt(test_mse)\n",
    "\n",
    "print('DT_Random_Grid_search Test RMSE: {}' .format(test_rmse))"
   ]
  },
  {
   "cell_type": "markdown",
   "metadata": {},
   "source": [
    "## Voting regressor (1 points):\n",
    "\n",
    "The voting regressor should have at least 3 individual models"
   ]
  },
  {
   "cell_type": "code",
   "execution_count": 297,
   "metadata": {},
   "outputs": [
    {
     "data": {
      "text/html": [
       "<style>#sk-container-id-63 {color: black;}#sk-container-id-63 pre{padding: 0;}#sk-container-id-63 div.sk-toggleable {background-color: white;}#sk-container-id-63 label.sk-toggleable__label {cursor: pointer;display: block;width: 100%;margin-bottom: 0;padding: 0.3em;box-sizing: border-box;text-align: center;}#sk-container-id-63 label.sk-toggleable__label-arrow:before {content: \"▸\";float: left;margin-right: 0.25em;color: #696969;}#sk-container-id-63 label.sk-toggleable__label-arrow:hover:before {color: black;}#sk-container-id-63 div.sk-estimator:hover label.sk-toggleable__label-arrow:before {color: black;}#sk-container-id-63 div.sk-toggleable__content {max-height: 0;max-width: 0;overflow: hidden;text-align: left;background-color: #f0f8ff;}#sk-container-id-63 div.sk-toggleable__content pre {margin: 0.2em;color: black;border-radius: 0.25em;background-color: #f0f8ff;}#sk-container-id-63 input.sk-toggleable__control:checked~div.sk-toggleable__content {max-height: 200px;max-width: 100%;overflow: auto;}#sk-container-id-63 input.sk-toggleable__control:checked~label.sk-toggleable__label-arrow:before {content: \"▾\";}#sk-container-id-63 div.sk-estimator input.sk-toggleable__control:checked~label.sk-toggleable__label {background-color: #d4ebff;}#sk-container-id-63 div.sk-label input.sk-toggleable__control:checked~label.sk-toggleable__label {background-color: #d4ebff;}#sk-container-id-63 input.sk-hidden--visually {border: 0;clip: rect(1px 1px 1px 1px);clip: rect(1px, 1px, 1px, 1px);height: 1px;margin: -1px;overflow: hidden;padding: 0;position: absolute;width: 1px;}#sk-container-id-63 div.sk-estimator {font-family: monospace;background-color: #f0f8ff;border: 1px dotted black;border-radius: 0.25em;box-sizing: border-box;margin-bottom: 0.5em;}#sk-container-id-63 div.sk-estimator:hover {background-color: #d4ebff;}#sk-container-id-63 div.sk-parallel-item::after {content: \"\";width: 100%;border-bottom: 1px solid gray;flex-grow: 1;}#sk-container-id-63 div.sk-label:hover label.sk-toggleable__label {background-color: #d4ebff;}#sk-container-id-63 div.sk-serial::before {content: \"\";position: absolute;border-left: 1px solid gray;box-sizing: border-box;top: 0;bottom: 0;left: 50%;z-index: 0;}#sk-container-id-63 div.sk-serial {display: flex;flex-direction: column;align-items: center;background-color: white;padding-right: 0.2em;padding-left: 0.2em;position: relative;}#sk-container-id-63 div.sk-item {position: relative;z-index: 1;}#sk-container-id-63 div.sk-parallel {display: flex;align-items: stretch;justify-content: center;background-color: white;position: relative;}#sk-container-id-63 div.sk-item::before, #sk-container-id-63 div.sk-parallel-item::before {content: \"\";position: absolute;border-left: 1px solid gray;box-sizing: border-box;top: 0;bottom: 0;left: 50%;z-index: -1;}#sk-container-id-63 div.sk-parallel-item {display: flex;flex-direction: column;z-index: 1;position: relative;background-color: white;}#sk-container-id-63 div.sk-parallel-item:first-child::after {align-self: flex-end;width: 50%;}#sk-container-id-63 div.sk-parallel-item:last-child::after {align-self: flex-start;width: 50%;}#sk-container-id-63 div.sk-parallel-item:only-child::after {width: 0;}#sk-container-id-63 div.sk-dashed-wrapped {border: 1px dashed gray;margin: 0 0.4em 0.5em 0.4em;box-sizing: border-box;padding-bottom: 0.4em;background-color: white;}#sk-container-id-63 div.sk-label label {font-family: monospace;font-weight: bold;display: inline-block;line-height: 1.2em;}#sk-container-id-63 div.sk-label-container {text-align: center;}#sk-container-id-63 div.sk-container {/* jupyter's `normalize.less` sets `[hidden] { display: none; }` but bootstrap.min.css set `[hidden] { display: none !important; }` so we also need the `!important` here to be able to override the default hidden behavior on the sphinx rendered scikit-learn.org. See: https://github.com/scikit-learn/scikit-learn/issues/21755 */display: inline-block !important;position: relative;}#sk-container-id-63 div.sk-text-repr-fallback {display: none;}</style><div id=\"sk-container-id-63\" class=\"sk-top-container\"><div class=\"sk-text-repr-fallback\"><pre>VotingRegressor(estimators=[(&#x27;dt&#x27;, DecisionTreeRegressor(max_depth=15)),\n",
       "                            (&#x27;svr&#x27;, SVR(C=10, epsilon=0.01)),\n",
       "                            (&#x27;sgd&#x27;, SGDRegressor(max_iter=100000))])</pre><b>In a Jupyter environment, please rerun this cell to show the HTML representation or trust the notebook. <br />On GitHub, the HTML representation is unable to render, please try loading this page with nbviewer.org.</b></div><div class=\"sk-container\" hidden><div class=\"sk-item sk-dashed-wrapped\"><div class=\"sk-label-container\"><div class=\"sk-label sk-toggleable\"><input class=\"sk-toggleable__control sk-hidden--visually\" id=\"sk-estimator-id-154\" type=\"checkbox\" ><label for=\"sk-estimator-id-154\" class=\"sk-toggleable__label sk-toggleable__label-arrow\">VotingRegressor</label><div class=\"sk-toggleable__content\"><pre>VotingRegressor(estimators=[(&#x27;dt&#x27;, DecisionTreeRegressor(max_depth=15)),\n",
       "                            (&#x27;svr&#x27;, SVR(C=10, epsilon=0.01)),\n",
       "                            (&#x27;sgd&#x27;, SGDRegressor(max_iter=100000))])</pre></div></div></div><div class=\"sk-parallel\"><div class=\"sk-parallel-item\"><div class=\"sk-item\"><div class=\"sk-label-container\"><div class=\"sk-label sk-toggleable\"><label>dt</label></div></div><div class=\"sk-serial\"><div class=\"sk-item\"><div class=\"sk-estimator sk-toggleable\"><input class=\"sk-toggleable__control sk-hidden--visually\" id=\"sk-estimator-id-155\" type=\"checkbox\" ><label for=\"sk-estimator-id-155\" class=\"sk-toggleable__label sk-toggleable__label-arrow\">DecisionTreeRegressor</label><div class=\"sk-toggleable__content\"><pre>DecisionTreeRegressor(max_depth=15)</pre></div></div></div></div></div></div><div class=\"sk-parallel-item\"><div class=\"sk-item\"><div class=\"sk-label-container\"><div class=\"sk-label sk-toggleable\"><label>svr</label></div></div><div class=\"sk-serial\"><div class=\"sk-item\"><div class=\"sk-estimator sk-toggleable\"><input class=\"sk-toggleable__control sk-hidden--visually\" id=\"sk-estimator-id-156\" type=\"checkbox\" ><label for=\"sk-estimator-id-156\" class=\"sk-toggleable__label sk-toggleable__label-arrow\">SVR</label><div class=\"sk-toggleable__content\"><pre>SVR(C=10, epsilon=0.01)</pre></div></div></div></div></div></div><div class=\"sk-parallel-item\"><div class=\"sk-item\"><div class=\"sk-label-container\"><div class=\"sk-label sk-toggleable\"><label>sgd</label></div></div><div class=\"sk-serial\"><div class=\"sk-item\"><div class=\"sk-estimator sk-toggleable\"><input class=\"sk-toggleable__control sk-hidden--visually\" id=\"sk-estimator-id-157\" type=\"checkbox\" ><label for=\"sk-estimator-id-157\" class=\"sk-toggleable__label sk-toggleable__label-arrow\">SGDRegressor</label><div class=\"sk-toggleable__content\"><pre>SGDRegressor(max_iter=100000)</pre></div></div></div></div></div></div></div></div></div></div>"
      ],
      "text/plain": [
       "VotingRegressor(estimators=[('dt', DecisionTreeRegressor(max_depth=15)),\n",
       "                            ('svr', SVR(C=10, epsilon=0.01)),\n",
       "                            ('sgd', SGDRegressor(max_iter=100000))])"
      ]
     },
     "execution_count": 297,
     "metadata": {},
     "output_type": "execute_result"
    }
   ],
   "source": [
    "from sklearn.tree import DecisionTreeRegressor\n",
    "from sklearn.linear_model import SGDRegressor \n",
    "from sklearn.svm import SVR\n",
    "from sklearn.ensemble import VotingRegressor\n",
    "\n",
    "dtree_reg = DecisionTreeRegressor(max_depth=15)\n",
    "svm_reg = SVR(kernel=\"rbf\", C=10, epsilon=0.01, gamma='scale') \n",
    "sgd_reg = SGDRegressor(max_iter=100000, tol=1e-3)\n",
    "\n",
    "voting_reg = VotingRegressor(\n",
    "            estimators=[('dt', dtree_reg), \n",
    "                        ('svr', svm_reg), \n",
    "                        ('sgd', sgd_reg)])\n",
    "\n",
    "voting_reg.fit(train_x, train_target)"
   ]
  },
  {
   "cell_type": "code",
   "execution_count": 298,
   "metadata": {},
   "outputs": [
    {
     "name": "stdout",
     "output_type": "stream",
     "text": [
      "Voting_Regressor_Train RMSE: 2405213711582.3926\n"
     ]
    }
   ],
   "source": [
    "#Train RMSE\n",
    "train_pred = voting_reg.predict(train_x)\n",
    "\n",
    "train_mse = mean_squared_error(train_target, train_pred)\n",
    "\n",
    "train_rmse = np.sqrt(train_mse)\n",
    "\n",
    "print('Voting_Regressor_Train RMSE: {}' .format(train_rmse))"
   ]
  },
  {
   "cell_type": "code",
   "execution_count": 299,
   "metadata": {},
   "outputs": [
    {
     "name": "stdout",
     "output_type": "stream",
     "text": [
      "Voting_Regessor_Test RMSE: 2757795690589.5703\n"
     ]
    }
   ],
   "source": [
    "#Test RMSE\n",
    "test_pred = voting_reg.predict(test_x)\n",
    "\n",
    "test_mse = mean_squared_error(test_target, test_pred)\n",
    "\n",
    "test_rmse = np.sqrt(test_mse)\n",
    "\n",
    "print('Voting_Regessor_Test RMSE: {}' .format(test_rmse))"
   ]
  },
  {
   "cell_type": "markdown",
   "metadata": {},
   "source": [
    "### Is the model overfitting? Provide your answer below. If yes, please add more cells below and show how you corrected overfitting. If your model is overfitting and you don't correct it, you will lose points. (0.25 points)"
   ]
  },
  {
   "cell_type": "markdown",
   "metadata": {},
   "source": [
    "yes,The difference between the test and training RMSE values is relatively small, suggesting a moderate level of overfitting rather than severe overfitting.\n",
    "In this case, the test RMSE (216212781248.7989) is higher than the train RMSE (247200643996.11316), indicating that the model is performing worse on the unseen test data compared to the train data it was fitted on."
   ]
  },
  {
   "cell_type": "code",
   "execution_count": 300,
   "metadata": {},
   "outputs": [
    {
     "data": {
      "text/html": [
       "<style>#sk-container-id-64 {color: black;}#sk-container-id-64 pre{padding: 0;}#sk-container-id-64 div.sk-toggleable {background-color: white;}#sk-container-id-64 label.sk-toggleable__label {cursor: pointer;display: block;width: 100%;margin-bottom: 0;padding: 0.3em;box-sizing: border-box;text-align: center;}#sk-container-id-64 label.sk-toggleable__label-arrow:before {content: \"▸\";float: left;margin-right: 0.25em;color: #696969;}#sk-container-id-64 label.sk-toggleable__label-arrow:hover:before {color: black;}#sk-container-id-64 div.sk-estimator:hover label.sk-toggleable__label-arrow:before {color: black;}#sk-container-id-64 div.sk-toggleable__content {max-height: 0;max-width: 0;overflow: hidden;text-align: left;background-color: #f0f8ff;}#sk-container-id-64 div.sk-toggleable__content pre {margin: 0.2em;color: black;border-radius: 0.25em;background-color: #f0f8ff;}#sk-container-id-64 input.sk-toggleable__control:checked~div.sk-toggleable__content {max-height: 200px;max-width: 100%;overflow: auto;}#sk-container-id-64 input.sk-toggleable__control:checked~label.sk-toggleable__label-arrow:before {content: \"▾\";}#sk-container-id-64 div.sk-estimator input.sk-toggleable__control:checked~label.sk-toggleable__label {background-color: #d4ebff;}#sk-container-id-64 div.sk-label input.sk-toggleable__control:checked~label.sk-toggleable__label {background-color: #d4ebff;}#sk-container-id-64 input.sk-hidden--visually {border: 0;clip: rect(1px 1px 1px 1px);clip: rect(1px, 1px, 1px, 1px);height: 1px;margin: -1px;overflow: hidden;padding: 0;position: absolute;width: 1px;}#sk-container-id-64 div.sk-estimator {font-family: monospace;background-color: #f0f8ff;border: 1px dotted black;border-radius: 0.25em;box-sizing: border-box;margin-bottom: 0.5em;}#sk-container-id-64 div.sk-estimator:hover {background-color: #d4ebff;}#sk-container-id-64 div.sk-parallel-item::after {content: \"\";width: 100%;border-bottom: 1px solid gray;flex-grow: 1;}#sk-container-id-64 div.sk-label:hover label.sk-toggleable__label {background-color: #d4ebff;}#sk-container-id-64 div.sk-serial::before {content: \"\";position: absolute;border-left: 1px solid gray;box-sizing: border-box;top: 0;bottom: 0;left: 50%;z-index: 0;}#sk-container-id-64 div.sk-serial {display: flex;flex-direction: column;align-items: center;background-color: white;padding-right: 0.2em;padding-left: 0.2em;position: relative;}#sk-container-id-64 div.sk-item {position: relative;z-index: 1;}#sk-container-id-64 div.sk-parallel {display: flex;align-items: stretch;justify-content: center;background-color: white;position: relative;}#sk-container-id-64 div.sk-item::before, #sk-container-id-64 div.sk-parallel-item::before {content: \"\";position: absolute;border-left: 1px solid gray;box-sizing: border-box;top: 0;bottom: 0;left: 50%;z-index: -1;}#sk-container-id-64 div.sk-parallel-item {display: flex;flex-direction: column;z-index: 1;position: relative;background-color: white;}#sk-container-id-64 div.sk-parallel-item:first-child::after {align-self: flex-end;width: 50%;}#sk-container-id-64 div.sk-parallel-item:last-child::after {align-self: flex-start;width: 50%;}#sk-container-id-64 div.sk-parallel-item:only-child::after {width: 0;}#sk-container-id-64 div.sk-dashed-wrapped {border: 1px dashed gray;margin: 0 0.4em 0.5em 0.4em;box-sizing: border-box;padding-bottom: 0.4em;background-color: white;}#sk-container-id-64 div.sk-label label {font-family: monospace;font-weight: bold;display: inline-block;line-height: 1.2em;}#sk-container-id-64 div.sk-label-container {text-align: center;}#sk-container-id-64 div.sk-container {/* jupyter's `normalize.less` sets `[hidden] { display: none; }` but bootstrap.min.css set `[hidden] { display: none !important; }` so we also need the `!important` here to be able to override the default hidden behavior on the sphinx rendered scikit-learn.org. See: https://github.com/scikit-learn/scikit-learn/issues/21755 */display: inline-block !important;position: relative;}#sk-container-id-64 div.sk-text-repr-fallback {display: none;}</style><div id=\"sk-container-id-64\" class=\"sk-top-container\"><div class=\"sk-text-repr-fallback\"><pre>RandomForestRegressor(max_depth=10, n_estimators=500, n_jobs=-1)</pre><b>In a Jupyter environment, please rerun this cell to show the HTML representation or trust the notebook. <br />On GitHub, the HTML representation is unable to render, please try loading this page with nbviewer.org.</b></div><div class=\"sk-container\" hidden><div class=\"sk-item\"><div class=\"sk-estimator sk-toggleable\"><input class=\"sk-toggleable__control sk-hidden--visually\" id=\"sk-estimator-id-158\" type=\"checkbox\" checked><label for=\"sk-estimator-id-158\" class=\"sk-toggleable__label sk-toggleable__label-arrow\">RandomForestRegressor</label><div class=\"sk-toggleable__content\"><pre>RandomForestRegressor(max_depth=10, n_estimators=500, n_jobs=-1)</pre></div></div></div></div></div>"
      ],
      "text/plain": [
       "RandomForestRegressor(max_depth=10, n_estimators=500, n_jobs=-1)"
      ]
     },
     "execution_count": 300,
     "metadata": {},
     "output_type": "execute_result"
    }
   ],
   "source": [
    "#Performing RandomForest ensemble model\n",
    "from sklearn.ensemble import RandomForestRegressor \n",
    "\n",
    "rnd_reg = RandomForestRegressor(n_estimators=500, max_depth=10, n_jobs=-1) \n",
    "\n",
    "rnd_reg.fit(train_x, train_target)"
   ]
  },
  {
   "cell_type": "code",
   "execution_count": 301,
   "metadata": {},
   "outputs": [
    {
     "name": "stdout",
     "output_type": "stream",
     "text": [
      "Random_forest_Train RMSE: 70174.30148425935\n"
     ]
    }
   ],
   "source": [
    "#Train RMSE\n",
    "train_pred = rnd_reg.predict(train_x)\n",
    "\n",
    "train_mse = mean_squared_error(train_target, train_pred)\n",
    "\n",
    "train_rmse = np.sqrt(train_mse)\n",
    "\n",
    "print('Random_forest_Train RMSE: {}' .format(train_rmse))"
   ]
  },
  {
   "cell_type": "code",
   "execution_count": 302,
   "metadata": {},
   "outputs": [
    {
     "name": "stdout",
     "output_type": "stream",
     "text": [
      "Random_forest_Test RMSE: 142144.68891550097\n"
     ]
    }
   ],
   "source": [
    "#Test RMSE\n",
    "test_pred = rnd_reg.predict(test_x)\n",
    "\n",
    "test_mse = mean_squared_error(test_target, test_pred)\n",
    "\n",
    "test_rmse = np.sqrt(test_mse)\n",
    "\n",
    "print('Random_forest_Test RMSE: {}' .format(test_rmse))"
   ]
  },
  {
   "cell_type": "code",
   "execution_count": 303,
   "metadata": {},
   "outputs": [
    {
     "data": {
      "text/html": [
       "<style>#sk-container-id-65 {color: black;}#sk-container-id-65 pre{padding: 0;}#sk-container-id-65 div.sk-toggleable {background-color: white;}#sk-container-id-65 label.sk-toggleable__label {cursor: pointer;display: block;width: 100%;margin-bottom: 0;padding: 0.3em;box-sizing: border-box;text-align: center;}#sk-container-id-65 label.sk-toggleable__label-arrow:before {content: \"▸\";float: left;margin-right: 0.25em;color: #696969;}#sk-container-id-65 label.sk-toggleable__label-arrow:hover:before {color: black;}#sk-container-id-65 div.sk-estimator:hover label.sk-toggleable__label-arrow:before {color: black;}#sk-container-id-65 div.sk-toggleable__content {max-height: 0;max-width: 0;overflow: hidden;text-align: left;background-color: #f0f8ff;}#sk-container-id-65 div.sk-toggleable__content pre {margin: 0.2em;color: black;border-radius: 0.25em;background-color: #f0f8ff;}#sk-container-id-65 input.sk-toggleable__control:checked~div.sk-toggleable__content {max-height: 200px;max-width: 100%;overflow: auto;}#sk-container-id-65 input.sk-toggleable__control:checked~label.sk-toggleable__label-arrow:before {content: \"▾\";}#sk-container-id-65 div.sk-estimator input.sk-toggleable__control:checked~label.sk-toggleable__label {background-color: #d4ebff;}#sk-container-id-65 div.sk-label input.sk-toggleable__control:checked~label.sk-toggleable__label {background-color: #d4ebff;}#sk-container-id-65 input.sk-hidden--visually {border: 0;clip: rect(1px 1px 1px 1px);clip: rect(1px, 1px, 1px, 1px);height: 1px;margin: -1px;overflow: hidden;padding: 0;position: absolute;width: 1px;}#sk-container-id-65 div.sk-estimator {font-family: monospace;background-color: #f0f8ff;border: 1px dotted black;border-radius: 0.25em;box-sizing: border-box;margin-bottom: 0.5em;}#sk-container-id-65 div.sk-estimator:hover {background-color: #d4ebff;}#sk-container-id-65 div.sk-parallel-item::after {content: \"\";width: 100%;border-bottom: 1px solid gray;flex-grow: 1;}#sk-container-id-65 div.sk-label:hover label.sk-toggleable__label {background-color: #d4ebff;}#sk-container-id-65 div.sk-serial::before {content: \"\";position: absolute;border-left: 1px solid gray;box-sizing: border-box;top: 0;bottom: 0;left: 50%;z-index: 0;}#sk-container-id-65 div.sk-serial {display: flex;flex-direction: column;align-items: center;background-color: white;padding-right: 0.2em;padding-left: 0.2em;position: relative;}#sk-container-id-65 div.sk-item {position: relative;z-index: 1;}#sk-container-id-65 div.sk-parallel {display: flex;align-items: stretch;justify-content: center;background-color: white;position: relative;}#sk-container-id-65 div.sk-item::before, #sk-container-id-65 div.sk-parallel-item::before {content: \"\";position: absolute;border-left: 1px solid gray;box-sizing: border-box;top: 0;bottom: 0;left: 50%;z-index: -1;}#sk-container-id-65 div.sk-parallel-item {display: flex;flex-direction: column;z-index: 1;position: relative;background-color: white;}#sk-container-id-65 div.sk-parallel-item:first-child::after {align-self: flex-end;width: 50%;}#sk-container-id-65 div.sk-parallel-item:last-child::after {align-self: flex-start;width: 50%;}#sk-container-id-65 div.sk-parallel-item:only-child::after {width: 0;}#sk-container-id-65 div.sk-dashed-wrapped {border: 1px dashed gray;margin: 0 0.4em 0.5em 0.4em;box-sizing: border-box;padding-bottom: 0.4em;background-color: white;}#sk-container-id-65 div.sk-label label {font-family: monospace;font-weight: bold;display: inline-block;line-height: 1.2em;}#sk-container-id-65 div.sk-label-container {text-align: center;}#sk-container-id-65 div.sk-container {/* jupyter's `normalize.less` sets `[hidden] { display: none; }` but bootstrap.min.css set `[hidden] { display: none !important; }` so we also need the `!important` here to be able to override the default hidden behavior on the sphinx rendered scikit-learn.org. See: https://github.com/scikit-learn/scikit-learn/issues/21755 */display: inline-block !important;position: relative;}#sk-container-id-65 div.sk-text-repr-fallback {display: none;}</style><div id=\"sk-container-id-65\" class=\"sk-top-container\"><div class=\"sk-text-repr-fallback\"><pre>ExtraTreesRegressor(max_depth=10, n_estimators=500, n_jobs=-1)</pre><b>In a Jupyter environment, please rerun this cell to show the HTML representation or trust the notebook. <br />On GitHub, the HTML representation is unable to render, please try loading this page with nbviewer.org.</b></div><div class=\"sk-container\" hidden><div class=\"sk-item\"><div class=\"sk-estimator sk-toggleable\"><input class=\"sk-toggleable__control sk-hidden--visually\" id=\"sk-estimator-id-159\" type=\"checkbox\" checked><label for=\"sk-estimator-id-159\" class=\"sk-toggleable__label sk-toggleable__label-arrow\">ExtraTreesRegressor</label><div class=\"sk-toggleable__content\"><pre>ExtraTreesRegressor(max_depth=10, n_estimators=500, n_jobs=-1)</pre></div></div></div></div></div>"
      ],
      "text/plain": [
       "ExtraTreesRegressor(max_depth=10, n_estimators=500, n_jobs=-1)"
      ]
     },
     "execution_count": 303,
     "metadata": {},
     "output_type": "execute_result"
    }
   ],
   "source": [
    "#Performing ExtratreesRegresspr\n",
    "from sklearn.ensemble import ExtraTreesRegressor \n",
    "\n",
    "ext_reg = ExtraTreesRegressor(n_estimators=500, max_depth=10, n_jobs=-1) \n",
    "\n",
    "ext_reg.fit(train_x, train_target)"
   ]
  },
  {
   "cell_type": "code",
   "execution_count": 304,
   "metadata": {},
   "outputs": [
    {
     "name": "stdout",
     "output_type": "stream",
     "text": [
      "Extra_Trees_Train RMSE: 44502.152906479016\n"
     ]
    }
   ],
   "source": [
    "#Train RMSE\n",
    "train_pred = ext_reg.predict(train_x)\n",
    "\n",
    "train_mse = mean_squared_error(train_target, train_pred)\n",
    "\n",
    "train_rmse = np.sqrt(train_mse)\n",
    "\n",
    "print('Extra_Trees_Train RMSE: {}' .format(train_rmse))"
   ]
  },
  {
   "cell_type": "code",
   "execution_count": 305,
   "metadata": {},
   "outputs": [
    {
     "name": "stdout",
     "output_type": "stream",
     "text": [
      "Extra_Trees_Test RMSE: 118513.93107396505\n"
     ]
    }
   ],
   "source": [
    "#Test RMSE\n",
    "test_pred = ext_reg.predict(test_x)\n",
    "\n",
    "test_mse = mean_squared_error(test_target, test_pred)\n",
    "\n",
    "test_rmse = np.sqrt(test_mse)\n",
    "\n",
    "print('Extra_Trees_Test RMSE: {}' .format(test_rmse))"
   ]
  },
  {
   "cell_type": "markdown",
   "metadata": {},
   "source": [
    "By performing Both models seem to be overfitting based on the higher test RMSE compared to train RMSE.Maybe due to the model complexity overfitting issues cannot be addressed with this dataset"
   ]
  },
  {
   "cell_type": "markdown",
   "metadata": {},
   "source": [
    "## A Boosting model: (1 point)\n",
    "\n",
    "Build either an Adaboost or a GradientBoost model"
   ]
  },
  {
   "cell_type": "code",
   "execution_count": 306,
   "metadata": {},
   "outputs": [
    {
     "data": {
      "text/html": [
       "<style>#sk-container-id-66 {color: black;}#sk-container-id-66 pre{padding: 0;}#sk-container-id-66 div.sk-toggleable {background-color: white;}#sk-container-id-66 label.sk-toggleable__label {cursor: pointer;display: block;width: 100%;margin-bottom: 0;padding: 0.3em;box-sizing: border-box;text-align: center;}#sk-container-id-66 label.sk-toggleable__label-arrow:before {content: \"▸\";float: left;margin-right: 0.25em;color: #696969;}#sk-container-id-66 label.sk-toggleable__label-arrow:hover:before {color: black;}#sk-container-id-66 div.sk-estimator:hover label.sk-toggleable__label-arrow:before {color: black;}#sk-container-id-66 div.sk-toggleable__content {max-height: 0;max-width: 0;overflow: hidden;text-align: left;background-color: #f0f8ff;}#sk-container-id-66 div.sk-toggleable__content pre {margin: 0.2em;color: black;border-radius: 0.25em;background-color: #f0f8ff;}#sk-container-id-66 input.sk-toggleable__control:checked~div.sk-toggleable__content {max-height: 200px;max-width: 100%;overflow: auto;}#sk-container-id-66 input.sk-toggleable__control:checked~label.sk-toggleable__label-arrow:before {content: \"▾\";}#sk-container-id-66 div.sk-estimator input.sk-toggleable__control:checked~label.sk-toggleable__label {background-color: #d4ebff;}#sk-container-id-66 div.sk-label input.sk-toggleable__control:checked~label.sk-toggleable__label {background-color: #d4ebff;}#sk-container-id-66 input.sk-hidden--visually {border: 0;clip: rect(1px 1px 1px 1px);clip: rect(1px, 1px, 1px, 1px);height: 1px;margin: -1px;overflow: hidden;padding: 0;position: absolute;width: 1px;}#sk-container-id-66 div.sk-estimator {font-family: monospace;background-color: #f0f8ff;border: 1px dotted black;border-radius: 0.25em;box-sizing: border-box;margin-bottom: 0.5em;}#sk-container-id-66 div.sk-estimator:hover {background-color: #d4ebff;}#sk-container-id-66 div.sk-parallel-item::after {content: \"\";width: 100%;border-bottom: 1px solid gray;flex-grow: 1;}#sk-container-id-66 div.sk-label:hover label.sk-toggleable__label {background-color: #d4ebff;}#sk-container-id-66 div.sk-serial::before {content: \"\";position: absolute;border-left: 1px solid gray;box-sizing: border-box;top: 0;bottom: 0;left: 50%;z-index: 0;}#sk-container-id-66 div.sk-serial {display: flex;flex-direction: column;align-items: center;background-color: white;padding-right: 0.2em;padding-left: 0.2em;position: relative;}#sk-container-id-66 div.sk-item {position: relative;z-index: 1;}#sk-container-id-66 div.sk-parallel {display: flex;align-items: stretch;justify-content: center;background-color: white;position: relative;}#sk-container-id-66 div.sk-item::before, #sk-container-id-66 div.sk-parallel-item::before {content: \"\";position: absolute;border-left: 1px solid gray;box-sizing: border-box;top: 0;bottom: 0;left: 50%;z-index: -1;}#sk-container-id-66 div.sk-parallel-item {display: flex;flex-direction: column;z-index: 1;position: relative;background-color: white;}#sk-container-id-66 div.sk-parallel-item:first-child::after {align-self: flex-end;width: 50%;}#sk-container-id-66 div.sk-parallel-item:last-child::after {align-self: flex-start;width: 50%;}#sk-container-id-66 div.sk-parallel-item:only-child::after {width: 0;}#sk-container-id-66 div.sk-dashed-wrapped {border: 1px dashed gray;margin: 0 0.4em 0.5em 0.4em;box-sizing: border-box;padding-bottom: 0.4em;background-color: white;}#sk-container-id-66 div.sk-label label {font-family: monospace;font-weight: bold;display: inline-block;line-height: 1.2em;}#sk-container-id-66 div.sk-label-container {text-align: center;}#sk-container-id-66 div.sk-container {/* jupyter's `normalize.less` sets `[hidden] { display: none; }` but bootstrap.min.css set `[hidden] { display: none !important; }` so we also need the `!important` here to be able to override the default hidden behavior on the sphinx rendered scikit-learn.org. See: https://github.com/scikit-learn/scikit-learn/issues/21755 */display: inline-block !important;position: relative;}#sk-container-id-66 div.sk-text-repr-fallback {display: none;}</style><div id=\"sk-container-id-66\" class=\"sk-top-container\"><div class=\"sk-text-repr-fallback\"><pre>GradientBoostingRegressor(max_depth=2, subsample=0.75)</pre><b>In a Jupyter environment, please rerun this cell to show the HTML representation or trust the notebook. <br />On GitHub, the HTML representation is unable to render, please try loading this page with nbviewer.org.</b></div><div class=\"sk-container\" hidden><div class=\"sk-item\"><div class=\"sk-estimator sk-toggleable\"><input class=\"sk-toggleable__control sk-hidden--visually\" id=\"sk-estimator-id-160\" type=\"checkbox\" checked><label for=\"sk-estimator-id-160\" class=\"sk-toggleable__label sk-toggleable__label-arrow\">GradientBoostingRegressor</label><div class=\"sk-toggleable__content\"><pre>GradientBoostingRegressor(max_depth=2, subsample=0.75)</pre></div></div></div></div></div>"
      ],
      "text/plain": [
       "GradientBoostingRegressor(max_depth=2, subsample=0.75)"
      ]
     },
     "execution_count": 306,
     "metadata": {},
     "output_type": "execute_result"
    }
   ],
   "source": [
    "#Train on 75% of the sample only\n",
    "from sklearn.ensemble import GradientBoostingRegressor\n",
    "gb_reg = GradientBoostingRegressor(max_depth=2, n_estimators=100, \n",
    "                                   learning_rate=0.1, subsample=0.75) \n",
    "\n",
    "gb_reg.fit(train_x, train_target)"
   ]
  },
  {
   "cell_type": "code",
   "execution_count": 307,
   "metadata": {},
   "outputs": [
    {
     "name": "stdout",
     "output_type": "stream",
     "text": [
      "GBR_Train RMSE: 69784.61063333869\n"
     ]
    }
   ],
   "source": [
    "#Train RMSE\n",
    "train_pred = gb_reg.predict(train_x)\n",
    "\n",
    "train_mse = mean_squared_error(train_target, train_pred)\n",
    "\n",
    "train_rmse = np.sqrt(train_mse)\n",
    "\n",
    "print('GBR_Train RMSE: {}' .format(train_rmse))"
   ]
  },
  {
   "cell_type": "code",
   "execution_count": 308,
   "metadata": {},
   "outputs": [
    {
     "name": "stdout",
     "output_type": "stream",
     "text": [
      "GBR_Test RMSE: 136289.93515976617\n"
     ]
    }
   ],
   "source": [
    "#Test RMSE\n",
    "test_pred = gb_reg.predict(test_x)\n",
    "\n",
    "test_mse = mean_squared_error(test_target, test_pred)\n",
    "\n",
    "test_rmse = np.sqrt(test_mse)\n",
    "\n",
    "print('GBR_Test RMSE: {}' .format(test_rmse))"
   ]
  },
  {
   "cell_type": "markdown",
   "metadata": {},
   "source": []
  },
  {
   "cell_type": "markdown",
   "metadata": {},
   "source": [
    "### Is the model overfitting? Provide your answer below. If yes, please add more cells below and show how you corrected overfitting. If your model is overfitting and you don't correct it, you will lose points. (0.25 points)"
   ]
  },
  {
   "cell_type": "markdown",
   "metadata": {},
   "source": [
    "yes,We can see that the test RMSE is significantly higher than the training RMSE, which suggests that the model is overfitting to the training data."
   ]
  },
  {
   "cell_type": "code",
   "execution_count": 309,
   "metadata": {},
   "outputs": [
    {
     "name": "stdout",
     "output_type": "stream",
     "text": [
      "# Estimators = 1     Train rmse = 114508.79776039407   Test rmse = 229981.5557653471\n",
      "# Estimators = 2     Train rmse = 101532.97440698586   Test rmse = 235674.6973766747\n",
      "# Estimators = 3     Train rmse = 97143.31453072195   Test rmse = 256725.06512603542\n",
      "# Estimators = 4     Train rmse = 85416.50365703652   Test rmse = 220425.53696958142\n",
      "# Estimators = 5     Train rmse = 79461.87197394701   Test rmse = 233824.63438709037\n",
      "# Estimators = 6     Train rmse = 72482.75864974273   Test rmse = 230380.94645332123\n",
      "# Estimators = 7     Train rmse = 68005.16160469527   Test rmse = 223581.70598771662\n",
      "# Estimators = 8     Train rmse = 62726.05609194828   Test rmse = 253729.29458254826\n",
      "# Estimators = 9     Train rmse = 58677.26321224798   Test rmse = 233084.73536470262\n",
      "# Estimators = 10     Train rmse = 56301.773738699354   Test rmse = 260932.73769529583\n",
      "# Estimators = 11     Train rmse = 51564.63064705665   Test rmse = 255853.42413280462\n",
      "# Estimators = 12     Train rmse = 48959.28508307044   Test rmse = 256316.35095175245\n",
      "# Estimators = 13     Train rmse = 46301.939394588684   Test rmse = 225268.01918521774\n",
      "# Estimators = 14     Train rmse = 43648.82180448298   Test rmse = 241281.28974220916\n",
      "# Estimators = 15     Train rmse = 40663.28568124253   Test rmse = 235312.99971400213\n",
      "# Estimators = 16     Train rmse = 38161.073969643716   Test rmse = 234100.64936930384\n",
      "# Estimators = 17     Train rmse = 35899.51815802572   Test rmse = 273379.16622998624\n",
      "# Estimators = 18     Train rmse = 33527.735415786374   Test rmse = 234554.187579007\n",
      "# Estimators = 19     Train rmse = 31877.61465273147   Test rmse = 223626.01646919444\n",
      "# Estimators = 20     Train rmse = 30528.196525036707   Test rmse = 226678.0088541411\n",
      "# Estimators = 21     Train rmse = 28730.270302139852   Test rmse = 265820.75511340005\n",
      "# Estimators = 22     Train rmse = 27244.688627136027   Test rmse = 236967.43868023192\n",
      "# Estimators = 23     Train rmse = 26304.842309663236   Test rmse = 237444.219988347\n",
      "# Estimators = 24     Train rmse = 25623.612314687318   Test rmse = 226861.77721998698\n",
      "# Estimators = 25     Train rmse = 24158.81162865088   Test rmse = 256737.09804032234\n",
      "# Estimators = 26     Train rmse = 22886.779613023104   Test rmse = 227064.57132867418\n",
      "# Estimators = 27     Train rmse = 21143.419488837048   Test rmse = 249338.95482899682\n",
      "# Estimators = 28     Train rmse = 20191.264136959213   Test rmse = 225755.943684855\n",
      "# Estimators = 29     Train rmse = 19461.465194981447   Test rmse = 229269.91996612333\n"
     ]
    }
   ],
   "source": [
    "# Selecting the number of estimators\n",
    "for x in range(1,30):\n",
    "    gb_reg = GradientBoostingRegressor(max_depth=3, n_estimators=x, learning_rate=1.0) \n",
    "    gb_reg.fit(train_x, train_target)\n",
    "    \n",
    "    train_pred = gb_reg.predict(train_x)\n",
    "    test_pred = gb_reg.predict(test_x)\n",
    "    \n",
    "    train_rmse = np.sqrt(mean_squared_error(train_target, train_pred))\n",
    "    test_rmse = np.sqrt(mean_squared_error(test_target, test_pred))\n",
    "    \n",
    "    print('# Estimators = {}'.format(x) + \"     \" + 'Train rmse = {}'.format(train_rmse) + \"   \"\n",
    "         'Test rmse = {}'.format(test_rmse))"
   ]
  },
  {
   "cell_type": "code",
   "execution_count": 310,
   "metadata": {},
   "outputs": [
    {
     "name": "stdout",
     "output_type": "stream",
     "text": [
      "      Iter       Train Loss   Remaining Time \n",
      "         1 19789147504.5983           10.22s\n",
      "         2 15288644543.0339           10.03s\n",
      "         3 11434189694.8943            9.65s\n",
      "         4 10495032577.1999            9.52s\n",
      "         5  9510168765.0698            9.51s\n",
      "         6  8706717712.8772            9.36s\n"
     ]
    },
    {
     "data": {
      "text/html": [
       "<style>#sk-container-id-67 {color: black;}#sk-container-id-67 pre{padding: 0;}#sk-container-id-67 div.sk-toggleable {background-color: white;}#sk-container-id-67 label.sk-toggleable__label {cursor: pointer;display: block;width: 100%;margin-bottom: 0;padding: 0.3em;box-sizing: border-box;text-align: center;}#sk-container-id-67 label.sk-toggleable__label-arrow:before {content: \"▸\";float: left;margin-right: 0.25em;color: #696969;}#sk-container-id-67 label.sk-toggleable__label-arrow:hover:before {color: black;}#sk-container-id-67 div.sk-estimator:hover label.sk-toggleable__label-arrow:before {color: black;}#sk-container-id-67 div.sk-toggleable__content {max-height: 0;max-width: 0;overflow: hidden;text-align: left;background-color: #f0f8ff;}#sk-container-id-67 div.sk-toggleable__content pre {margin: 0.2em;color: black;border-radius: 0.25em;background-color: #f0f8ff;}#sk-container-id-67 input.sk-toggleable__control:checked~div.sk-toggleable__content {max-height: 200px;max-width: 100%;overflow: auto;}#sk-container-id-67 input.sk-toggleable__control:checked~label.sk-toggleable__label-arrow:before {content: \"▾\";}#sk-container-id-67 div.sk-estimator input.sk-toggleable__control:checked~label.sk-toggleable__label {background-color: #d4ebff;}#sk-container-id-67 div.sk-label input.sk-toggleable__control:checked~label.sk-toggleable__label {background-color: #d4ebff;}#sk-container-id-67 input.sk-hidden--visually {border: 0;clip: rect(1px 1px 1px 1px);clip: rect(1px, 1px, 1px, 1px);height: 1px;margin: -1px;overflow: hidden;padding: 0;position: absolute;width: 1px;}#sk-container-id-67 div.sk-estimator {font-family: monospace;background-color: #f0f8ff;border: 1px dotted black;border-radius: 0.25em;box-sizing: border-box;margin-bottom: 0.5em;}#sk-container-id-67 div.sk-estimator:hover {background-color: #d4ebff;}#sk-container-id-67 div.sk-parallel-item::after {content: \"\";width: 100%;border-bottom: 1px solid gray;flex-grow: 1;}#sk-container-id-67 div.sk-label:hover label.sk-toggleable__label {background-color: #d4ebff;}#sk-container-id-67 div.sk-serial::before {content: \"\";position: absolute;border-left: 1px solid gray;box-sizing: border-box;top: 0;bottom: 0;left: 50%;z-index: 0;}#sk-container-id-67 div.sk-serial {display: flex;flex-direction: column;align-items: center;background-color: white;padding-right: 0.2em;padding-left: 0.2em;position: relative;}#sk-container-id-67 div.sk-item {position: relative;z-index: 1;}#sk-container-id-67 div.sk-parallel {display: flex;align-items: stretch;justify-content: center;background-color: white;position: relative;}#sk-container-id-67 div.sk-item::before, #sk-container-id-67 div.sk-parallel-item::before {content: \"\";position: absolute;border-left: 1px solid gray;box-sizing: border-box;top: 0;bottom: 0;left: 50%;z-index: -1;}#sk-container-id-67 div.sk-parallel-item {display: flex;flex-direction: column;z-index: 1;position: relative;background-color: white;}#sk-container-id-67 div.sk-parallel-item:first-child::after {align-self: flex-end;width: 50%;}#sk-container-id-67 div.sk-parallel-item:last-child::after {align-self: flex-start;width: 50%;}#sk-container-id-67 div.sk-parallel-item:only-child::after {width: 0;}#sk-container-id-67 div.sk-dashed-wrapped {border: 1px dashed gray;margin: 0 0.4em 0.5em 0.4em;box-sizing: border-box;padding-bottom: 0.4em;background-color: white;}#sk-container-id-67 div.sk-label label {font-family: monospace;font-weight: bold;display: inline-block;line-height: 1.2em;}#sk-container-id-67 div.sk-label-container {text-align: center;}#sk-container-id-67 div.sk-container {/* jupyter's `normalize.less` sets `[hidden] { display: none; }` but bootstrap.min.css set `[hidden] { display: none !important; }` so we also need the `!important` here to be able to override the default hidden behavior on the sphinx rendered scikit-learn.org. See: https://github.com/scikit-learn/scikit-learn/issues/21755 */display: inline-block !important;position: relative;}#sk-container-id-67 div.sk-text-repr-fallback {display: none;}</style><div id=\"sk-container-id-67\" class=\"sk-top-container\"><div class=\"sk-text-repr-fallback\"><pre>GradientBoostingRegressor(learning_rate=1, max_depth=2, n_iter_no_change=5,\n",
       "                          tol=0.1, validation_fraction=0.2, verbose=1)</pre><b>In a Jupyter environment, please rerun this cell to show the HTML representation or trust the notebook. <br />On GitHub, the HTML representation is unable to render, please try loading this page with nbviewer.org.</b></div><div class=\"sk-container\" hidden><div class=\"sk-item\"><div class=\"sk-estimator sk-toggleable\"><input class=\"sk-toggleable__control sk-hidden--visually\" id=\"sk-estimator-id-161\" type=\"checkbox\" checked><label for=\"sk-estimator-id-161\" class=\"sk-toggleable__label sk-toggleable__label-arrow\">GradientBoostingRegressor</label><div class=\"sk-toggleable__content\"><pre>GradientBoostingRegressor(learning_rate=1, max_depth=2, n_iter_no_change=5,\n",
       "                          tol=0.1, validation_fraction=0.2, verbose=1)</pre></div></div></div></div></div>"
      ],
      "text/plain": [
       "GradientBoostingRegressor(learning_rate=1, max_depth=2, n_iter_no_change=5,\n",
       "                          tol=0.1, validation_fraction=0.2, verbose=1)"
      ]
     },
     "execution_count": 310,
     "metadata": {},
     "output_type": "execute_result"
    }
   ],
   "source": [
    "# Early Stopping\n",
    "gb_reg = GradientBoostingRegressor(max_depth=2, n_estimators=100, \n",
    "                                   learning_rate=1, \n",
    "                                  tol=0.1, n_iter_no_change=5, validation_fraction=0.2,\n",
    "                                  verbose=1) \n",
    "\n",
    "gb_reg.fit(train_x, train_target)"
   ]
  },
  {
   "cell_type": "code",
   "execution_count": 311,
   "metadata": {},
   "outputs": [
    {
     "data": {
      "text/plain": [
       "6"
      ]
     },
     "execution_count": 311,
     "metadata": {},
     "output_type": "execute_result"
    }
   ],
   "source": [
    "gb_reg.n_estimators_"
   ]
  },
  {
   "cell_type": "code",
   "execution_count": 312,
   "metadata": {},
   "outputs": [
    {
     "name": "stdout",
     "output_type": "stream",
     "text": [
      "modified_GBR_Train RMSE: 158029.40260240863\n"
     ]
    }
   ],
   "source": [
    "#Train RMSE\n",
    "train_pred = gb_reg.predict(train_x)\n",
    "\n",
    "train_mse = mean_squared_error(train_target, train_pred)\n",
    "\n",
    "train_rmse = np.sqrt(train_mse)\n",
    "\n",
    "print('modified_GBR_Train RMSE: {}' .format(train_rmse))"
   ]
  },
  {
   "cell_type": "code",
   "execution_count": 313,
   "metadata": {},
   "outputs": [
    {
     "name": "stdout",
     "output_type": "stream",
     "text": [
      "modified_GBR_Test RMSE: 302305.79740425944\n"
     ]
    }
   ],
   "source": [
    "#Test RMSE\n",
    "test_pred = gb_reg.predict(test_x)\n",
    "\n",
    "test_mse = mean_squared_error(test_target, test_pred)\n",
    "\n",
    "test_rmse = np.sqrt(test_mse)\n",
    "\n",
    "print('modified_GBR_Test RMSE: {}' .format(test_rmse))"
   ]
  },
  {
   "cell_type": "markdown",
   "metadata": {},
   "source": [
    "While the test RMSE is still higher than the training RMSE, indicating some degree of overfitting, the gap between the two has narrowed considerably. This suggests that the modifications made to the model, have helped to reduce overfitting and improve generalization performance.eventhough further modifications are performed due to model complexity and small dataset i think we cannot remove the overfitting issue"
   ]
  },
  {
   "cell_type": "markdown",
   "metadata": {},
   "source": [
    "## Neural network: (1 point)"
   ]
  },
  {
   "cell_type": "code",
   "execution_count": 314,
   "metadata": {},
   "outputs": [
    {
     "name": "stderr",
     "output_type": "stream",
     "text": [
      "C:\\Users\\Phani\\anaconda3\\Lib\\site-packages\\sklearn\\neural_network\\_multilayer_perceptron.py:691: ConvergenceWarning: Stochastic Optimizer: Maximum iterations (1000) reached and the optimization hasn't converged yet.\n",
      "  warnings.warn(\n"
     ]
    },
    {
     "data": {
      "text/html": [
       "<style>#sk-container-id-68 {color: black;}#sk-container-id-68 pre{padding: 0;}#sk-container-id-68 div.sk-toggleable {background-color: white;}#sk-container-id-68 label.sk-toggleable__label {cursor: pointer;display: block;width: 100%;margin-bottom: 0;padding: 0.3em;box-sizing: border-box;text-align: center;}#sk-container-id-68 label.sk-toggleable__label-arrow:before {content: \"▸\";float: left;margin-right: 0.25em;color: #696969;}#sk-container-id-68 label.sk-toggleable__label-arrow:hover:before {color: black;}#sk-container-id-68 div.sk-estimator:hover label.sk-toggleable__label-arrow:before {color: black;}#sk-container-id-68 div.sk-toggleable__content {max-height: 0;max-width: 0;overflow: hidden;text-align: left;background-color: #f0f8ff;}#sk-container-id-68 div.sk-toggleable__content pre {margin: 0.2em;color: black;border-radius: 0.25em;background-color: #f0f8ff;}#sk-container-id-68 input.sk-toggleable__control:checked~div.sk-toggleable__content {max-height: 200px;max-width: 100%;overflow: auto;}#sk-container-id-68 input.sk-toggleable__control:checked~label.sk-toggleable__label-arrow:before {content: \"▾\";}#sk-container-id-68 div.sk-estimator input.sk-toggleable__control:checked~label.sk-toggleable__label {background-color: #d4ebff;}#sk-container-id-68 div.sk-label input.sk-toggleable__control:checked~label.sk-toggleable__label {background-color: #d4ebff;}#sk-container-id-68 input.sk-hidden--visually {border: 0;clip: rect(1px 1px 1px 1px);clip: rect(1px, 1px, 1px, 1px);height: 1px;margin: -1px;overflow: hidden;padding: 0;position: absolute;width: 1px;}#sk-container-id-68 div.sk-estimator {font-family: monospace;background-color: #f0f8ff;border: 1px dotted black;border-radius: 0.25em;box-sizing: border-box;margin-bottom: 0.5em;}#sk-container-id-68 div.sk-estimator:hover {background-color: #d4ebff;}#sk-container-id-68 div.sk-parallel-item::after {content: \"\";width: 100%;border-bottom: 1px solid gray;flex-grow: 1;}#sk-container-id-68 div.sk-label:hover label.sk-toggleable__label {background-color: #d4ebff;}#sk-container-id-68 div.sk-serial::before {content: \"\";position: absolute;border-left: 1px solid gray;box-sizing: border-box;top: 0;bottom: 0;left: 50%;z-index: 0;}#sk-container-id-68 div.sk-serial {display: flex;flex-direction: column;align-items: center;background-color: white;padding-right: 0.2em;padding-left: 0.2em;position: relative;}#sk-container-id-68 div.sk-item {position: relative;z-index: 1;}#sk-container-id-68 div.sk-parallel {display: flex;align-items: stretch;justify-content: center;background-color: white;position: relative;}#sk-container-id-68 div.sk-item::before, #sk-container-id-68 div.sk-parallel-item::before {content: \"\";position: absolute;border-left: 1px solid gray;box-sizing: border-box;top: 0;bottom: 0;left: 50%;z-index: -1;}#sk-container-id-68 div.sk-parallel-item {display: flex;flex-direction: column;z-index: 1;position: relative;background-color: white;}#sk-container-id-68 div.sk-parallel-item:first-child::after {align-self: flex-end;width: 50%;}#sk-container-id-68 div.sk-parallel-item:last-child::after {align-self: flex-start;width: 50%;}#sk-container-id-68 div.sk-parallel-item:only-child::after {width: 0;}#sk-container-id-68 div.sk-dashed-wrapped {border: 1px dashed gray;margin: 0 0.4em 0.5em 0.4em;box-sizing: border-box;padding-bottom: 0.4em;background-color: white;}#sk-container-id-68 div.sk-label label {font-family: monospace;font-weight: bold;display: inline-block;line-height: 1.2em;}#sk-container-id-68 div.sk-label-container {text-align: center;}#sk-container-id-68 div.sk-container {/* jupyter's `normalize.less` sets `[hidden] { display: none; }` but bootstrap.min.css set `[hidden] { display: none !important; }` so we also need the `!important` here to be able to override the default hidden behavior on the sphinx rendered scikit-learn.org. See: https://github.com/scikit-learn/scikit-learn/issues/21755 */display: inline-block !important;position: relative;}#sk-container-id-68 div.sk-text-repr-fallback {display: none;}</style><div id=\"sk-container-id-68\" class=\"sk-top-container\"><div class=\"sk-text-repr-fallback\"><pre>MLPRegressor(max_iter=1000)</pre><b>In a Jupyter environment, please rerun this cell to show the HTML representation or trust the notebook. <br />On GitHub, the HTML representation is unable to render, please try loading this page with nbviewer.org.</b></div><div class=\"sk-container\" hidden><div class=\"sk-item\"><div class=\"sk-estimator sk-toggleable\"><input class=\"sk-toggleable__control sk-hidden--visually\" id=\"sk-estimator-id-162\" type=\"checkbox\" checked><label for=\"sk-estimator-id-162\" class=\"sk-toggleable__label sk-toggleable__label-arrow\">MLPRegressor</label><div class=\"sk-toggleable__content\"><pre>MLPRegressor(max_iter=1000)</pre></div></div></div></div></div>"
      ],
      "text/plain": [
       "MLPRegressor(max_iter=1000)"
      ]
     },
     "execution_count": 314,
     "metadata": {},
     "output_type": "execute_result"
    }
   ],
   "source": [
    "from sklearn.neural_network import MLPRegressor\n",
    "\n",
    "#Default settings create 1 hidden layer with 100 neurons\n",
    "mlp_reg = MLPRegressor(hidden_layer_sizes=(100,),max_iter=1000)\n",
    "\n",
    "mlp_reg.fit(train_x, train_target)"
   ]
  },
  {
   "cell_type": "code",
   "execution_count": 315,
   "metadata": {},
   "outputs": [
    {
     "name": "stdout",
     "output_type": "stream",
     "text": [
      "NN_Train RMSE: 339658.47208864306\n"
     ]
    }
   ],
   "source": [
    "#Train RMSE\n",
    "train_pred = mlp_reg.predict(train_x)\n",
    "\n",
    "train_mse = mean_squared_error(train_target, train_pred)\n",
    "\n",
    "train_rmse = np.sqrt(train_mse)\n",
    "\n",
    "print('NN_Train RMSE: {}' .format(train_rmse))"
   ]
  },
  {
   "cell_type": "code",
   "execution_count": 316,
   "metadata": {},
   "outputs": [
    {
     "name": "stdout",
     "output_type": "stream",
     "text": [
      "NN_Test RMSE: 329209.77730830753\n"
     ]
    }
   ],
   "source": [
    "#Test RMSE\n",
    "test_pred = mlp_reg.predict(test_x)\n",
    "\n",
    "test_mse = mean_squared_error(test_target, test_pred)\n",
    "\n",
    "test_rmse = np.sqrt(test_mse)\n",
    "\n",
    "print('NN_Test RMSE: {}' .format(test_rmse))"
   ]
  },
  {
   "cell_type": "markdown",
   "metadata": {},
   "source": [
    "### Is the model overfitting? Provide your answer below. If yes, please add more cells below and show how you corrected overfitting. If your model is overfitting and you don't correct it, you will lose points. (0.25 points)"
   ]
  },
  {
   "cell_type": "markdown",
   "metadata": {},
   "source": [
    "Based on these RMSE values alone, it does not appear that the model is overfitting. However, the high RMSE values for both training and test sets indicate that the model's predictions have a significant deviation from the actual target values, suggesting poor overall performance."
   ]
  },
  {
   "cell_type": "markdown",
   "metadata": {},
   "source": [
    "## Grid search (1 points)\n",
    "\n",
    "Perform either a full or randomized grid search on any model you want. There has to be at least two parameters for the search. "
   ]
  },
  {
   "cell_type": "code",
   "execution_count": 328,
   "metadata": {},
   "outputs": [
    {
     "name": "stdout",
     "output_type": "stream",
     "text": [
      "Fitting 3 folds for each of 5 candidates, totalling 15 fits\n"
     ]
    },
    {
     "name": "stderr",
     "output_type": "stream",
     "text": [
      "C:\\Users\\Phani\\anaconda3\\Lib\\site-packages\\sklearn\\neural_network\\_multilayer_perceptron.py:691: ConvergenceWarning: Stochastic Optimizer: Maximum iterations (750) reached and the optimization hasn't converged yet.\n",
      "  warnings.warn(\n",
      "C:\\Users\\Phani\\anaconda3\\Lib\\site-packages\\sklearn\\neural_network\\_multilayer_perceptron.py:691: ConvergenceWarning: Stochastic Optimizer: Maximum iterations (750) reached and the optimization hasn't converged yet.\n",
      "  warnings.warn(\n",
      "C:\\Users\\Phani\\anaconda3\\Lib\\site-packages\\sklearn\\neural_network\\_multilayer_perceptron.py:691: ConvergenceWarning: Stochastic Optimizer: Maximum iterations (750) reached and the optimization hasn't converged yet.\n",
      "  warnings.warn(\n",
      "C:\\Users\\Phani\\anaconda3\\Lib\\site-packages\\sklearn\\neural_network\\_multilayer_perceptron.py:691: ConvergenceWarning: Stochastic Optimizer: Maximum iterations (500) reached and the optimization hasn't converged yet.\n",
      "  warnings.warn(\n",
      "C:\\Users\\Phani\\anaconda3\\Lib\\site-packages\\sklearn\\neural_network\\_multilayer_perceptron.py:691: ConvergenceWarning: Stochastic Optimizer: Maximum iterations (500) reached and the optimization hasn't converged yet.\n",
      "  warnings.warn(\n",
      "C:\\Users\\Phani\\anaconda3\\Lib\\site-packages\\sklearn\\neural_network\\_multilayer_perceptron.py:691: ConvergenceWarning: Stochastic Optimizer: Maximum iterations (500) reached and the optimization hasn't converged yet.\n",
      "  warnings.warn(\n",
      "C:\\Users\\Phani\\anaconda3\\Lib\\site-packages\\sklearn\\neural_network\\_multilayer_perceptron.py:691: ConvergenceWarning: Stochastic Optimizer: Maximum iterations (500) reached and the optimization hasn't converged yet.\n",
      "  warnings.warn(\n",
      "C:\\Users\\Phani\\anaconda3\\Lib\\site-packages\\sklearn\\neural_network\\_multilayer_perceptron.py:691: ConvergenceWarning: Stochastic Optimizer: Maximum iterations (500) reached and the optimization hasn't converged yet.\n",
      "  warnings.warn(\n",
      "C:\\Users\\Phani\\anaconda3\\Lib\\site-packages\\sklearn\\neural_network\\_multilayer_perceptron.py:691: ConvergenceWarning: Stochastic Optimizer: Maximum iterations (500) reached and the optimization hasn't converged yet.\n",
      "  warnings.warn(\n",
      "C:\\Users\\Phani\\anaconda3\\Lib\\site-packages\\sklearn\\neural_network\\_multilayer_perceptron.py:691: ConvergenceWarning: Stochastic Optimizer: Maximum iterations (750) reached and the optimization hasn't converged yet.\n",
      "  warnings.warn(\n",
      "C:\\Users\\Phani\\anaconda3\\Lib\\site-packages\\sklearn\\neural_network\\_multilayer_perceptron.py:691: ConvergenceWarning: Stochastic Optimizer: Maximum iterations (750) reached and the optimization hasn't converged yet.\n",
      "  warnings.warn(\n",
      "C:\\Users\\Phani\\anaconda3\\Lib\\site-packages\\sklearn\\neural_network\\_multilayer_perceptron.py:691: ConvergenceWarning: Stochastic Optimizer: Maximum iterations (750) reached and the optimization hasn't converged yet.\n",
      "  warnings.warn(\n",
      "C:\\Users\\Phani\\anaconda3\\Lib\\site-packages\\sklearn\\neural_network\\_multilayer_perceptron.py:691: ConvergenceWarning: Stochastic Optimizer: Maximum iterations (750) reached and the optimization hasn't converged yet.\n",
      "  warnings.warn(\n",
      "C:\\Users\\Phani\\anaconda3\\Lib\\site-packages\\sklearn\\neural_network\\_multilayer_perceptron.py:691: ConvergenceWarning: Stochastic Optimizer: Maximum iterations (750) reached and the optimization hasn't converged yet.\n",
      "  warnings.warn(\n",
      "C:\\Users\\Phani\\anaconda3\\Lib\\site-packages\\sklearn\\neural_network\\_multilayer_perceptron.py:691: ConvergenceWarning: Stochastic Optimizer: Maximum iterations (750) reached and the optimization hasn't converged yet.\n",
      "  warnings.warn(\n",
      "C:\\Users\\Phani\\anaconda3\\Lib\\site-packages\\sklearn\\neural_network\\_multilayer_perceptron.py:691: ConvergenceWarning: Stochastic Optimizer: Maximum iterations (500) reached and the optimization hasn't converged yet.\n",
      "  warnings.warn(\n"
     ]
    },
    {
     "data": {
      "text/html": [
       "<style>#sk-container-id-73 {color: black;}#sk-container-id-73 pre{padding: 0;}#sk-container-id-73 div.sk-toggleable {background-color: white;}#sk-container-id-73 label.sk-toggleable__label {cursor: pointer;display: block;width: 100%;margin-bottom: 0;padding: 0.3em;box-sizing: border-box;text-align: center;}#sk-container-id-73 label.sk-toggleable__label-arrow:before {content: \"▸\";float: left;margin-right: 0.25em;color: #696969;}#sk-container-id-73 label.sk-toggleable__label-arrow:hover:before {color: black;}#sk-container-id-73 div.sk-estimator:hover label.sk-toggleable__label-arrow:before {color: black;}#sk-container-id-73 div.sk-toggleable__content {max-height: 0;max-width: 0;overflow: hidden;text-align: left;background-color: #f0f8ff;}#sk-container-id-73 div.sk-toggleable__content pre {margin: 0.2em;color: black;border-radius: 0.25em;background-color: #f0f8ff;}#sk-container-id-73 input.sk-toggleable__control:checked~div.sk-toggleable__content {max-height: 200px;max-width: 100%;overflow: auto;}#sk-container-id-73 input.sk-toggleable__control:checked~label.sk-toggleable__label-arrow:before {content: \"▾\";}#sk-container-id-73 div.sk-estimator input.sk-toggleable__control:checked~label.sk-toggleable__label {background-color: #d4ebff;}#sk-container-id-73 div.sk-label input.sk-toggleable__control:checked~label.sk-toggleable__label {background-color: #d4ebff;}#sk-container-id-73 input.sk-hidden--visually {border: 0;clip: rect(1px 1px 1px 1px);clip: rect(1px, 1px, 1px, 1px);height: 1px;margin: -1px;overflow: hidden;padding: 0;position: absolute;width: 1px;}#sk-container-id-73 div.sk-estimator {font-family: monospace;background-color: #f0f8ff;border: 1px dotted black;border-radius: 0.25em;box-sizing: border-box;margin-bottom: 0.5em;}#sk-container-id-73 div.sk-estimator:hover {background-color: #d4ebff;}#sk-container-id-73 div.sk-parallel-item::after {content: \"\";width: 100%;border-bottom: 1px solid gray;flex-grow: 1;}#sk-container-id-73 div.sk-label:hover label.sk-toggleable__label {background-color: #d4ebff;}#sk-container-id-73 div.sk-serial::before {content: \"\";position: absolute;border-left: 1px solid gray;box-sizing: border-box;top: 0;bottom: 0;left: 50%;z-index: 0;}#sk-container-id-73 div.sk-serial {display: flex;flex-direction: column;align-items: center;background-color: white;padding-right: 0.2em;padding-left: 0.2em;position: relative;}#sk-container-id-73 div.sk-item {position: relative;z-index: 1;}#sk-container-id-73 div.sk-parallel {display: flex;align-items: stretch;justify-content: center;background-color: white;position: relative;}#sk-container-id-73 div.sk-item::before, #sk-container-id-73 div.sk-parallel-item::before {content: \"\";position: absolute;border-left: 1px solid gray;box-sizing: border-box;top: 0;bottom: 0;left: 50%;z-index: -1;}#sk-container-id-73 div.sk-parallel-item {display: flex;flex-direction: column;z-index: 1;position: relative;background-color: white;}#sk-container-id-73 div.sk-parallel-item:first-child::after {align-self: flex-end;width: 50%;}#sk-container-id-73 div.sk-parallel-item:last-child::after {align-self: flex-start;width: 50%;}#sk-container-id-73 div.sk-parallel-item:only-child::after {width: 0;}#sk-container-id-73 div.sk-dashed-wrapped {border: 1px dashed gray;margin: 0 0.4em 0.5em 0.4em;box-sizing: border-box;padding-bottom: 0.4em;background-color: white;}#sk-container-id-73 div.sk-label label {font-family: monospace;font-weight: bold;display: inline-block;line-height: 1.2em;}#sk-container-id-73 div.sk-label-container {text-align: center;}#sk-container-id-73 div.sk-container {/* jupyter's `normalize.less` sets `[hidden] { display: none; }` but bootstrap.min.css set `[hidden] { display: none !important; }` so we also need the `!important` here to be able to override the default hidden behavior on the sphinx rendered scikit-learn.org. See: https://github.com/scikit-learn/scikit-learn/issues/21755 */display: inline-block !important;position: relative;}#sk-container-id-73 div.sk-text-repr-fallback {display: none;}</style><div id=\"sk-container-id-73\" class=\"sk-top-container\"><div class=\"sk-text-repr-fallback\"><pre>RandomizedSearchCV(cv=3, estimator=MLPRegressor(), n_iter=5,\n",
       "                   param_distributions=[{&#x27;alpha&#x27;: [0.01, 0.05, 0.1],\n",
       "                                         &#x27;hidden_layer_sizes&#x27;: [(50, 25, 10),\n",
       "                                                                (75, 50, 25,\n",
       "                                                                 10),\n",
       "                                                                (100, 75, 50,\n",
       "                                                                 25, 10)],\n",
       "                                         &#x27;max_iter&#x27;: [500, 750, 1000]}],\n",
       "                   return_train_score=True, scoring=&#x27;neg_mean_squared_error&#x27;,\n",
       "                   verbose=1)</pre><b>In a Jupyter environment, please rerun this cell to show the HTML representation or trust the notebook. <br />On GitHub, the HTML representation is unable to render, please try loading this page with nbviewer.org.</b></div><div class=\"sk-container\" hidden><div class=\"sk-item sk-dashed-wrapped\"><div class=\"sk-label-container\"><div class=\"sk-label sk-toggleable\"><input class=\"sk-toggleable__control sk-hidden--visually\" id=\"sk-estimator-id-171\" type=\"checkbox\" ><label for=\"sk-estimator-id-171\" class=\"sk-toggleable__label sk-toggleable__label-arrow\">RandomizedSearchCV</label><div class=\"sk-toggleable__content\"><pre>RandomizedSearchCV(cv=3, estimator=MLPRegressor(), n_iter=5,\n",
       "                   param_distributions=[{&#x27;alpha&#x27;: [0.01, 0.05, 0.1],\n",
       "                                         &#x27;hidden_layer_sizes&#x27;: [(50, 25, 10),\n",
       "                                                                (75, 50, 25,\n",
       "                                                                 10),\n",
       "                                                                (100, 75, 50,\n",
       "                                                                 25, 10)],\n",
       "                                         &#x27;max_iter&#x27;: [500, 750, 1000]}],\n",
       "                   return_train_score=True, scoring=&#x27;neg_mean_squared_error&#x27;,\n",
       "                   verbose=1)</pre></div></div></div><div class=\"sk-parallel\"><div class=\"sk-parallel-item\"><div class=\"sk-item\"><div class=\"sk-label-container\"><div class=\"sk-label sk-toggleable\"><input class=\"sk-toggleable__control sk-hidden--visually\" id=\"sk-estimator-id-172\" type=\"checkbox\" ><label for=\"sk-estimator-id-172\" class=\"sk-toggleable__label sk-toggleable__label-arrow\">estimator: MLPRegressor</label><div class=\"sk-toggleable__content\"><pre>MLPRegressor()</pre></div></div></div><div class=\"sk-serial\"><div class=\"sk-item\"><div class=\"sk-estimator sk-toggleable\"><input class=\"sk-toggleable__control sk-hidden--visually\" id=\"sk-estimator-id-173\" type=\"checkbox\" ><label for=\"sk-estimator-id-173\" class=\"sk-toggleable__label sk-toggleable__label-arrow\">MLPRegressor</label><div class=\"sk-toggleable__content\"><pre>MLPRegressor()</pre></div></div></div></div></div></div></div></div></div></div>"
      ],
      "text/plain": [
       "RandomizedSearchCV(cv=3, estimator=MLPRegressor(), n_iter=5,\n",
       "                   param_distributions=[{'alpha': [0.01, 0.05, 0.1],\n",
       "                                         'hidden_layer_sizes': [(50, 25, 10),\n",
       "                                                                (75, 50, 25,\n",
       "                                                                 10),\n",
       "                                                                (100, 75, 50,\n",
       "                                                                 25, 10)],\n",
       "                                         'max_iter': [500, 750, 1000]}],\n",
       "                   return_train_score=True, scoring='neg_mean_squared_error',\n",
       "                   verbose=1)"
      ]
     },
     "execution_count": 328,
     "metadata": {},
     "output_type": "execute_result"
    }
   ],
   "source": [
    "from sklearn.model_selection import RandomizedSearchCV\n",
    "\n",
    "param_grid = [\n",
    "    {'hidden_layer_sizes': [(50,25,10),(75,50,25,10),(100,75,50,25,10)],\n",
    "     'alpha': [0.01,0.05,0.10],\n",
    "     'max_iter': [500,750,1000]}]\n",
    "\n",
    "dnn_reg = MLPRegressor()\n",
    "\n",
    "grid_search = RandomizedSearchCV(dnn_reg, param_grid, cv=3, n_iter=5,\n",
    "                           scoring='neg_mean_squared_error', verbose=1,\n",
    "                           return_train_score=True)\n",
    "\n",
    "grid_search.fit(train_x, train_target)"
   ]
  },
  {
   "cell_type": "code",
   "execution_count": 329,
   "metadata": {},
   "outputs": [
    {
     "name": "stdout",
     "output_type": "stream",
     "text": [
      "210675.2893235496 {'max_iter': 750, 'hidden_layer_sizes': (50, 25, 10), 'alpha': 0.1}\n",
      "195638.24654420023 {'max_iter': 500, 'hidden_layer_sizes': (100, 75, 50, 25, 10), 'alpha': 0.1}\n",
      "193444.9672960027 {'max_iter': 500, 'hidden_layer_sizes': (100, 75, 50, 25, 10), 'alpha': 0.05}\n",
      "206523.98300014247 {'max_iter': 750, 'hidden_layer_sizes': (50, 25, 10), 'alpha': 0.05}\n",
      "197917.6280520027 {'max_iter': 750, 'hidden_layer_sizes': (75, 50, 25, 10), 'alpha': 0.01}\n"
     ]
    }
   ],
   "source": [
    "cvres = grid_search.cv_results_\n",
    "\n",
    "for mean_score, params in zip(cvres[\"mean_test_score\"], cvres[\"params\"]):\n",
    "    print(np.sqrt(-mean_score), params)"
   ]
  },
  {
   "cell_type": "code",
   "execution_count": 330,
   "metadata": {},
   "outputs": [
    {
     "data": {
      "text/html": [
       "<style>#sk-container-id-74 {color: black;}#sk-container-id-74 pre{padding: 0;}#sk-container-id-74 div.sk-toggleable {background-color: white;}#sk-container-id-74 label.sk-toggleable__label {cursor: pointer;display: block;width: 100%;margin-bottom: 0;padding: 0.3em;box-sizing: border-box;text-align: center;}#sk-container-id-74 label.sk-toggleable__label-arrow:before {content: \"▸\";float: left;margin-right: 0.25em;color: #696969;}#sk-container-id-74 label.sk-toggleable__label-arrow:hover:before {color: black;}#sk-container-id-74 div.sk-estimator:hover label.sk-toggleable__label-arrow:before {color: black;}#sk-container-id-74 div.sk-toggleable__content {max-height: 0;max-width: 0;overflow: hidden;text-align: left;background-color: #f0f8ff;}#sk-container-id-74 div.sk-toggleable__content pre {margin: 0.2em;color: black;border-radius: 0.25em;background-color: #f0f8ff;}#sk-container-id-74 input.sk-toggleable__control:checked~div.sk-toggleable__content {max-height: 200px;max-width: 100%;overflow: auto;}#sk-container-id-74 input.sk-toggleable__control:checked~label.sk-toggleable__label-arrow:before {content: \"▾\";}#sk-container-id-74 div.sk-estimator input.sk-toggleable__control:checked~label.sk-toggleable__label {background-color: #d4ebff;}#sk-container-id-74 div.sk-label input.sk-toggleable__control:checked~label.sk-toggleable__label {background-color: #d4ebff;}#sk-container-id-74 input.sk-hidden--visually {border: 0;clip: rect(1px 1px 1px 1px);clip: rect(1px, 1px, 1px, 1px);height: 1px;margin: -1px;overflow: hidden;padding: 0;position: absolute;width: 1px;}#sk-container-id-74 div.sk-estimator {font-family: monospace;background-color: #f0f8ff;border: 1px dotted black;border-radius: 0.25em;box-sizing: border-box;margin-bottom: 0.5em;}#sk-container-id-74 div.sk-estimator:hover {background-color: #d4ebff;}#sk-container-id-74 div.sk-parallel-item::after {content: \"\";width: 100%;border-bottom: 1px solid gray;flex-grow: 1;}#sk-container-id-74 div.sk-label:hover label.sk-toggleable__label {background-color: #d4ebff;}#sk-container-id-74 div.sk-serial::before {content: \"\";position: absolute;border-left: 1px solid gray;box-sizing: border-box;top: 0;bottom: 0;left: 50%;z-index: 0;}#sk-container-id-74 div.sk-serial {display: flex;flex-direction: column;align-items: center;background-color: white;padding-right: 0.2em;padding-left: 0.2em;position: relative;}#sk-container-id-74 div.sk-item {position: relative;z-index: 1;}#sk-container-id-74 div.sk-parallel {display: flex;align-items: stretch;justify-content: center;background-color: white;position: relative;}#sk-container-id-74 div.sk-item::before, #sk-container-id-74 div.sk-parallel-item::before {content: \"\";position: absolute;border-left: 1px solid gray;box-sizing: border-box;top: 0;bottom: 0;left: 50%;z-index: -1;}#sk-container-id-74 div.sk-parallel-item {display: flex;flex-direction: column;z-index: 1;position: relative;background-color: white;}#sk-container-id-74 div.sk-parallel-item:first-child::after {align-self: flex-end;width: 50%;}#sk-container-id-74 div.sk-parallel-item:last-child::after {align-self: flex-start;width: 50%;}#sk-container-id-74 div.sk-parallel-item:only-child::after {width: 0;}#sk-container-id-74 div.sk-dashed-wrapped {border: 1px dashed gray;margin: 0 0.4em 0.5em 0.4em;box-sizing: border-box;padding-bottom: 0.4em;background-color: white;}#sk-container-id-74 div.sk-label label {font-family: monospace;font-weight: bold;display: inline-block;line-height: 1.2em;}#sk-container-id-74 div.sk-label-container {text-align: center;}#sk-container-id-74 div.sk-container {/* jupyter's `normalize.less` sets `[hidden] { display: none; }` but bootstrap.min.css set `[hidden] { display: none !important; }` so we also need the `!important` here to be able to override the default hidden behavior on the sphinx rendered scikit-learn.org. See: https://github.com/scikit-learn/scikit-learn/issues/21755 */display: inline-block !important;position: relative;}#sk-container-id-74 div.sk-text-repr-fallback {display: none;}</style><div id=\"sk-container-id-74\" class=\"sk-top-container\"><div class=\"sk-text-repr-fallback\"><pre>MLPRegressor(alpha=0.05, hidden_layer_sizes=(100, 75, 50, 25, 10), max_iter=500)</pre><b>In a Jupyter environment, please rerun this cell to show the HTML representation or trust the notebook. <br />On GitHub, the HTML representation is unable to render, please try loading this page with nbviewer.org.</b></div><div class=\"sk-container\" hidden><div class=\"sk-item\"><div class=\"sk-estimator sk-toggleable\"><input class=\"sk-toggleable__control sk-hidden--visually\" id=\"sk-estimator-id-174\" type=\"checkbox\" checked><label for=\"sk-estimator-id-174\" class=\"sk-toggleable__label sk-toggleable__label-arrow\">MLPRegressor</label><div class=\"sk-toggleable__content\"><pre>MLPRegressor(alpha=0.05, hidden_layer_sizes=(100, 75, 50, 25, 10), max_iter=500)</pre></div></div></div></div></div>"
      ],
      "text/plain": [
       "MLPRegressor(alpha=0.05, hidden_layer_sizes=(100, 75, 50, 25, 10), max_iter=500)"
      ]
     },
     "execution_count": 330,
     "metadata": {},
     "output_type": "execute_result"
    }
   ],
   "source": [
    "grid_search.best_estimator_"
   ]
  },
  {
   "cell_type": "code",
   "execution_count": 338,
   "metadata": {},
   "outputs": [
    {
     "name": "stdout",
     "output_type": "stream",
     "text": [
      "NN_Random_search_Train RMSE: 5763.080455402821\n"
     ]
    }
   ],
   "source": [
    "#Train RMSE\n",
    "train_pred = grid_search.best_estimator_.predict(train_x)\n",
    "\n",
    "train_mse = mean_squared_error(train_target, train_pred)\n",
    "\n",
    "train_rmse = np.sqrt(train_mse)\n",
    "\n",
    "print('NN_Random_search_Train RMSE: {}' .format(train_rmse))"
   ]
  },
  {
   "cell_type": "code",
   "execution_count": 339,
   "metadata": {},
   "outputs": [
    {
     "name": "stdout",
     "output_type": "stream",
     "text": [
      "NN_Random_search_Test RMSE: 160047.6136512824\n"
     ]
    }
   ],
   "source": [
    "#Test RMSE\n",
    "test_pred = grid_search.best_estimator_.predict(test_x)\n",
    "\n",
    "test_mse = mean_squared_error(test_target, test_pred)\n",
    "\n",
    "test_rmse = np.sqrt(test_mse)\n",
    "\n",
    "print('NN_Random_search_Test RMSE: {}' .format(test_rmse))"
   ]
  },
  {
   "cell_type": "markdown",
   "metadata": {},
   "source": [
    "Based on the substantial gap between the low training RMSE and high test RMSE, there are clear signs that this model is overfitting to the training data."
   ]
  },
  {
   "cell_type": "markdown",
   "metadata": {},
   "source": [
    "### Is the model overfitting? Provide your answer below. If yes, please add more cells below and show how you corrected overfitting. If your model is overfitting and you don't correct it, you will lose points. (0.25 points)"
   ]
  },
  {
   "cell_type": "code",
   "execution_count": null,
   "metadata": {},
   "outputs": [],
   "source": []
  },
  {
   "cell_type": "code",
   "execution_count": 340,
   "metadata": {},
   "outputs": [
    {
     "name": "stdout",
     "output_type": "stream",
     "text": [
      "Fitting 5 folds for each of 5 candidates, totalling 25 fits\n"
     ]
    },
    {
     "name": "stderr",
     "output_type": "stream",
     "text": [
      "C:\\Users\\Phani\\anaconda3\\Lib\\site-packages\\sklearn\\neural_network\\_multilayer_perceptron.py:691: ConvergenceWarning: Stochastic Optimizer: Maximum iterations (1206) reached and the optimization hasn't converged yet.\n",
      "  warnings.warn(\n"
     ]
    },
    {
     "data": {
      "text/html": [
       "<style>#sk-container-id-77 {color: black;}#sk-container-id-77 pre{padding: 0;}#sk-container-id-77 div.sk-toggleable {background-color: white;}#sk-container-id-77 label.sk-toggleable__label {cursor: pointer;display: block;width: 100%;margin-bottom: 0;padding: 0.3em;box-sizing: border-box;text-align: center;}#sk-container-id-77 label.sk-toggleable__label-arrow:before {content: \"▸\";float: left;margin-right: 0.25em;color: #696969;}#sk-container-id-77 label.sk-toggleable__label-arrow:hover:before {color: black;}#sk-container-id-77 div.sk-estimator:hover label.sk-toggleable__label-arrow:before {color: black;}#sk-container-id-77 div.sk-toggleable__content {max-height: 0;max-width: 0;overflow: hidden;text-align: left;background-color: #f0f8ff;}#sk-container-id-77 div.sk-toggleable__content pre {margin: 0.2em;color: black;border-radius: 0.25em;background-color: #f0f8ff;}#sk-container-id-77 input.sk-toggleable__control:checked~div.sk-toggleable__content {max-height: 200px;max-width: 100%;overflow: auto;}#sk-container-id-77 input.sk-toggleable__control:checked~label.sk-toggleable__label-arrow:before {content: \"▾\";}#sk-container-id-77 div.sk-estimator input.sk-toggleable__control:checked~label.sk-toggleable__label {background-color: #d4ebff;}#sk-container-id-77 div.sk-label input.sk-toggleable__control:checked~label.sk-toggleable__label {background-color: #d4ebff;}#sk-container-id-77 input.sk-hidden--visually {border: 0;clip: rect(1px 1px 1px 1px);clip: rect(1px, 1px, 1px, 1px);height: 1px;margin: -1px;overflow: hidden;padding: 0;position: absolute;width: 1px;}#sk-container-id-77 div.sk-estimator {font-family: monospace;background-color: #f0f8ff;border: 1px dotted black;border-radius: 0.25em;box-sizing: border-box;margin-bottom: 0.5em;}#sk-container-id-77 div.sk-estimator:hover {background-color: #d4ebff;}#sk-container-id-77 div.sk-parallel-item::after {content: \"\";width: 100%;border-bottom: 1px solid gray;flex-grow: 1;}#sk-container-id-77 div.sk-label:hover label.sk-toggleable__label {background-color: #d4ebff;}#sk-container-id-77 div.sk-serial::before {content: \"\";position: absolute;border-left: 1px solid gray;box-sizing: border-box;top: 0;bottom: 0;left: 50%;z-index: 0;}#sk-container-id-77 div.sk-serial {display: flex;flex-direction: column;align-items: center;background-color: white;padding-right: 0.2em;padding-left: 0.2em;position: relative;}#sk-container-id-77 div.sk-item {position: relative;z-index: 1;}#sk-container-id-77 div.sk-parallel {display: flex;align-items: stretch;justify-content: center;background-color: white;position: relative;}#sk-container-id-77 div.sk-item::before, #sk-container-id-77 div.sk-parallel-item::before {content: \"\";position: absolute;border-left: 1px solid gray;box-sizing: border-box;top: 0;bottom: 0;left: 50%;z-index: -1;}#sk-container-id-77 div.sk-parallel-item {display: flex;flex-direction: column;z-index: 1;position: relative;background-color: white;}#sk-container-id-77 div.sk-parallel-item:first-child::after {align-self: flex-end;width: 50%;}#sk-container-id-77 div.sk-parallel-item:last-child::after {align-self: flex-start;width: 50%;}#sk-container-id-77 div.sk-parallel-item:only-child::after {width: 0;}#sk-container-id-77 div.sk-dashed-wrapped {border: 1px dashed gray;margin: 0 0.4em 0.5em 0.4em;box-sizing: border-box;padding-bottom: 0.4em;background-color: white;}#sk-container-id-77 div.sk-label label {font-family: monospace;font-weight: bold;display: inline-block;line-height: 1.2em;}#sk-container-id-77 div.sk-label-container {text-align: center;}#sk-container-id-77 div.sk-container {/* jupyter's `normalize.less` sets `[hidden] { display: none; }` but bootstrap.min.css set `[hidden] { display: none !important; }` so we also need the `!important` here to be able to override the default hidden behavior on the sphinx rendered scikit-learn.org. See: https://github.com/scikit-learn/scikit-learn/issues/21755 */display: inline-block !important;position: relative;}#sk-container-id-77 div.sk-text-repr-fallback {display: none;}</style><div id=\"sk-container-id-77\" class=\"sk-top-container\"><div class=\"sk-text-repr-fallback\"><pre>RandomizedSearchCV(cv=5, estimator=MLPRegressor(), n_iter=5,\n",
       "                   param_distributions=[{&#x27;alpha&#x27;: array([0.01]),\n",
       "                                         &#x27;hidden_layer_sizes&#x27;: [(50, 25, 10),\n",
       "                                                                (75, 50, 25,\n",
       "                                                                 10),\n",
       "                                                                (100, 75, 50,\n",
       "                                                                 25, 10),\n",
       "                                                                (125, 100, 75,\n",
       "                                                                 50, 25, 10)],\n",
       "                                         &#x27;max_iter&#x27;: array([1000, 1001, 1002, ..., 9997, 9998, 9999])}],\n",
       "                   return_train_score=True, scoring=&#x27;neg_mean_squared_error&#x27;,\n",
       "                   verbose=1)</pre><b>In a Jupyter environment, please rerun this cell to show the HTML representation or trust the notebook. <br />On GitHub, the HTML representation is unable to render, please try loading this page with nbviewer.org.</b></div><div class=\"sk-container\" hidden><div class=\"sk-item sk-dashed-wrapped\"><div class=\"sk-label-container\"><div class=\"sk-label sk-toggleable\"><input class=\"sk-toggleable__control sk-hidden--visually\" id=\"sk-estimator-id-179\" type=\"checkbox\" ><label for=\"sk-estimator-id-179\" class=\"sk-toggleable__label sk-toggleable__label-arrow\">RandomizedSearchCV</label><div class=\"sk-toggleable__content\"><pre>RandomizedSearchCV(cv=5, estimator=MLPRegressor(), n_iter=5,\n",
       "                   param_distributions=[{&#x27;alpha&#x27;: array([0.01]),\n",
       "                                         &#x27;hidden_layer_sizes&#x27;: [(50, 25, 10),\n",
       "                                                                (75, 50, 25,\n",
       "                                                                 10),\n",
       "                                                                (100, 75, 50,\n",
       "                                                                 25, 10),\n",
       "                                                                (125, 100, 75,\n",
       "                                                                 50, 25, 10)],\n",
       "                                         &#x27;max_iter&#x27;: array([1000, 1001, 1002, ..., 9997, 9998, 9999])}],\n",
       "                   return_train_score=True, scoring=&#x27;neg_mean_squared_error&#x27;,\n",
       "                   verbose=1)</pre></div></div></div><div class=\"sk-parallel\"><div class=\"sk-parallel-item\"><div class=\"sk-item\"><div class=\"sk-label-container\"><div class=\"sk-label sk-toggleable\"><input class=\"sk-toggleable__control sk-hidden--visually\" id=\"sk-estimator-id-180\" type=\"checkbox\" ><label for=\"sk-estimator-id-180\" class=\"sk-toggleable__label sk-toggleable__label-arrow\">estimator: MLPRegressor</label><div class=\"sk-toggleable__content\"><pre>MLPRegressor()</pre></div></div></div><div class=\"sk-serial\"><div class=\"sk-item\"><div class=\"sk-estimator sk-toggleable\"><input class=\"sk-toggleable__control sk-hidden--visually\" id=\"sk-estimator-id-181\" type=\"checkbox\" ><label for=\"sk-estimator-id-181\" class=\"sk-toggleable__label sk-toggleable__label-arrow\">MLPRegressor</label><div class=\"sk-toggleable__content\"><pre>MLPRegressor()</pre></div></div></div></div></div></div></div></div></div></div>"
      ],
      "text/plain": [
       "RandomizedSearchCV(cv=5, estimator=MLPRegressor(), n_iter=5,\n",
       "                   param_distributions=[{'alpha': array([0.01]),\n",
       "                                         'hidden_layer_sizes': [(50, 25, 10),\n",
       "                                                                (75, 50, 25,\n",
       "                                                                 10),\n",
       "                                                                (100, 75, 50,\n",
       "                                                                 25, 10),\n",
       "                                                                (125, 100, 75,\n",
       "                                                                 50, 25, 10)],\n",
       "                                         'max_iter': array([1000, 1001, 1002, ..., 9997, 9998, 9999])}],\n",
       "                   return_train_score=True, scoring='neg_mean_squared_error',\n",
       "                   verbose=1)"
      ]
     },
     "execution_count": 340,
     "metadata": {},
     "output_type": "execute_result"
    }
   ],
   "source": [
    "from sklearn.model_selection import RandomizedSearchCV\n",
    "\n",
    "param_grid = [\n",
    "    {'hidden_layer_sizes': [(50,25,10),(75,50,25,10),(100,75,50,25,10),(125,100,75,50,25,10)], \n",
    "     'alpha': np.arange(0.01,1),\n",
    "     'max_iter': np.arange(1000,10000)}\n",
    "  ]\n",
    "\n",
    "dnn_reg = MLPRegressor()\n",
    "\n",
    "grid_search = RandomizedSearchCV(dnn_reg, param_grid, cv=5, n_iter=5,\n",
    "                           scoring='neg_mean_squared_error', verbose=1,\n",
    "                           return_train_score=True)\n",
    "\n",
    "grid_search.fit(train_x, train_target)"
   ]
  },
  {
   "cell_type": "code",
   "execution_count": 341,
   "metadata": {},
   "outputs": [
    {
     "name": "stdout",
     "output_type": "stream",
     "text": [
      "168020.60499542343 {'max_iter': 2183, 'hidden_layer_sizes': (100, 75, 50, 25, 10), 'alpha': 0.01}\n",
      "173235.4019946772 {'max_iter': 9460, 'hidden_layer_sizes': (75, 50, 25, 10), 'alpha': 0.01}\n",
      "170713.5754717724 {'max_iter': 1206, 'hidden_layer_sizes': (100, 75, 50, 25, 10), 'alpha': 0.01}\n",
      "179139.57564360186 {'max_iter': 8902, 'hidden_layer_sizes': (50, 25, 10), 'alpha': 0.01}\n",
      "170938.81681144692 {'max_iter': 6747, 'hidden_layer_sizes': (125, 100, 75, 50, 25, 10), 'alpha': 0.01}\n"
     ]
    }
   ],
   "source": [
    "cvres = grid_search.cv_results_\n",
    "\n",
    "for mean_score, params in zip(cvres[\"mean_test_score\"], cvres[\"params\"]):\n",
    "    print(np.sqrt(-mean_score), params)"
   ]
  },
  {
   "cell_type": "code",
   "execution_count": 342,
   "metadata": {},
   "outputs": [
    {
     "data": {
      "text/html": [
       "<style>#sk-container-id-78 {color: black;}#sk-container-id-78 pre{padding: 0;}#sk-container-id-78 div.sk-toggleable {background-color: white;}#sk-container-id-78 label.sk-toggleable__label {cursor: pointer;display: block;width: 100%;margin-bottom: 0;padding: 0.3em;box-sizing: border-box;text-align: center;}#sk-container-id-78 label.sk-toggleable__label-arrow:before {content: \"▸\";float: left;margin-right: 0.25em;color: #696969;}#sk-container-id-78 label.sk-toggleable__label-arrow:hover:before {color: black;}#sk-container-id-78 div.sk-estimator:hover label.sk-toggleable__label-arrow:before {color: black;}#sk-container-id-78 div.sk-toggleable__content {max-height: 0;max-width: 0;overflow: hidden;text-align: left;background-color: #f0f8ff;}#sk-container-id-78 div.sk-toggleable__content pre {margin: 0.2em;color: black;border-radius: 0.25em;background-color: #f0f8ff;}#sk-container-id-78 input.sk-toggleable__control:checked~div.sk-toggleable__content {max-height: 200px;max-width: 100%;overflow: auto;}#sk-container-id-78 input.sk-toggleable__control:checked~label.sk-toggleable__label-arrow:before {content: \"▾\";}#sk-container-id-78 div.sk-estimator input.sk-toggleable__control:checked~label.sk-toggleable__label {background-color: #d4ebff;}#sk-container-id-78 div.sk-label input.sk-toggleable__control:checked~label.sk-toggleable__label {background-color: #d4ebff;}#sk-container-id-78 input.sk-hidden--visually {border: 0;clip: rect(1px 1px 1px 1px);clip: rect(1px, 1px, 1px, 1px);height: 1px;margin: -1px;overflow: hidden;padding: 0;position: absolute;width: 1px;}#sk-container-id-78 div.sk-estimator {font-family: monospace;background-color: #f0f8ff;border: 1px dotted black;border-radius: 0.25em;box-sizing: border-box;margin-bottom: 0.5em;}#sk-container-id-78 div.sk-estimator:hover {background-color: #d4ebff;}#sk-container-id-78 div.sk-parallel-item::after {content: \"\";width: 100%;border-bottom: 1px solid gray;flex-grow: 1;}#sk-container-id-78 div.sk-label:hover label.sk-toggleable__label {background-color: #d4ebff;}#sk-container-id-78 div.sk-serial::before {content: \"\";position: absolute;border-left: 1px solid gray;box-sizing: border-box;top: 0;bottom: 0;left: 50%;z-index: 0;}#sk-container-id-78 div.sk-serial {display: flex;flex-direction: column;align-items: center;background-color: white;padding-right: 0.2em;padding-left: 0.2em;position: relative;}#sk-container-id-78 div.sk-item {position: relative;z-index: 1;}#sk-container-id-78 div.sk-parallel {display: flex;align-items: stretch;justify-content: center;background-color: white;position: relative;}#sk-container-id-78 div.sk-item::before, #sk-container-id-78 div.sk-parallel-item::before {content: \"\";position: absolute;border-left: 1px solid gray;box-sizing: border-box;top: 0;bottom: 0;left: 50%;z-index: -1;}#sk-container-id-78 div.sk-parallel-item {display: flex;flex-direction: column;z-index: 1;position: relative;background-color: white;}#sk-container-id-78 div.sk-parallel-item:first-child::after {align-self: flex-end;width: 50%;}#sk-container-id-78 div.sk-parallel-item:last-child::after {align-self: flex-start;width: 50%;}#sk-container-id-78 div.sk-parallel-item:only-child::after {width: 0;}#sk-container-id-78 div.sk-dashed-wrapped {border: 1px dashed gray;margin: 0 0.4em 0.5em 0.4em;box-sizing: border-box;padding-bottom: 0.4em;background-color: white;}#sk-container-id-78 div.sk-label label {font-family: monospace;font-weight: bold;display: inline-block;line-height: 1.2em;}#sk-container-id-78 div.sk-label-container {text-align: center;}#sk-container-id-78 div.sk-container {/* jupyter's `normalize.less` sets `[hidden] { display: none; }` but bootstrap.min.css set `[hidden] { display: none !important; }` so we also need the `!important` here to be able to override the default hidden behavior on the sphinx rendered scikit-learn.org. See: https://github.com/scikit-learn/scikit-learn/issues/21755 */display: inline-block !important;position: relative;}#sk-container-id-78 div.sk-text-repr-fallback {display: none;}</style><div id=\"sk-container-id-78\" class=\"sk-top-container\"><div class=\"sk-text-repr-fallback\"><pre>MLPRegressor(alpha=0.01, hidden_layer_sizes=(100, 75, 50, 25, 10),\n",
       "             max_iter=2183)</pre><b>In a Jupyter environment, please rerun this cell to show the HTML representation or trust the notebook. <br />On GitHub, the HTML representation is unable to render, please try loading this page with nbviewer.org.</b></div><div class=\"sk-container\" hidden><div class=\"sk-item\"><div class=\"sk-estimator sk-toggleable\"><input class=\"sk-toggleable__control sk-hidden--visually\" id=\"sk-estimator-id-182\" type=\"checkbox\" checked><label for=\"sk-estimator-id-182\" class=\"sk-toggleable__label sk-toggleable__label-arrow\">MLPRegressor</label><div class=\"sk-toggleable__content\"><pre>MLPRegressor(alpha=0.01, hidden_layer_sizes=(100, 75, 50, 25, 10),\n",
       "             max_iter=2183)</pre></div></div></div></div></div>"
      ],
      "text/plain": [
       "MLPRegressor(alpha=0.01, hidden_layer_sizes=(100, 75, 50, 25, 10),\n",
       "             max_iter=2183)"
      ]
     },
     "execution_count": 342,
     "metadata": {},
     "output_type": "execute_result"
    }
   ],
   "source": [
    "grid_search.best_estimator_"
   ]
  },
  {
   "cell_type": "code",
   "execution_count": 343,
   "metadata": {},
   "outputs": [
    {
     "name": "stdout",
     "output_type": "stream",
     "text": [
      "Modified_NN_Random_search_Train RMSE: 4557.5831169372495\n"
     ]
    }
   ],
   "source": [
    "#Train RMSE\n",
    "train_pred = grid_search.best_estimator_.predict(train_x)\n",
    "\n",
    "train_mse = mean_squared_error(train_target, train_pred)\n",
    "\n",
    "train_rmse = np.sqrt(train_mse)\n",
    "\n",
    "print('Modified_NN_Random_search_Train RMSE: {}' .format(train_rmse))"
   ]
  },
  {
   "cell_type": "code",
   "execution_count": 344,
   "metadata": {},
   "outputs": [
    {
     "name": "stdout",
     "output_type": "stream",
     "text": [
      "Modified_NN_Random_search_Test RMSE: 160114.34033512385\n"
     ]
    }
   ],
   "source": [
    "#Test RMSE\n",
    "test_pred = grid_search.best_estimator_.predict(test_x)\n",
    "\n",
    "test_mse = mean_squared_error(test_target, test_pred)\n",
    "\n",
    "test_rmse = np.sqrt(test_mse)\n",
    "\n",
    "print('Modified_NN_Random_search_Test RMSE: {}' .format(test_rmse))"
   ]
  },
  {
   "cell_type": "markdown",
   "metadata": {},
   "source": [
    "Over few correction on randomized grid search still the overfitting concern persists"
   ]
  },
  {
   "cell_type": "markdown",
   "metadata": {},
   "source": [
    "# Discussion (3 points in total)\n"
   ]
  },
  {
   "cell_type": "markdown",
   "metadata": {},
   "source": [
    "## List the train and test values of each model you built (1 points)"
   ]
  },
  {
   "cell_type": "raw",
   "metadata": {},
   "source": [
    "Baseline Train RMSE: 332447.6233465298\n",
    "Baseline Test RMSE: 320569.91745033476\n",
    "\n",
    "---Model1---\n",
    "Decision Tree Train Model RMSE: 26065.34836573627\n",
    "Decision Tree Test Model RMSE: 220339.37438473367\n",
    "\n",
    "---Model1_correction----\n",
    "DT_Random_Grid_search Train RMSE: 107518.91626385371\n",
    "DT_Random_Grid_search Test RMSE: 186720.9726125196\n",
    "\n",
    "---Model2---\n",
    "Voting_Regressor_Train RMSE: 2405213711582.3926\n",
    "Voting_Regessor_Test RMSE: 2757795690589.5703\n",
    "\n",
    "---Model2_correction---\n",
    "Random_forest_Train RMSE: 70174.30148425935\n",
    "Random_forest_Test RMSE: 142144.68891550097\n",
    "\n",
    "Extra_Trees_Train RMSE: 44502.152906479016\n",
    "Extra_Trees_Test RMSE: 118513.93107396505\n",
    "\n",
    "---Model3---\n",
    "GBR_Train RMSE: 69784.61063333869\n",
    "GBR_Test RMSE: 136289.93515976617\n",
    "\n",
    "---Model3_correction--\n",
    "modified_GBR_Train RMSE: 158029.40260240863\n",
    "modified_GBR_Test RMSE: 302305.79740425944\n",
    "\n",
    "---Model4---\n",
    "NN_Train RMSE: 339658.47208864306\n",
    "NN_Test RMSE: 329209.77730830753\n",
    "\n",
    "--- Grid_search---\n",
    "NN_Random_search_Train RMSE: 5763.080455402821\n",
    "NN_Random_search_Test RMSE: 160047.6136512824\n",
    "\n",
    "Modified_NN_Random_search_Train RMSE: 4557.5831169372495\n",
    "Modified_NN_Random_search_Test RMSE: 160114.34033512385"
   ]
  },
  {
   "cell_type": "markdown",
   "metadata": {},
   "source": [
    "## Which model performs the best and why? (1 points) \n",
    "\n",
    "Hint: The best model is the one that has the best TEST value (regardless of any of the training values). If you select your model based on TRAIN values, you will lose points."
   ]
  },
  {
   "cell_type": "raw",
   "metadata": {},
   "source": [
    "Based on the lowest TEST value (RMSE in this case), regardless of the train values and overfitting concerns.\n",
    "The Extra_Trees_Test model demonstrates(Extra_Trees_Test RMSE: 118513.93107396505)the best generalization performance and most accurate predictions on the unseen test data compared to the other models."
   ]
  },
  {
   "cell_type": "markdown",
   "metadata": {},
   "source": [
    "## How does it compare to baseline? (1 points)"
   ]
  },
  {
   "cell_type": "raw",
   "metadata": {},
   "source": [
    "The Extra_Trees_Test RMSE of 118513.931073696585 is significantly lower than the Baseline Test RMSE.\n",
    "Therefore, the Extra_Trees_Test model is a significant improvement over the baseline in terms of predictive accuracy on the unseen test data."
   ]
  }
 ],
 "metadata": {
  "kernelspec": {
   "display_name": "Python 3 (ipykernel)",
   "language": "python",
   "name": "python3"
  },
  "language_info": {
   "codemirror_mode": {
    "name": "ipython",
    "version": 3
   },
   "file_extension": ".py",
   "mimetype": "text/x-python",
   "name": "python",
   "nbconvert_exporter": "python",
   "pygments_lexer": "ipython3",
   "version": "3.11.4"
  },
  "toc": {
   "base_numbering": 1,
   "nav_menu": {},
   "number_sections": false,
   "sideBar": true,
   "skip_h1_title": false,
   "title_cell": "Table of Contents",
   "title_sidebar": "Contents",
   "toc_cell": false,
   "toc_position": {},
   "toc_section_display": true,
   "toc_window_display": false
  },
  "varInspector": {
   "cols": {
    "lenName": 16,
    "lenType": 16,
    "lenVar": 40
   },
   "kernels_config": {
    "python": {
     "delete_cmd_postfix": "",
     "delete_cmd_prefix": "del ",
     "library": "var_list.py",
     "varRefreshCmd": "print(var_dic_list())"
    },
    "r": {
     "delete_cmd_postfix": ") ",
     "delete_cmd_prefix": "rm(",
     "library": "var_list.r",
     "varRefreshCmd": "cat(var_dic_list()) "
    }
   },
   "types_to_exclude": [
    "module",
    "function",
    "builtin_function_or_method",
    "instance",
    "_Feature"
   ],
   "window_display": false
  }
 },
 "nbformat": 4,
 "nbformat_minor": 2
}
